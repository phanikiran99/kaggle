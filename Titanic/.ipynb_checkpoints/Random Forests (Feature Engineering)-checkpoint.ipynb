{
 "cells": [
  {
   "cell_type": "code",
   "execution_count": 2,
   "metadata": {
    "collapsed": false
   },
   "outputs": [],
   "source": [
    "# Import Libraries \n",
    "import pandas as pd\n",
    "import matplotlib.pyplot as plt\n",
    "from sklearn import linear_model\n",
    "from sklearn import ensemble\n",
    "import seaborn as sns\n",
    "from sklearn.learning_curve import learning_curve\n",
    "from sklearn.metrics import roc_auc_score\n",
    "import re\n",
    "import numpy as np\n",
    "# Ensures graphs to be displayed in ipynb\n",
    "%matplotlib inline   \n",
    "sns.set()"
   ]
  },
  {
   "cell_type": "code",
   "execution_count": 3,
   "metadata": {
    "collapsed": false
   },
   "outputs": [],
   "source": [
    "# read both train and testdata into dataframe\n",
    "titanic_df = pd.read_csv('train.csv',header=0)  # Always use header=0 to read header of csv files\n",
    "titanic_test_df = pd.read_csv('test.csv',header=0)\n",
    "\n",
    "# Merge Both files so that we get best average values\n",
    "merged_df = pd.concat([titanic_df,titanic_test_df])"
   ]
  },
  {
   "cell_type": "code",
   "execution_count": 4,
   "metadata": {
    "collapsed": false
   },
   "outputs": [
    {
     "name": "stdout",
     "output_type": "stream",
     "text": [
      "<class 'pandas.core.frame.DataFrame'>\n",
      "RangeIndex: 891 entries, 0 to 890\n",
      "Data columns (total 12 columns):\n",
      "PassengerId    891 non-null int64\n",
      "Survived       891 non-null int64\n",
      "Pclass         891 non-null int64\n",
      "Name           891 non-null object\n",
      "Sex            891 non-null object\n",
      "Age            714 non-null float64\n",
      "SibSp          891 non-null int64\n",
      "Parch          891 non-null int64\n",
      "Ticket         891 non-null object\n",
      "Fare           891 non-null float64\n",
      "Cabin          204 non-null object\n",
      "Embarked       889 non-null object\n",
      "dtypes: float64(2), int64(5), object(5)\n",
      "memory usage: 83.6+ KB\n",
      "****************************************\n",
      "<class 'pandas.core.frame.DataFrame'>\n",
      "RangeIndex: 418 entries, 0 to 417\n",
      "Data columns (total 11 columns):\n",
      "PassengerId    418 non-null int64\n",
      "Pclass         418 non-null int64\n",
      "Name           418 non-null object\n",
      "Sex            418 non-null object\n",
      "Age            332 non-null float64\n",
      "SibSp          418 non-null int64\n",
      "Parch          418 non-null int64\n",
      "Ticket         418 non-null object\n",
      "Fare           417 non-null float64\n",
      "Cabin          91 non-null object\n",
      "Embarked       418 non-null object\n",
      "dtypes: float64(2), int64(4), object(5)\n",
      "memory usage: 36.0+ KB\n",
      "****************************************\n",
      "<class 'pandas.core.frame.DataFrame'>\n",
      "Int64Index: 1309 entries, 0 to 417\n",
      "Data columns (total 12 columns):\n",
      "Age            1046 non-null float64\n",
      "Cabin          295 non-null object\n",
      "Embarked       1307 non-null object\n",
      "Fare           1308 non-null float64\n",
      "Name           1309 non-null object\n",
      "Parch          1309 non-null int64\n",
      "PassengerId    1309 non-null int64\n",
      "Pclass         1309 non-null int64\n",
      "Sex            1309 non-null object\n",
      "SibSp          1309 non-null int64\n",
      "Survived       891 non-null float64\n",
      "Ticket         1309 non-null object\n",
      "dtypes: float64(3), int64(4), object(5)\n",
      "memory usage: 132.9+ KB\n"
     ]
    }
   ],
   "source": [
    "# we can see that the passenger details have been imported and we have all kind of dataformats available for each data field. \n",
    "# Next step is to munging the data \n",
    "# lets describe and get the info of the data to do so\n",
    "titanic_df.info() \n",
    "print '*'* 40\n",
    "titanic_test_df.info()\n",
    "# we can observe that couple of information for age,embarked and cabin are missing. Out of which Embarked and Age seems relevent\n",
    "print '*'*40\n",
    "merged_df.info()"
   ]
  },
  {
   "cell_type": "code",
   "execution_count": 5,
   "metadata": {
    "collapsed": true
   },
   "outputs": [],
   "source": [
    "def clean_df(df):\n",
    "    \"\"\" This Function processes Embarked Fill Missing values with 'S' \n",
    "                                Gender Convert to 0 or 1 for female and male\n",
    "                                Family as ParentChild(Parch) + Sibling Spouse (SibSp)\"\"\"\n",
    "    # we can see that we have maximum 'S' so let fill in with 'S' for those missing 2 values \n",
    "    df['Embarked'] = df['Embarked'].fillna('S')\n",
    "    # as it is hard to work on string data in ML lets convert the 'sex' to 'gender' and have values 0,1 for m and f\n",
    "    df['Gender'] = df['Sex'].map({'female':0, 'male':1}).astype(int)\n",
    "    # now lets cleanup the parch (parent and children) and siblings \n",
    "    df['Family'] = df['Parch'] + df['SibSp']\n",
    "    df = df.drop(['Parch','SibSp','Sex'],axis=1)\n",
    "    \n",
    "    # assign fare for missing values we are considering only the median fare of passenger class 3\n",
    "    df['Fare'] = df['Fare'].fillna(cleaned_df[cleaned_df['Pclass']==3]['Fare'].median())\n",
    "    return df"
   ]
  },
  {
   "cell_type": "code",
   "execution_count": 6,
   "metadata": {
    "collapsed": false
   },
   "outputs": [],
   "source": [
    "#  assign to a new varaible before that so the data is not lost\n",
    "cleaned_df = titanic_df.copy()\n",
    "# Lets display all datatypes that are not good for machine learning, like string/objects\n",
    "cleaned_df = clean_df(cleaned_df)  # This Cleans Embarked,Gender and Family \n",
    "# cleaned_df.info()\n",
    "\n",
    "# Clean test data too \n",
    "cleaned_test_df = titanic_test_df.copy()\n",
    "cleaned_test_df = clean_df(cleaned_test_df) # This Cleans Embarked,Gender and Family \n",
    "\n",
    "# Clean Merged Data\n",
    "cleaned_merged_df = merged_df.copy()\n",
    "cleaned_merged_df = clean_df(cleaned_merged_df) "
   ]
  },
  {
   "cell_type": "code",
   "execution_count": 7,
   "metadata": {
    "collapsed": false
   },
   "outputs": [
    {
     "data": {
      "text/plain": [
       "<seaborn.axisgrid.JointGrid at 0x3d61940>"
      ]
     },
     "execution_count": 7,
     "metadata": {},
     "output_type": "execute_result"
    },
    {
     "data": {
      "image/png": "[encoded data removed]",
      "text/plain": [
       "<matplotlib.figure.Figure at 0x6f56a20>"
      ]
     },
     "metadata": {},
     "output_type": "display_data"
    }
   ],
   "source": [
    "# Distribution of price over Passenger class\n",
    "cleaned_merged_df[['Fare','Pclass']]\n",
    "sns.jointplot('Fare','Pclass',cleaned_merged_df[['Fare','Pclass']])"
   ]
  },
  {
   "cell_type": "code",
   "execution_count": 8,
   "metadata": {
    "collapsed": true
   },
   "outputs": [],
   "source": [
    "# Now let us try to feature engineer the dataset \n",
    "# i.e create new features out of existing features , we also need to fix the age of the passengers which are still missing\n",
    "#\n",
    "# below is intermediate function to return only few titles apart from all , just to reduce simular features \n",
    "def compressTitle(title):\n",
    "    if title in ['Mr','Don','Rev']:\n",
    "        return 'Mr'\n",
    "    elif title in ['Mrs','Lady','Mme']:\n",
    "        return 'Mrs'\n",
    "    elif title in ['Ms','Mlle','Miss']:\n",
    "        return 'Miss'\n",
    "    elif title in ['Master','Junior','Jonkheer']:\n",
    "        return 'Master'\n",
    "    else:\n",
    "        return 'Sir'\n",
    "def feature_engineer(df):\n",
    "    \"\"\" This function will fix the missing values for age in DF,\n",
    "        Fill Missing Values for Cabin and create binary features\n",
    "        Fill Missing values for Embarked and create Binary features\n",
    "        Try to Analyze the ticket number and get some information out of it\"\"\"\n",
    "    # Work on age , But before that lets figure out the Passenger title from the name\n",
    "    # Instead we can try to create a new model that predicts the age , using any linear regression model. \n",
    "    # But first lets try to split the name and try to find the title of the person. \n",
    "    df['Title'] = df['Name'].apply(lambda x: re.findall('\\s+([a-zA-z]+)+\\.',x)[0])\n",
    "    # by Applying above regex we will get several titles like Capt,, Sir, etc.. which we may want to group similar ones\n",
    "    # And lets have only 4 Titles , Master, Sir, Mr, Miss \n",
    "    \n",
    "    df['Title'] = df['Title'].apply(compressTitle)\n",
    "    # now that we got all the titles for all people we can take the age median for different groups seperately\n",
    "    # we are doing in this way as it is not good to give the average age for infant and for the elder ones \n",
    "    all_titles = df['Title'].unique()   # get all titles that are compressed\n",
    "    for title in all_titles:\n",
    "        df.loc[df['Title']==title,'Age'] = df.loc[df['Title']==title,'Age'].fillna(df.loc[df['Title']==title]['Age'].median())\n",
    "    # With this the age is also fixed now. \n",
    "    \n",
    "    # Work on Cabin , We can observe that the cabin details are starting with charecters and followed by numerics\n",
    "    # from the detail here http://www.titanicandco.com/inside.html we can find that the First charecter in each Cabin\n",
    "    # is nothing but the DeckNumber We have A,B,C,D,E,F,G,L,O,T\n",
    "    # in our data there are so many missing cabin numbers \n",
    "    # we can try to fill those missing cabin numbers if we try to extract the relations between people\n",
    "    # i.e it is very likely if 2 persons are related will be in same cabin/deck \n",
    "    # May be we can get it from persons last name, However this model can some times cause problems \n",
    "    # as it is not mandate for people belonging to same last name also belong to same family \n",
    "    # Also there are atleast 102 last names in the dataset (train)\n",
    "    # But just assign the last name or Family name for future purpose\n",
    "    df['Lastname'] = df['Name'].apply(lambda x: re.findall('([A-Za-z]+)\\,\\s', x)[0])\n",
    "    \n",
    "    # Now lets work on deck values, first create new column deck and fill out all the missing values with U (Unknown)\n",
    "    df['Cabin'] = df['Cabin'].fillna('U0')\n",
    "    df['Deck'] = df['Cabin'].apply(lambda x:re.findall('([A-Za-z])+',x)[0])\n",
    "    \n",
    "    # As the charecter data wont be of much use, let us create binary features for Deck & Title\n",
    "    df = pd.concat([df,pd.get_dummies(df['Deck']).rename(columns=lambda x: 'Deck_' + str(x))],axis=1)\n",
    "    df = pd.concat([df,pd.get_dummies(df['Title']).rename(columns=lambda x: 'Title_' + str(x))],axis=1)\n",
    "    # we also have G and O for decks which we dont have any record in train data but if we get test data then we get extra columns\n",
    "    # Similary Deck T is available in Test but not in train\n",
    "    if 'Deck_O' not in df.columns:\n",
    "        df['Deck_O'] = 0\n",
    "    if 'Deck_L' not in df.columns:\n",
    "        df['Deck_L'] = 0\n",
    "    if 'Deck_T' not in df.columns:\n",
    "        df['Deck_T'] = 0\n",
    "        \n",
    "    # Create binary features for Embarked, we can see that most of Embarked as 'S'  so lets fill missing values with 'S'\n",
    "    df['Embarked'] = df['Embarked'].fillna('S')\n",
    "    df = pd.concat([df,pd.get_dummies(df['Embarked']).rename(columns=lambda x: 'Embarekd_' + str(x))],axis=1)\n",
    "    return df\n",
    "\n",
    "    \n"
   ]
  },
  {
   "cell_type": "code",
   "execution_count": 63,
   "metadata": {
    "collapsed": false
   },
   "outputs": [],
   "source": [
    "# Apply Above function \n",
    "final_merged_df = feature_engineer(cleaned_merged_df)"
   ]
  },
  {
   "cell_type": "code",
   "execution_count": 69,
   "metadata": {
    "collapsed": false
   },
   "outputs": [],
   "source": [
    "def normalize_data(df):\n",
    "    \"\"\" This function will normalize the data so that the model value will not range to low to large extents\"\"\"\n",
    "    for col in df.columns:\n",
    "        if df[col].dtypes == object:\n",
    "            pass\n",
    "        else:\n",
    "            if col == 'Survived' or col =='PassengerId':\n",
    "                df = df\n",
    "            else:\n",
    "                df[col] = (df[col] - df[col].mean())/df[col].std()\n",
    "            # this value is nothing but (original - mean)/Standard Deviation\n",
    "    return df\n"
   ]
  },
  {
   "cell_type": "code",
   "execution_count": 75,
   "metadata": {
    "collapsed": false
   },
   "outputs": [],
   "source": [
    "final_merged_df = normalize_data(final_merged_df)"
   ]
  },
  {
   "cell_type": "code",
   "execution_count": 76,
   "metadata": {
    "collapsed": false
   },
   "outputs": [],
   "source": [
    "# Assign values for which we have survied to train data and nan to test data for predections\n",
    "final_df = final_merged_df[final_merged_df['Survived'].notnull()]\n",
    "final_test_df = final_merged_df[final_merged_df['Survived'].isnull()]\n",
    "# Drop all columns with Objects\n",
    "train_df = final_df.drop(final_df.columns[final_df.dtypes == object], axis=1) \n",
    "test_df = final_test_df.drop(final_test_df.columns[final_test_df.dtypes == object], axis=1)\n",
    "test_df = test_df.drop('Survived', axis=1)\n",
    "trainCols = sorted(train_df.columns.tolist())\n",
    "testCols = sorted(test_df.columns.tolist())\n",
    "train_df = train_df[trainCols].fillna(0)\n",
    "test_df = test_df[testCols].fillna(0)"
   ]
  },
  {
   "cell_type": "code",
   "execution_count": 79,
   "metadata": {
    "collapsed": false
   },
   "outputs": [],
   "source": [
    "# Random Forests Model\n",
    "X = train_df.drop('Survived',axis=1)\n",
    "y = train_df['Survived']\n",
    "X_test = test_df\n",
    "rfModel = ensemble.RandomForestClassifier(n_estimators=900, random_state = 25, n_jobs=-1)\n",
    "rfModel.fit(X,y)\n",
    "y_pred = rfModel.predict(X_test)\n",
    "# print \"AUC - ROC : \", roc_auc_score(y_pred,rfModel.oob_prediction)"
   ]
  },
  {
   "cell_type": "code",
   "execution_count": 80,
   "metadata": {
    "collapsed": false
   },
   "outputs": [
    {
     "data": {
      "text/plain": [
       "1.0"
      ]
     },
     "execution_count": 80,
     "metadata": {},
     "output_type": "execute_result"
    }
   ],
   "source": [
    "rfModel.score(X_test,y_pred)"
   ]
  },
  {
   "cell_type": "code",
   "execution_count": 81,
   "metadata": {
    "collapsed": false
   },
   "outputs": [],
   "source": [
    "submission = pd.DataFrame({\n",
    "        \"PassengerId\":X_test['PassengerId'],\n",
    "        \"Survived\":y_pred\n",
    "    })\n",
    "submission.to_csv('titanic_rf.csv',index=False)"
   ]
  },
  {
   "cell_type": "code",
   "execution_count": 82,
   "metadata": {
    "collapsed": false
   },
   "outputs": [
    {
     "data": {
      "text/plain": [
       "0.84175084175084181"
      ]
     },
     "execution_count": 82,
     "metadata": {},
     "output_type": "execute_result"
    }
   ],
   "source": [
    "# Logistic Regression\n",
    "lrModel = linear_model.LogisticRegression(random_state = 25)\n",
    "lrModel.fit(X,y)\n",
    "y_pred = lrModel.predict(X_test)\n",
    "lrModel.score(X,y)"
   ]
  },
  {
   "cell_type": "code",
   "execution_count": 83,
   "metadata": {
    "collapsed": true
   },
   "outputs": [],
   "source": [
    "submission = pd.DataFrame({\n",
    "        \"PassengerId\":X_test['PassengerId'],\n",
    "        \"Survived\": y_pred\n",
    "    })\n",
    "submission.to_csv('titanic_lr.csv',index=False)"
   ]
  },
  {
   "cell_type": "code",
   "execution_count": null,
   "metadata": {
    "collapsed": true
   },
   "outputs": [],
   "source": []
  }
 ],
 "metadata": {
  "kernelspec": {
   "display_name": "Python 2",
   "language": "python",
   "name": "python2"
  },
  "language_info": {
   "codemirror_mode": {
    "name": "ipython",
    "version": 2
   },
   "file_extension": ".py",
   "mimetype": "text/x-python",
   "name": "python",
   "nbconvert_exporter": "python",
   "pygments_lexer": "ipython2",
   "version": "2.7.11"
  }
 },
 "nbformat": 4,
 "nbformat_minor": 0
}
