{
 "cells": [
  {
   "cell_type": "code",
   "execution_count": 41,
   "metadata": {
    "collapsed": false
   },
   "outputs": [],
   "source": [
    "# Import Libraries \n",
    "import pandas as pd\n",
    "import matplotlib.pyplot as plt\n",
    "from sklearn import linear_model\n",
    "from sklearn import ensemble\n",
    "import seaborn as sns\n",
    "from sklearn.learning_curve import learning_curve,validation_curve\n",
    "from sklearn.metrics import roc_auc_score, confusion_matrix\n",
    "from sklearn import preprocessing\n",
    "from sklearn.cross_validation import train_test_split,cross_val_score\n",
    "from sklearn.svm import SVC\n",
    "import re\n",
    "import numpy as np\n",
    "# Ensures graphs to be displayed in ipynb\n",
    "%matplotlib inline   \n",
    "sns.set()"
   ]
  },
  {
   "cell_type": "code",
   "execution_count": 42,
   "metadata": {
    "collapsed": false
   },
   "outputs": [],
   "source": [
    "# read both train and testdata into dataframe\n",
    "titanic_df = pd.read_csv('train.csv',header=0)  # Always use header=0 to read header of csv files\n",
    "titanic_test_df = pd.read_csv('test.csv',header=0)\n",
    "\n",
    "# Merge Both files so that we get best average values\n",
    "merged_df = pd.concat([titanic_df,titanic_test_df])"
   ]
  },
  {
   "cell_type": "code",
   "execution_count": 43,
   "metadata": {
    "collapsed": false
   },
   "outputs": [
    {
     "name": "stdout",
     "output_type": "stream",
     "text": [
      "<class 'pandas.core.frame.DataFrame'>\n",
      "RangeIndex: 891 entries, 0 to 890\n",
      "Data columns (total 12 columns):\n",
      "PassengerId    891 non-null int64\n",
      "Survived       891 non-null int64\n",
      "Pclass         891 non-null int64\n",
      "Name           891 non-null object\n",
      "Sex            891 non-null object\n",
      "Age            714 non-null float64\n",
      "SibSp          891 non-null int64\n",
      "Parch          891 non-null int64\n",
      "Ticket         891 non-null object\n",
      "Fare           891 non-null float64\n",
      "Cabin          204 non-null object\n",
      "Embarked       889 non-null object\n",
      "dtypes: float64(2), int64(5), object(5)\n",
      "memory usage: 83.6+ KB\n",
      "****************************************\n",
      "<class 'pandas.core.frame.DataFrame'>\n",
      "RangeIndex: 418 entries, 0 to 417\n",
      "Data columns (total 11 columns):\n",
      "PassengerId    418 non-null int64\n",
      "Pclass         418 non-null int64\n",
      "Name           418 non-null object\n",
      "Sex            418 non-null object\n",
      "Age            332 non-null float64\n",
      "SibSp          418 non-null int64\n",
      "Parch          418 non-null int64\n",
      "Ticket         418 non-null object\n",
      "Fare           417 non-null float64\n",
      "Cabin          91 non-null object\n",
      "Embarked       418 non-null object\n",
      "dtypes: float64(2), int64(4), object(5)\n",
      "memory usage: 36.0+ KB\n",
      "****************************************\n",
      "<class 'pandas.core.frame.DataFrame'>\n",
      "Int64Index: 1309 entries, 0 to 417\n",
      "Data columns (total 12 columns):\n",
      "Age            1046 non-null float64\n",
      "Cabin          295 non-null object\n",
      "Embarked       1307 non-null object\n",
      "Fare           1308 non-null float64\n",
      "Name           1309 non-null object\n",
      "Parch          1309 non-null int64\n",
      "PassengerId    1309 non-null int64\n",
      "Pclass         1309 non-null int64\n",
      "Sex            1309 non-null object\n",
      "SibSp          1309 non-null int64\n",
      "Survived       891 non-null float64\n",
      "Ticket         1309 non-null object\n",
      "dtypes: float64(3), int64(4), object(5)\n",
      "memory usage: 132.9+ KB\n"
     ]
    }
   ],
   "source": [
    "# we can see that the passenger details have been imported and we have all kind of dataformats available for each data field. \n",
    "# Next step is to munging the data \n",
    "# lets describe and get the info of the data to do so\n",
    "titanic_df.info() \n",
    "print '*'* 40\n",
    "titanic_test_df.info()\n",
    "# we can observe that couple of information for age,embarked and cabin are missing. Out of which Embarked and Age seems relevent\n",
    "print '*'*40\n",
    "merged_df.info()"
   ]
  },
  {
   "cell_type": "code",
   "execution_count": 44,
   "metadata": {
    "collapsed": true
   },
   "outputs": [],
   "source": [
    "def clean_df(df):\n",
    "    \"\"\" This Function processes Embarked Fill Missing values with 'S' \n",
    "                                Gender Convert to 0 or 1 for female and male\n",
    "                                Family as ParentChild(Parch) + Sibling Spouse (SibSp)\"\"\"\n",
    "    # we can see that we have maximum 'S' so let fill in with 'S' for those missing 2 values \n",
    "    df['Embarked'] = df['Embarked'].fillna('S')\n",
    "    # as it is hard to work on string data in ML lets convert the 'sex' to 'gender' and have values 0,1 for m and f\n",
    "    df['Gender'] = df['Sex'].map({'female':0, 'male':1}).astype(int)\n",
    "    # now lets cleanup the parch (parent and children) and siblings \n",
    "    df['Family'] = df['Parch'] + df['SibSp']\n",
    "    df = df.drop(['Parch','SibSp','Sex'],axis=1)\n",
    "    \n",
    "    # assign fare for missing values we are considering only the median fare of passenger class 3\n",
    "    df['Fare'] = df['Fare'].fillna(cleaned_df[cleaned_df['Pclass']==3]['Fare'].median())\n",
    "    return df"
   ]
  },
  {
   "cell_type": "code",
   "execution_count": 45,
   "metadata": {
    "collapsed": false
   },
   "outputs": [],
   "source": [
    "#  assign to a new varaible before that so the data is not lost\n",
    "cleaned_df = titanic_df.copy()\n",
    "# Lets display all datatypes that are not good for machine learning, like string/objects\n",
    "cleaned_df = clean_df(cleaned_df)  # This Cleans Embarked,Gender and Family \n",
    "# cleaned_df.info()\n",
    "\n",
    "# Clean test data too \n",
    "cleaned_test_df = titanic_test_df.copy()\n",
    "cleaned_test_df = clean_df(cleaned_test_df) # This Cleans Embarked,Gender and Family \n",
    "\n",
    "# Clean Merged Data\n",
    "cleaned_merged_df = merged_df.copy()\n",
    "cleaned_merged_df = clean_df(cleaned_merged_df) "
   ]
  },
  {
   "cell_type": "code",
   "execution_count": 46,
   "metadata": {
    "collapsed": false
   },
   "outputs": [
    {
     "data": {
      "text/plain": [
       "<seaborn.axisgrid.JointGrid at 0xd91af60>"
      ]
     },
     "execution_count": 46,
     "metadata": {},
     "output_type": "execute_result"
    },
    {
     "data": {
      "image/png": "[encoded data removed]",
      "text/plain": [
       "<matplotlib.figure.Figure at 0xb23b240>"
      ]
     },
     "metadata": {},
     "output_type": "display_data"
    }
   ],
   "source": [
    "# Distribution of price over Passenger class\n",
    "cleaned_merged_df[['Fare','Pclass']]\n",
    "sns.jointplot('Fare','Pclass',cleaned_merged_df[['Fare','Pclass']])"
   ]
  },
  {
   "cell_type": "code",
   "execution_count": 47,
   "metadata": {
    "collapsed": true
   },
   "outputs": [],
   "source": [
    "# Now let us try to feature engineer the dataset \n",
    "# i.e create new features out of existing features , we also need to fix the age of the passengers which are still missing\n",
    "#\n",
    "# below is intermediate function to return only few titles apart from all , just to reduce simular features \n",
    "def compressTitle(title):\n",
    "    if title in ['Mr','Don','Rev']:\n",
    "        return 'Mr'\n",
    "    elif title in ['Mrs','Lady','Mme']:\n",
    "        return 'Mrs'\n",
    "    elif title in ['Ms','Mlle','Miss']:\n",
    "        return 'Miss'\n",
    "    elif title in ['Master','Junior','Jonkheer']:\n",
    "        return 'Master'\n",
    "    else:\n",
    "        return 'Sir'\n",
    "def feature_engineer(df):\n",
    "    \"\"\" This function will fix the missing values for age in DF,\n",
    "        Fill Missing Values for Cabin and create binary features\n",
    "        Fill Missing values for Embarked and create Binary features\n",
    "        Try to Analyze the ticket number and get some information out of it\"\"\"\n",
    "    # Work on age , But before that lets figure out the Passenger title from the name\n",
    "    # Instead we can try to create a new model that predicts the age , using any linear regression model. \n",
    "    # But first lets try to split the name and try to find the title of the person. \n",
    "    df['Title'] = df['Name'].apply(lambda x: re.findall('\\s+([a-zA-z]+)+\\.',x)[0])\n",
    "    # by Applying above regex we will get several titles like Capt,, Sir, etc.. which we may want to group similar ones\n",
    "    # And lets have only 4 Titles , Master, Sir, Mr, Miss \n",
    "    \n",
    "    df['Title'] = df['Title'].apply(compressTitle)\n",
    "    # now that we got all the titles for all people we can take the age median for different groups seperately\n",
    "    # we are doing in this way as it is not good to give the average age for infant and for the elder ones \n",
    "    all_titles = df['Title'].unique()   # get all titles that are compressed\n",
    "    for title in all_titles:\n",
    "        df.loc[df['Title']==title,'Age'] = df.loc[df['Title']==title,'Age'].fillna(df.loc[df['Title']==title]['Age'].median())\n",
    "    # With this the age is also fixed now. \n",
    "    \n",
    "    # Work on Cabin , We can observe that the cabin details are starting with charecters and followed by numerics\n",
    "    # from the detail here http://www.titanicandco.com/inside.html we can find that the First charecter in each Cabin\n",
    "    # is nothing but the DeckNumber We have A,B,C,D,E,F,G,L,O,T\n",
    "    # in our data there are so many missing cabin numbers \n",
    "    # we can try to fill those missing cabin numbers if we try to extract the relations between people\n",
    "    # i.e it is very likely if 2 persons are related will be in same cabin/deck \n",
    "    # May be we can get it from persons last name, However this model can some times cause problems \n",
    "    # as it is not mandate for people belonging to same last name also belong to same family \n",
    "    # Also there are atleast 102 last names in the dataset (train)\n",
    "    # But just assign the last name or Family name for future purpose\n",
    "    df['Lastname'] = df['Name'].apply(lambda x: re.findall('([A-Za-z]+)\\,\\s', x)[0])\n",
    "    \n",
    "    # Now lets work on deck values, first create new column deck and fill out all the missing values with U (Unknown)\n",
    "    df['Cabin'] = df['Cabin'].fillna('U0')\n",
    "    df['Deck'] = df['Cabin'].apply(lambda x:re.findall('([A-Za-z])+',x)[0])\n",
    "    \n",
    "    # As the charecter data wont be of much use, let us create binary features for Deck & Title\n",
    "    df = pd.concat([df,pd.get_dummies(df['Deck']).rename(columns=lambda x: 'Deck_' + str(x))],axis=1)\n",
    "    df = pd.concat([df,pd.get_dummies(df['Title']).rename(columns=lambda x: 'Title_' + str(x))],axis=1)\n",
    "    # we also have G and O for decks which we dont have any record in train data but if we get test data then we get extra columns\n",
    "    # Similary Deck T is available in Test but not in train\n",
    "    if 'Deck_O' not in df.columns:\n",
    "        df['Deck_O'] = 0\n",
    "    if 'Deck_L' not in df.columns:\n",
    "        df['Deck_L'] = 0\n",
    "    if 'Deck_T' not in df.columns:\n",
    "        df['Deck_T'] = 0\n",
    "        \n",
    "    # Create binary features for Embarked, we can see that most of Embarked as 'S'  so lets fill missing values with 'S'\n",
    "    df['Embarked'] = df['Embarked'].fillna('S')\n",
    "    df = pd.concat([df,pd.get_dummies(df['Embarked']).rename(columns=lambda x: 'Embarekd_' + str(x))],axis=1)\n",
    "    return df\n",
    "\n",
    "    \n"
   ]
  },
  {
   "cell_type": "code",
   "execution_count": 48,
   "metadata": {
    "collapsed": false
   },
   "outputs": [],
   "source": [
    "# Apply Above function \n",
    "final_merged_df = feature_engineer(cleaned_merged_df)"
   ]
  },
  {
   "cell_type": "code",
   "execution_count": 49,
   "metadata": {
    "collapsed": false
   },
   "outputs": [],
   "source": [
    "def normalize_data(df):\n",
    "    \"\"\" This function will normalize the data so that the model value will not range to low to large extents\"\"\"\n",
    "    for col in df.columns:\n",
    "        if df[col].dtypes == object:\n",
    "            pass\n",
    "        else:\n",
    "            if col == 'Survived' or col =='PassengerId':\n",
    "                df = df\n",
    "            else:\n",
    "                df[col] = abs((df[col] - df[col].mean())/df[col].std())\n",
    "            # this value is nothing but (original - mean)/Standard Deviation\n",
    "    return df\n"
   ]
  },
  {
   "cell_type": "code",
   "execution_count": 50,
   "metadata": {
    "collapsed": false
   },
   "outputs": [],
   "source": [
    "final_merged_df = normalize_data(final_merged_df)\n",
    "# Surely this feature normalization is not working "
   ]
  },
  {
   "cell_type": "code",
   "execution_count": 51,
   "metadata": {
    "collapsed": false
   },
   "outputs": [],
   "source": [
    "# Assign values for which we have survied to train data and nan to test data for predections\n",
    "final_df = final_merged_df[final_merged_df['Survived'].notnull()]\n",
    "final_test_df = final_merged_df[final_merged_df['Survived'].isnull()]\n",
    "# Drop all columns with Objects\n",
    "train_df = final_df.drop(final_df.columns[final_df.dtypes == object], axis=1) \n",
    "test_df = final_test_df.drop(final_test_df.columns[final_test_df.dtypes == object], axis=1)\n",
    "test_df = test_df.drop('Survived', axis=1)\n",
    "trainCols = sorted(train_df.columns.tolist())\n",
    "testCols = sorted(test_df.columns.tolist())\n",
    "train_df = train_df[trainCols].fillna(0)\n",
    "test_df = test_df[testCols].fillna(0)"
   ]
  },
  {
   "cell_type": "code",
   "execution_count": 52,
   "metadata": {
    "collapsed": false
   },
   "outputs": [],
   "source": [
    "# Random Forests Model\n",
    "X = train_df.drop(['Survived','PassengerId'],axis=1)\n",
    "y = train_df['Survived']\n",
    "X_test = test_df.drop('PassengerId', axis=1)\n",
    "rfModel = ensemble.RandomForestClassifier(n_estimators=900, random_state = 25, n_jobs=-1)\n",
    "rfModel.fit(X,y)\n",
    "y_pred = rfModel.predict(X_test).astype(int)\n",
    "# print \"AUC - ROC : \", roc_auc_score(y_pred,rfModel.oob_prediction)"
   ]
  },
  {
   "cell_type": "code",
   "execution_count": 53,
   "metadata": {
    "collapsed": false
   },
   "outputs": [
    {
     "data": {
      "text/plain": [
       "1.0"
      ]
     },
     "execution_count": 53,
     "metadata": {},
     "output_type": "execute_result"
    }
   ],
   "source": [
    "rfModel.score(X_test,y_pred)"
   ]
  },
  {
   "cell_type": "markdown",
   "metadata": {},
   "source": [
    "Before we submit the solution it is a good practice to see how the learning/validation curves looks like and also lets try to see how the confusion matrix will look like. \n",
    "Let us see on both Random Forest Regressor and also on the Logistic Regression classifier to see how it works on both of them\n",
    "our Random Forest model is rfModel and Logistic Model is lrModel"
   ]
  },
  {
   "cell_type": "code",
   "execution_count": 54,
   "metadata": {
    "collapsed": false
   },
   "outputs": [],
   "source": [
    "parameter_grid = np.linspace(25, 100, 8).astype(int) # Varies the parameters from 25 to 200 8 times \n",
    "train_scores, validation_scores = validation_curve(rfModel, X, y, \n",
    "        \"n_estimators\", parameter_grid, cv=5)\n",
    "\n",
    "depth_parameter_grid = np.linspace(2, 30, 5).astype(int) # Varies the parameters from 25 to 200 8 times \n",
    "depth_train_scores, depth_validation_scores = validation_curve(rfModel, X, y, \n",
    "        \"max_depth\", depth_parameter_grid, cv=5)"
   ]
  },
  {
   "cell_type": "code",
   "execution_count": 55,
   "metadata": {
    "collapsed": false
   },
   "outputs": [
    {
     "data": {
      "text/plain": [
       "<matplotlib.legend.Legend at 0xc142780>"
      ]
     },
     "execution_count": 55,
     "metadata": {},
     "output_type": "execute_result"
    },
    {
     "data": {
      "image/png": "[encoded data removed]",
      "text/plain": [
       "<matplotlib.figure.Figure at 0xbbcde48>"
      ]
     },
     "metadata": {},
     "output_type": "display_data"
    }
   ],
   "source": [
    "plt.figure(figsize=(15,4))\n",
    "plt.subplot(1,2,1)\n",
    "plt.plot(parameter_grid, 100  * np.average(train_scores, axis=1), color='blue',label='Train Score')\n",
    "plt.plot(parameter_grid, 100  * np.average(validation_scores, axis=1), color='green', label='Validation Score')\n",
    "plt.title('Training/Validation Curve')\n",
    "plt.xlabel('Number of estimators')\n",
    "plt.ylabel('Accuracy')\n",
    "plt.legend(loc='best')\n",
    "plt.ylim(60,100)\n",
    "plt.xlim(0,100)\n",
    "plt.subplot(1,2,2)\n",
    "plt.plot(depth_parameter_grid, 100  * np.average(depth_train_scores, axis=1), color='blue', label='Train Score')\n",
    "plt.plot(depth_parameter_grid, 100  * np.average(depth_validation_scores, axis=1), color='green', label='Validation Score')\n",
    "plt.title('Training/Validation Curve')\n",
    "plt.xlabel('Iterations')\n",
    "plt.ylabel('Accuracy')\n",
    "plt.ylim(60,100)\n",
    "plt.xlim(0,30)\n",
    "plt.legend(loc='best')"
   ]
  },
  {
   "cell_type": "markdown",
   "metadata": {},
   "source": [
    "So the accuracy of the Training curve goes up for n_estimators greater than 55 or even better if n_estimators is more than 90 $ \\text{n_estimators} = 90 $ And we can also see that the max_depth value of 25 or above will work good on our model. \n",
    "$ \\text{max_depth} = 25 $"
   ]
  },
  {
   "cell_type": "code",
   "execution_count": 56,
   "metadata": {
    "collapsed": false
   },
   "outputs": [
    {
     "data": {
      "text/plain": [
       "0.98204264870931535"
      ]
     },
     "execution_count": 56,
     "metadata": {},
     "output_type": "execute_result"
    }
   ],
   "source": [
    "# Now lets train the model on learned parameters(modified)\n",
    "rfModel = ensemble.RandomForestClassifier(n_estimators=90, random_state = 25, max_depth=25, n_jobs=-1)\n",
    "rfModel.fit(X,y)\n",
    "y_pred = rfModel.predict(X_test).astype(int)\n",
    "rfModel.score(X,y)"
   ]
  },
  {
   "cell_type": "code",
   "execution_count": 57,
   "metadata": {
    "collapsed": true
   },
   "outputs": [],
   "source": [
    "# This submission scored around 77.03 % accuracy, but not the best model yet. "
   ]
  },
  {
   "cell_type": "code",
   "execution_count": 58,
   "metadata": {
    "collapsed": false,
    "scrolled": true
   },
   "outputs": [
    {
     "data": {
      "image/png": "[encoded data removed]",
      "text/plain": [
       "<matplotlib.figure.Figure at 0xc0a2710>"
      ]
     },
     "metadata": {},
     "output_type": "display_data"
    }
   ],
   "source": [
    "# let us also see how the confusion matrix for this data looks like\n",
    "y_pred_train = rfModel.predict(X)\n",
    "confusionMatrix = confusion_matrix(y, y_pred_train)\n",
    "# plot confusion matrix\n",
    "# Show confusion matrix\n",
    "def plot_confusion_matrix(confusion_mat,n):\n",
    "    plt.imshow(confusion_mat, interpolation='nearest', cmap=plt.cm.Paired)\n",
    "    plt.title('Confusion matrix')\n",
    "    plt.colorbar()\n",
    "    tick_marks = np.arange(n)\n",
    "    plt.xticks(tick_marks, tick_marks)\n",
    "    plt.yticks(tick_marks, tick_marks)\n",
    "    plt.ylabel('True label')\n",
    "    plt.xlabel('Predicted label')\n",
    "    plt.show()\n",
    "plot_confusion_matrix(confusionMatrix,2)"
   ]
  },
  {
   "cell_type": "markdown",
   "metadata": {},
   "source": [
    "Confusion Matrix doesnt look great, but we can see that the diagnol which is predicting all true negatives accurately but only ~ 60% accurate about the true positives. "
   ]
  },
  {
   "cell_type": "markdown",
   "metadata": {},
   "source": [
    "Let us also now see the feature importance for this prediction"
   ]
  },
  {
   "cell_type": "code",
   "execution_count": 59,
   "metadata": {
    "collapsed": false
   },
   "outputs": [
    {
     "data": {
      "image/png": "[encoded data removed]",
      "text/plain": [
       "<matplotlib.figure.Figure at 0x3f4cac8>"
      ]
     },
     "metadata": {},
     "output_type": "display_data"
    }
   ],
   "source": [
    "def plot_feature_importances(feature_importances, title, feature_names):\n",
    "    # Normalize the importance values \n",
    "    feature_importances = 100.0 * (feature_importances / max(feature_importances))\n",
    "\n",
    "    # Sort the values and flip them\n",
    "    index_sorted = np.flipud(np.argsort(feature_importances))\n",
    "\n",
    "    # Arrange the X ticks\n",
    "    pos = np.arange(index_sorted.shape[0]) + 0.5\n",
    "\n",
    "    # Plot the bar graph\n",
    "    \n",
    "    plt.figure(figsize=(20,5))\n",
    "    plt.bar(pos, feature_importances[index_sorted], align='center')\n",
    "    plt.xticks(pos, feature_names[index_sorted])\n",
    "    plt.ylabel('Relative Importance')\n",
    "    plt.title(title)\n",
    "    plt.show()\n",
    "    \n",
    "plot_feature_importances(rfModel.feature_importances_, 'Random Forest Model', X.columns)"
   ]
  },
  {
   "cell_type": "code",
   "execution_count": 60,
   "metadata": {
    "collapsed": false
   },
   "outputs": [],
   "source": [
    "y_pred = rfModel.predict(X_test)\n",
    "submission = pd.DataFrame({\n",
    "        \"PassengerId\":test_df['PassengerId'],\n",
    "        \"Survived\": y_pred.astype(int)\n",
    "    })\n",
    "submission.to_csv('titanic_rf.csv',index=False)"
   ]
  },
  {
   "cell_type": "markdown",
   "metadata": {
    "collapsed": true
   },
   "source": [
    "Trying to optimize using gridsearchcv\n",
    "from sklearn.grid_search import GridSearchCV"
   ]
  },
  {
   "cell_type": "code",
   "execution_count": 61,
   "metadata": {
    "collapsed": true
   },
   "outputs": [],
   "source": [
    "from sklearn.grid_search import GridSearchCV"
   ]
  },
  {
   "cell_type": "code",
   "execution_count": 62,
   "metadata": {
    "collapsed": true
   },
   "outputs": [],
   "source": [
    "def train_test_model(model, hyperparameters, X_train, X_test, y_train, y_test,\n",
    "                    folds = 5):\n",
    "    \"\"\"\n",
    "    Given a [model] and a set of possible [hyperparameters], along with \n",
    "    matricies corresponding to hold-out cross-validation, returns a model w/ \n",
    "    optimized hyperparameters, and prints out model evaluation metrics.\n",
    "    \"\"\"\n",
    "    optimized_model = GridSearchCV(model, hyperparameters, cv = folds, n_jobs = -1)\n",
    "    optimized_model.fit(X_train, y_train)\n",
    "    predicted = optimized_model.predict(X_test)\n",
    "    print 'Optimized parameters:', optimized_model.best_params_\n",
    "    print 'Model accuracy (hold-out):', optimized_model.score(X_test, y_test)\n",
    "    kfold_score = np.mean(cross_val_score(\n",
    "            optimized_model.best_estimator_, np.append(X_train, X_test, axis = 0), \n",
    "            np.append(y_train, y_test), cv = folds, n_jobs = -1))\n",
    "    print 'Model accuracy ({0}-fold):'.format(str(folds)), kfold_score, '\\n'\n",
    "    return optimized_model"
   ]
  },
  {
   "cell_type": "code",
   "execution_count": 63,
   "metadata": {
    "collapsed": false
   },
   "outputs": [
    {
     "name": "stdout",
     "output_type": "stream",
     "text": [
      "Optimized parameters: {'min_samples_split': 10, 'max_depth': 25, 'min_samples_leaf': 3}\n",
      "Model accuracy (hold-out): 0.832402234637\n",
      "Model accuracy (5-fold): 0.832757970726 \n",
      "\n",
      "Wall time: 31.9 s\n"
     ]
    }
   ],
   "source": [
    "%%time\n",
    "X_train, X_test_new, y_train, y_test_new = train_test_split(\n",
    "    X,y,test_size = 0.2, random_state = 50)\n",
    "rf_model = train_test_model(\n",
    "    ensemble.RandomForestClassifier(n_estimators = 90, random_state = 25, n_jobs=-1), {\n",
    "        'min_samples_split': [1, 3, 10],\n",
    "        'min_samples_leaf': [1, 3, 10],\n",
    "        'max_depth': [3, 25, None]}, \n",
    "    X_train, X_test_new, y_train, y_test_new)"
   ]
  },
  {
   "cell_type": "code",
   "execution_count": 64,
   "metadata": {
    "collapsed": false
   },
   "outputs": [],
   "source": [
    "rf_model_new = rf_model.best_estimator_\n",
    "rf_model_new.fit(X,y)\n",
    "y_pred = rf_model_new.predict(X_test)\n",
    "\n",
    "#  Submission\n",
    "submission = pd.DataFrame({\n",
    "        \"PassengerId\":test_df['PassengerId'],\n",
    "        \"Survived\": y_pred.astype(int)\n",
    "    })\n",
    "submission.to_csv('titanic_rf_new.csv',index=False)"
   ]
  },
  {
   "cell_type": "markdown",
   "metadata": {},
   "source": [
    "Let us try all above for logistic regression also"
   ]
  },
  {
   "cell_type": "code",
   "execution_count": 65,
   "metadata": {
    "collapsed": false
   },
   "outputs": [
    {
     "data": {
      "text/plain": [
       "0.84175084175084181"
      ]
     },
     "execution_count": 65,
     "metadata": {},
     "output_type": "execute_result"
    }
   ],
   "source": [
    "# Logistic Regression\n",
    "lrModel = linear_model.LogisticRegression(random_state = 25)\n",
    "lrModel.fit(X,y)\n",
    "y_pred = lrModel.predict(X_test).astype(int)\n",
    "lrModel.score(X,y)"
   ]
  },
  {
   "cell_type": "code",
   "execution_count": 66,
   "metadata": {
    "collapsed": false
   },
   "outputs": [
    {
     "data": {
      "text/plain": [
       "<matplotlib.text.Text at 0x10f24c18>"
      ]
     },
     "execution_count": 66,
     "metadata": {},
     "output_type": "execute_result"
    },
    {
     "data": {
      "image/png": "[encoded data removed]",
      "text/plain": [
       "<matplotlib.figure.Figure at 0x10d14550>"
      ]
     },
     "metadata": {},
     "output_type": "display_data"
    }
   ],
   "source": [
    "parameter_grid = np.linspace(25, 200, 8).astype(int) # Varies the parameters from 25 to 200 8 times \n",
    "train_scores, validation_scores = validation_curve(lrModel, X, y, \n",
    "        \"max_iter\", parameter_grid, cv=5)\n",
    "\n",
    "rs_parameter_grid = np.linspace(2, 40, 5).astype(int) # Varies the parameters from 25 to 200 8 times \n",
    "rs_train_scores, depth_validation_scores = validation_curve(lrModel, X, y, \n",
    "        \"random_state\", rs_parameter_grid, cv=5)\n",
    "\n",
    "plt.figure(figsize=(15,3))\n",
    "plt.subplot(1,2,1)\n",
    "plt.plot(parameter_grid, 100  * np.average(train_scores, axis=1), color='blue')\n",
    "plt.title('Training Curve')\n",
    "plt.xlabel('Number of estimators')\n",
    "plt.ylabel('Accuracy(Based on $ maxiter $ )')\n",
    "plt.subplot(1,2,2)\n",
    "plt.plot(depth_parameter_grid, 100  * np.average(depth_train_scores, axis=1), color='green')\n",
    "plt.title('Training Curve')\n",
    "plt.xlabel('Number of estimators')\n",
    "plt.ylabel('Accuracy(Based on $ random_state $ )')"
   ]
  },
  {
   "cell_type": "markdown",
   "metadata": {},
   "source": [
    "Lets see how the confusion matrix looks like"
   ]
  },
  {
   "cell_type": "code",
   "execution_count": 67,
   "metadata": {
    "collapsed": false
   },
   "outputs": [
    {
     "data": {
      "image/png": "[encoded data removed]",
      "text/plain": [
       "<matplotlib.figure.Figure at 0xbccbb70>"
      ]
     },
     "metadata": {},
     "output_type": "display_data"
    }
   ],
   "source": [
    "# let us also see how the confusion matrix for this data looks like\n",
    "y_pred_train = lrModel.predict(X)\n",
    "confusionMatrix = confusion_matrix(y, y_pred_train)\n",
    "# plot confusion matrix\n",
    "# Show confusion matrix\n",
    "def plot_confusion_matrix(confusion_mat,n):\n",
    "    plt.imshow(confusion_mat, interpolation='nearest', cmap=plt.cm.Paired)\n",
    "    plt.title('Confusion matrix')\n",
    "    plt.colorbar()\n",
    "    tick_marks = np.arange(n)\n",
    "    plt.xticks(tick_marks, tick_marks)\n",
    "    plt.yticks(tick_marks, tick_marks)\n",
    "    plt.ylabel('True label')\n",
    "    plt.xlabel('Predicted label')\n",
    "    plt.show()\n",
    "plot_confusion_matrix(confusionMatrix,2)"
   ]
  },
  {
   "cell_type": "code",
   "execution_count": 68,
   "metadata": {
    "collapsed": false
   },
   "outputs": [
    {
     "name": "stdout",
     "output_type": "stream",
     "text": [
      "Optimized parameters: {'C': 100, 'random_state': 1, 'class_weight': None}\n",
      "Model accuracy (hold-out): 0.815642458101\n",
      "Model accuracy (5-fold): 0.830485458653 \n",
      "\n",
      "Wall time: 10.7 s\n"
     ]
    }
   ],
   "source": [
    "%%time\n",
    "lr_model = train_test_model(\n",
    "    linear_model.LogisticRegression(random_state = 25), {\n",
    "        'C': [0.001, 0.01, 0.1, 1, 10, 100, 1000],\n",
    "        'class_weight': [None, 'balanced'],\n",
    "        'random_state': [1, 10, 25, 50]}, \n",
    "    X_train, X_test_new, y_train, y_test_new)"
   ]
  },
  {
   "cell_type": "code",
   "execution_count": 69,
   "metadata": {
    "collapsed": true
   },
   "outputs": [],
   "source": [
    "lr_model_new = lr_model.best_estimator_\n",
    "lr_model_new.fit(X,y)\n",
    "y_pred = lr_model_new.predict(X_test)\n",
    "\n",
    "#  Submission\n",
    "submission = pd.DataFrame({\n",
    "        \"PassengerId\":test_df['PassengerId'],\n",
    "        \"Survived\": y_pred.astype(int)\n",
    "    })\n",
    "submission.to_csv('titanic_lr_new.csv',index=False)"
   ]
  },
  {
   "cell_type": "code",
   "execution_count": 70,
   "metadata": {
    "collapsed": false
   },
   "outputs": [
    {
     "name": "stdout",
     "output_type": "stream",
     "text": [
      "Optimized parameters: {'C': 100, 'gamma': 0.01}\n",
      "Model accuracy (hold-out): 0.815642458101\n",
      "Model accuracy (5-fold): 0.814798919209 \n",
      "\n",
      "Wall time: 33.1 s\n"
     ]
    }
   ],
   "source": [
    "%%time\n",
    "svm_model = train_test_model(\n",
    "    SVC(probability = True, random_state = 25), {\n",
    "        'C': [0.001, 0.01, 0.1, 1, 10, 100, 1000],\n",
    "        'gamma': np.logspace(-9, 3, 13)}, \n",
    "    X_train, X_test_new, y_train, y_test_new)"
   ]
  },
  {
   "cell_type": "code",
   "execution_count": 71,
   "metadata": {
    "collapsed": true
   },
   "outputs": [],
   "source": [
    "svm_model_new = svm_model.best_estimator_\n",
    "svm_model_new.fit(X,y)\n",
    "y_pred = svm_model_new.predict(X_test)\n",
    "\n",
    "#  Submission\n",
    "submission = pd.DataFrame({\n",
    "        \"PassengerId\":test_df['PassengerId'],\n",
    "        \"Survived\": y_pred.astype(int)\n",
    "    })\n",
    "submission.to_csv('titanic_svm_new.csv',index=False)"
   ]
  },
  {
   "cell_type": "code",
   "execution_count": 74,
   "metadata": {
    "collapsed": true
   },
   "outputs": [],
   "source": [
    "def majority_vote_ensemble(name, models_votes, train, outcomes, to_predict):\n",
    "    \"\"\"Creates a submission from a majority voting ensemble, given training/\n",
    "    testing data and a list of models and votes.\n",
    "    \"\"\"\n",
    "    model_results = []\n",
    "    for model, votes in models_votes:\n",
    "        model.fit(np.array(train), outcomes)\n",
    "        probs = model.predict(np.array(to_predict))\n",
    "        probs[probs == 0] = -1\n",
    "        model_results.append((probs, votes))\n",
    "    \n",
    "    # Assemble the ensemble\n",
    "    ensemble = pd.read_csv('test.csv')[['PassengerId']].assign(Survived = 0)\n",
    "    for probs, votes in model_results:\n",
    "        for i in range(0, votes):\n",
    "            ensemble = ensemble.assign(Survived = lambda x: x.Survived + probs)\n",
    "    (ensemble.assign(Survived = lambda x: np.where(x.Survived > 0, 1, 0))\n",
    "     .to_csv(name, index = False))\n",
    "    return None\n",
    "    \n",
    "    \n",
    "models_votes = [\n",
    "    (rf_model.best_estimator_, 2),\n",
    "    (lr_model.best_estimator_, 2),\n",
    "    (svm_model.best_estimator_,1)\n",
    "]\n",
    "\n",
    "\n",
    "majority_vote_ensemble('ensemble_majority_vote.csv', \n",
    "                       models_votes, X, y, X_test)"
   ]
  },
  {
   "cell_type": "code",
   "execution_count": null,
   "metadata": {
    "collapsed": true
   },
   "outputs": [],
   "source": []
  }
 ],
 "metadata": {
  "kernelspec": {
   "display_name": "Python 2",
   "language": "python",
   "name": "python2"
  },
  "language_info": {
   "codemirror_mode": {
    "name": "ipython",
    "version": 2
   },
   "file_extension": ".py",
   "mimetype": "text/x-python",
   "name": "python",
   "nbconvert_exporter": "python",
   "pygments_lexer": "ipython2",
   "version": "2.7.11"
  }
 },
 "nbformat": 4,
 "nbformat_minor": 0
}
