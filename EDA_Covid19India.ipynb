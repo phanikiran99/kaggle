{
  "nbformat": 4,
  "nbformat_minor": 0,
  "metadata": {
    "extensions": {
      "jupyter_dashboards": {
        "activeView": "grid_default",
        "version": 1,
        "views": {
          "grid_default": {
            "cellMargin": 10,
            "defaultCellHeight": 20,
            "maxColumns": 12,
            "name": "grid",
            "type": "grid"
          },
          "report_default": {
            "name": "report",
            "type": "report"
          }
        }
      }
    },
    "kernelspec": {
      "display_name": "Python 3",
      "language": "python",
      "name": "python3"
    },
    "language_info": {
      "codemirror_mode": {
        "name": "ipython",
        "version": 3
      },
      "file_extension": ".py",
      "mimetype": "text/x-python",
      "name": "python",
      "nbconvert_exporter": "python",
      "pygments_lexer": "ipython3",
      "version": "3.7.3"
    },
    "colab": {
      "name": "EDA_Covid19India.ipynb",
      "provenance": [],
      "collapsed_sections": [
        "qT1TB1Qp63LY"
      ],
      "include_colab_link": true
    }
  },
  "cells": [
    {
      "cell_type": "markdown",
      "metadata": {
        "id": "view-in-github",
        "colab_type": "text"
      },
      "source": [
        "<a href=\"https://colab.research.google.com/github/phanikiran99/kaggle/blob/master/EDA_Covid19India.ipynb\" target=\"_parent\"><img src=\"https://colab.research.google.com/assets/colab-badge.svg\" alt=\"Open In Colab\"/></a>"
      ]
    },
    {
      "cell_type": "code",
      "metadata": {
        "extensions": {
          "jupyter_dashboards": {
            "version": 1,
            "views": {
              "grid_default": {},
              "report_default": {
                "hidden": true
              }
            }
          }
        },
        "id": "6fRltAWL63Jn",
        "colab_type": "code",
        "outputId": "665bd46c-7f33-4818-d981-8a11706e8659",
        "colab": {
          "base_uri": "https://localhost:8080/",
          "height": 85
        }
      },
      "source": [
        "import pandas as pd\n",
        "import numpy as np\n",
        "import requests\n",
        "\n",
        "#plotly\n",
        "import plotly.graph_objects as go\n",
        "import plotly.express as px\n",
        "import plotly.graph_objects as go\n",
        "\n",
        "import seaborn as sns\n",
        "sns.set()\n",
        "\n",
        "import matplotlib.pyplot as plt\n",
        "%matplotlib inline"
      ],
      "execution_count": 1,
      "outputs": [
        {
          "output_type": "stream",
          "text": [
            "/usr/local/lib/python3.6/dist-packages/statsmodels/tools/_testing.py:19: FutureWarning:\n",
            "\n",
            "pandas.util.testing is deprecated. Use the functions in the public API at pandas.testing instead.\n",
            "\n"
          ],
          "name": "stderr"
        }
      ]
    },
    {
      "cell_type": "code",
      "metadata": {
        "extensions": {
          "jupyter_dashboards": {
            "version": 1,
            "views": {
              "grid_default": {},
              "report_default": {
                "hidden": true
              }
            }
          }
        },
        "scrolled": false,
        "id": "1JhgrOzp63Js",
        "colab_type": "code",
        "colab": {}
      },
      "source": [
        "api = 'https://api.covid19india.org/data.json'\n",
        "resp = requests.get(api)"
      ],
      "execution_count": 0,
      "outputs": []
    },
    {
      "cell_type": "code",
      "metadata": {
        "extensions": {
          "jupyter_dashboards": {
            "version": 1,
            "views": {
              "grid_default": {},
              "report_default": {
                "hidden": true
              }
            }
          }
        },
        "id": "843PaNiL63Jv",
        "colab_type": "code",
        "colab": {}
      },
      "source": [
        "caseTimeSeries = pd.DataFrame(resp.json()['cases_time_series'])\n",
        "stateWise = pd.DataFrame(resp.json()['statewise'])\n",
        "tested = pd.DataFrame(resp.json()['tested'])"
      ],
      "execution_count": 0,
      "outputs": []
    },
    {
      "cell_type": "code",
      "metadata": {
        "extensions": {
          "jupyter_dashboards": {
            "version": 1,
            "views": {
              "grid_default": {},
              "report_default": {
                "hidden": true
              }
            }
          }
        },
        "id": "jr-ni9Eu63Jx",
        "colab_type": "code",
        "colab": {}
      },
      "source": [
        "testPlots = tested[['totalindividualstested','totalpositivecases','totalsamplestested','updatetimestamp']]\n",
        "testPlots = testPlots.apply(lambda x: x.str.strip()).replace('', np.nan)\n",
        "testPlots = testPlots.fillna(method='ffill')"
      ],
      "execution_count": 0,
      "outputs": []
    },
    {
      "cell_type": "code",
      "metadata": {
        "extensions": {
          "jupyter_dashboards": {
            "version": 1,
            "views": {
              "grid_default": {},
              "report_default": {
                "hidden": false
              }
            }
          }
        },
        "scrolled": false,
        "id": "htDLtNsO63J0",
        "colab_type": "code",
        "outputId": "0b4eee8d-b6ea-4016-df3a-7027e3b1201d",
        "colab": {
          "base_uri": "https://localhost:8080/",
          "height": 542
        }
      },
      "source": [
        "fig = go.Figure()\n",
        "fig.add_trace(go.Scatter(x=testPlots['updatetimestamp'], y=testPlots['totalindividualstested'],name='Total Tested'))\n",
        "fig.add_trace(go.Scatter(x=testPlots['updatetimestamp'],y=testPlots['totalpositivecases'],name='Total Positve cases'))\n",
        "fig.update_layout(title_text=\"India Tested vs Positive Cases\")\n",
        "fig.show()"
      ],
      "execution_count": 5,
      "outputs": [
        {
          "output_type": "display_data",
          "data": {
            "text/html": [
              "<html>\n",
              "<head><meta charset=\"utf-8\" /></head>\n",
              "<body>\n",
              "    <div>\n",
              "            <script src=\"https://cdnjs.cloudflare.com/ajax/libs/mathjax/2.7.5/MathJax.js?config=TeX-AMS-MML_SVG\"></script><script type=\"text/javascript\">if (window.MathJax) {MathJax.Hub.Config({SVG: {font: \"STIX-Web\"}});}</script>\n",
              "                <script type=\"text/javascript\">window.PlotlyConfig = {MathJaxConfig: 'local'};</script>\n",
              "        <script src=\"https://cdn.plot.ly/plotly-latest.min.js\"></script>    \n",
              "            <div id=\"f2fefa19-a9fd-4db2-a753-3d0be1a5df90\" class=\"plotly-graph-div\" style=\"height:525px; width:100%;\"></div>\n",
              "            <script type=\"text/javascript\">\n",
              "                \n",
              "                    window.PLOTLYENV=window.PLOTLYENV || {};\n",
              "                    \n",
              "                if (document.getElementById(\"f2fefa19-a9fd-4db2-a753-3d0be1a5df90\")) {\n",
              "                    Plotly.newPlot(\n",
              "                        'f2fefa19-a9fd-4db2-a753-3d0be1a5df90',\n",
              "                        [{\"name\": \"Total Tested\", \"type\": \"scatter\", \"x\": [\"13/03/2020 00:00:00\", \"18/03/2020 18:00:00\", \"19/03/2020 10:00:00\", \"19/03/2020 18:00:00\", \"20/03/2020 10:00:00\", \"20/03/2020 18:00:00\", \"21/03/2020 10:00:00\", \"21/03/2020 18:00:00\", \"22/03/2020 10:00:00\", \"22/03/2020 18:00:00\", \"23/03/2020 10:00:00\", \"23/03/2020 20:00:00\", \"24/03/2020 10:00:00\", \"24/03/2020 20:00:00\", \"25/03/2020 10:00:00\", \"25/03/2020 20:00:00\", \"26/03/2020 10:00:00\", \"26/03/2020 18:00:00\", \"27/03/2020 09:00:00\", \"30/03/2020 00:00:00\", \"31/03/2020 00:00:00\", \"01/04/2020 00:00:00\", \"02/04/2020 21:00:00\", \"03/04/2020 09:00:00\", \"03/04/2020 21:00:00\", \"04/04/2020 21:00:00\", \"05/04/2020 21:00:00\", \"06/04/2020 21:00:00\", \"07/04/2020 21:00:00\", \"08/04/2020 21:00:00\", \"09/04/2020 21:00:00\", \"10/04/2020 21:00:00\", \"11/04/2020 21:00:00\", \"12/04/2020 21:00:00\", \"13/04/2020 21:00:00\", \"14/04/2020 21:00:00\", \"15/04/2020 21:00:00\", \"16/04/2020 21:00:00\", \"17/04/2020 21:00:00\", \"18/04/2020 21:00:00\", \"19/04/2020 21:00:00\", \"20/04/2020 21:00:00\", \"21/04/2020 21:00:00\", \"22/04/2020 21:00:00\", \"23/04/2020 21:00:00\", \"24/04/2020 21:00:00\", \"25/04/2020 21:00:00\", \"26/04/2020 21:00:00\", \"27/04/2020 21:00:00\", \"28/04/2020 21:00:00\", \"29/04/2020 21:00:00\"], \"y\": [\"5900\", \"12235\", \"12426\", \"13285\", \"13486\", \"14514\", \"14811\", \"16021\", \"16109\", \"17237\", \"17493\", \"19817\", \"19974\", \"21804\", \"22038\", \"24254\", \"24254\", \"24254\", \"26798\", \"26798\", \"26798\", \"26798\", \"26798\", \"26798\", \"26798\", \"26798\", \"26798\", \"26798\", \"26798\", \"26798\", \"130792\", \"147034\", \"164773\", \"181028\", \"202551\", \"229426\", \"258730\", \"286714\", \"318449\", \"354969\", \"383985\", \"383985\", \"447812\", \"447812\", \"485172\", \"525667\", \"525667\", \"525667\", \"525667\", \"525667\", \"525667\"]}, {\"name\": \"Total Positve cases\", \"type\": \"scatter\", \"x\": [\"13/03/2020 00:00:00\", \"18/03/2020 18:00:00\", \"19/03/2020 10:00:00\", \"19/03/2020 18:00:00\", \"20/03/2020 10:00:00\", \"20/03/2020 18:00:00\", \"21/03/2020 10:00:00\", \"21/03/2020 18:00:00\", \"22/03/2020 10:00:00\", \"22/03/2020 18:00:00\", \"23/03/2020 10:00:00\", \"23/03/2020 20:00:00\", \"24/03/2020 10:00:00\", \"24/03/2020 20:00:00\", \"25/03/2020 10:00:00\", \"25/03/2020 20:00:00\", \"26/03/2020 10:00:00\", \"26/03/2020 18:00:00\", \"27/03/2020 09:00:00\", \"30/03/2020 00:00:00\", \"31/03/2020 00:00:00\", \"01/04/2020 00:00:00\", \"02/04/2020 21:00:00\", \"03/04/2020 09:00:00\", \"03/04/2020 21:00:00\", \"04/04/2020 21:00:00\", \"05/04/2020 21:00:00\", \"06/04/2020 21:00:00\", \"07/04/2020 21:00:00\", \"08/04/2020 21:00:00\", \"09/04/2020 21:00:00\", \"10/04/2020 21:00:00\", \"11/04/2020 21:00:00\", \"12/04/2020 21:00:00\", \"13/04/2020 21:00:00\", \"14/04/2020 21:00:00\", \"15/04/2020 21:00:00\", \"16/04/2020 21:00:00\", \"17/04/2020 21:00:00\", \"18/04/2020 21:00:00\", \"19/04/2020 21:00:00\", \"20/04/2020 21:00:00\", \"21/04/2020 21:00:00\", \"22/04/2020 21:00:00\", \"23/04/2020 21:00:00\", \"24/04/2020 21:00:00\", \"25/04/2020 21:00:00\", \"26/04/2020 21:00:00\", \"27/04/2020 21:00:00\", \"28/04/2020 21:00:00\", \"29/04/2020 21:00:00\"], \"y\": [\"78\", \"150\", \"168\", \"182\", \"206\", \"236\", \"271\", \"315\", \"341\", \"396\", \"415\", \"471\", \"482\", \"536\", \"539\", \"581\", \"581\", \"581\", \"691\", \"691\", \"691\", \"1637\", \"2056\", \"2183\", \"2653\", \"3113\", \"3554\", \"4135\", \"4616\", \"5114\", \"5705\", \"6872\", \"7703\", \"8312\", \"9341\", \"10307\", \"11297\", \"12,581\", \"14098\", \"16365\", \"17615\", \"17615\", \"17615\", \"17615\", \"21797\", \"23502\", \"23502\", \"23502\", \"23502\", \"23502\", \"23502\"]}],\n",
              "                        {\"template\": {\"data\": {\"bar\": [{\"error_x\": {\"color\": \"#2a3f5f\"}, \"error_y\": {\"color\": \"#2a3f5f\"}, \"marker\": {\"line\": {\"color\": \"#E5ECF6\", \"width\": 0.5}}, \"type\": \"bar\"}], \"barpolar\": [{\"marker\": {\"line\": {\"color\": \"#E5ECF6\", \"width\": 0.5}}, \"type\": \"barpolar\"}], \"carpet\": [{\"aaxis\": {\"endlinecolor\": \"#2a3f5f\", \"gridcolor\": \"white\", \"linecolor\": \"white\", \"minorgridcolor\": \"white\", \"startlinecolor\": \"#2a3f5f\"}, \"baxis\": {\"endlinecolor\": \"#2a3f5f\", \"gridcolor\": \"white\", \"linecolor\": \"white\", \"minorgridcolor\": \"white\", \"startlinecolor\": \"#2a3f5f\"}, \"type\": \"carpet\"}], \"choropleth\": [{\"colorbar\": {\"outlinewidth\": 0, \"ticks\": \"\"}, \"type\": \"choropleth\"}], \"contour\": [{\"colorbar\": {\"outlinewidth\": 0, \"ticks\": \"\"}, \"colorscale\": [[0.0, \"#0d0887\"], [0.1111111111111111, \"#46039f\"], [0.2222222222222222, \"#7201a8\"], [0.3333333333333333, \"#9c179e\"], [0.4444444444444444, \"#bd3786\"], [0.5555555555555556, \"#d8576b\"], [0.6666666666666666, \"#ed7953\"], [0.7777777777777778, \"#fb9f3a\"], [0.8888888888888888, \"#fdca26\"], [1.0, \"#f0f921\"]], \"type\": \"contour\"}], \"contourcarpet\": [{\"colorbar\": {\"outlinewidth\": 0, \"ticks\": \"\"}, \"type\": \"contourcarpet\"}], \"heatmap\": [{\"colorbar\": {\"outlinewidth\": 0, \"ticks\": \"\"}, \"colorscale\": [[0.0, \"#0d0887\"], [0.1111111111111111, \"#46039f\"], [0.2222222222222222, \"#7201a8\"], [0.3333333333333333, \"#9c179e\"], [0.4444444444444444, \"#bd3786\"], [0.5555555555555556, \"#d8576b\"], [0.6666666666666666, \"#ed7953\"], [0.7777777777777778, \"#fb9f3a\"], [0.8888888888888888, \"#fdca26\"], [1.0, \"#f0f921\"]], \"type\": \"heatmap\"}], \"heatmapgl\": [{\"colorbar\": {\"outlinewidth\": 0, \"ticks\": \"\"}, \"colorscale\": [[0.0, \"#0d0887\"], [0.1111111111111111, \"#46039f\"], [0.2222222222222222, \"#7201a8\"], [0.3333333333333333, \"#9c179e\"], [0.4444444444444444, \"#bd3786\"], [0.5555555555555556, \"#d8576b\"], [0.6666666666666666, \"#ed7953\"], [0.7777777777777778, \"#fb9f3a\"], [0.8888888888888888, \"#fdca26\"], [1.0, \"#f0f921\"]], \"type\": \"heatmapgl\"}], \"histogram\": [{\"marker\": {\"colorbar\": {\"outlinewidth\": 0, \"ticks\": \"\"}}, \"type\": \"histogram\"}], \"histogram2d\": [{\"colorbar\": {\"outlinewidth\": 0, \"ticks\": \"\"}, \"colorscale\": [[0.0, \"#0d0887\"], [0.1111111111111111, \"#46039f\"], [0.2222222222222222, \"#7201a8\"], [0.3333333333333333, \"#9c179e\"], [0.4444444444444444, \"#bd3786\"], [0.5555555555555556, \"#d8576b\"], [0.6666666666666666, \"#ed7953\"], [0.7777777777777778, \"#fb9f3a\"], [0.8888888888888888, \"#fdca26\"], [1.0, \"#f0f921\"]], \"type\": \"histogram2d\"}], \"histogram2dcontour\": [{\"colorbar\": {\"outlinewidth\": 0, \"ticks\": \"\"}, \"colorscale\": [[0.0, \"#0d0887\"], [0.1111111111111111, \"#46039f\"], [0.2222222222222222, \"#7201a8\"], [0.3333333333333333, \"#9c179e\"], [0.4444444444444444, \"#bd3786\"], [0.5555555555555556, \"#d8576b\"], [0.6666666666666666, \"#ed7953\"], [0.7777777777777778, \"#fb9f3a\"], [0.8888888888888888, \"#fdca26\"], [1.0, \"#f0f921\"]], \"type\": \"histogram2dcontour\"}], \"mesh3d\": [{\"colorbar\": {\"outlinewidth\": 0, \"ticks\": \"\"}, \"type\": \"mesh3d\"}], \"parcoords\": [{\"line\": {\"colorbar\": {\"outlinewidth\": 0, \"ticks\": \"\"}}, \"type\": \"parcoords\"}], \"pie\": [{\"automargin\": true, \"type\": \"pie\"}], \"scatter\": [{\"marker\": {\"colorbar\": {\"outlinewidth\": 0, \"ticks\": \"\"}}, \"type\": \"scatter\"}], \"scatter3d\": [{\"line\": {\"colorbar\": {\"outlinewidth\": 0, \"ticks\": \"\"}}, \"marker\": {\"colorbar\": {\"outlinewidth\": 0, \"ticks\": \"\"}}, \"type\": \"scatter3d\"}], \"scattercarpet\": [{\"marker\": {\"colorbar\": {\"outlinewidth\": 0, \"ticks\": \"\"}}, \"type\": \"scattercarpet\"}], \"scattergeo\": [{\"marker\": {\"colorbar\": {\"outlinewidth\": 0, \"ticks\": \"\"}}, \"type\": \"scattergeo\"}], \"scattergl\": [{\"marker\": {\"colorbar\": {\"outlinewidth\": 0, \"ticks\": \"\"}}, \"type\": \"scattergl\"}], \"scattermapbox\": [{\"marker\": {\"colorbar\": {\"outlinewidth\": 0, \"ticks\": \"\"}}, \"type\": \"scattermapbox\"}], \"scatterpolar\": [{\"marker\": {\"colorbar\": {\"outlinewidth\": 0, \"ticks\": \"\"}}, \"type\": \"scatterpolar\"}], \"scatterpolargl\": [{\"marker\": {\"colorbar\": {\"outlinewidth\": 0, \"ticks\": \"\"}}, \"type\": \"scatterpolargl\"}], \"scatterternary\": [{\"marker\": {\"colorbar\": {\"outlinewidth\": 0, \"ticks\": \"\"}}, \"type\": \"scatterternary\"}], \"surface\": [{\"colorbar\": {\"outlinewidth\": 0, \"ticks\": \"\"}, \"colorscale\": [[0.0, \"#0d0887\"], [0.1111111111111111, \"#46039f\"], [0.2222222222222222, \"#7201a8\"], [0.3333333333333333, \"#9c179e\"], [0.4444444444444444, \"#bd3786\"], [0.5555555555555556, \"#d8576b\"], [0.6666666666666666, \"#ed7953\"], [0.7777777777777778, \"#fb9f3a\"], [0.8888888888888888, \"#fdca26\"], [1.0, \"#f0f921\"]], \"type\": \"surface\"}], \"table\": [{\"cells\": {\"fill\": {\"color\": \"#EBF0F8\"}, \"line\": {\"color\": \"white\"}}, \"header\": {\"fill\": {\"color\": \"#C8D4E3\"}, \"line\": {\"color\": \"white\"}}, \"type\": \"table\"}]}, \"layout\": {\"annotationdefaults\": {\"arrowcolor\": \"#2a3f5f\", \"arrowhead\": 0, \"arrowwidth\": 1}, \"coloraxis\": {\"colorbar\": {\"outlinewidth\": 0, \"ticks\": \"\"}}, \"colorscale\": {\"diverging\": [[0, \"#8e0152\"], [0.1, \"#c51b7d\"], [0.2, \"#de77ae\"], [0.3, \"#f1b6da\"], [0.4, \"#fde0ef\"], [0.5, \"#f7f7f7\"], [0.6, \"#e6f5d0\"], [0.7, \"#b8e186\"], [0.8, \"#7fbc41\"], [0.9, \"#4d9221\"], [1, \"#276419\"]], \"sequential\": [[0.0, \"#0d0887\"], [0.1111111111111111, \"#46039f\"], [0.2222222222222222, \"#7201a8\"], [0.3333333333333333, \"#9c179e\"], [0.4444444444444444, \"#bd3786\"], [0.5555555555555556, \"#d8576b\"], [0.6666666666666666, \"#ed7953\"], [0.7777777777777778, \"#fb9f3a\"], [0.8888888888888888, \"#fdca26\"], [1.0, \"#f0f921\"]], \"sequentialminus\": [[0.0, \"#0d0887\"], [0.1111111111111111, \"#46039f\"], [0.2222222222222222, \"#7201a8\"], [0.3333333333333333, \"#9c179e\"], [0.4444444444444444, \"#bd3786\"], [0.5555555555555556, \"#d8576b\"], [0.6666666666666666, \"#ed7953\"], [0.7777777777777778, \"#fb9f3a\"], [0.8888888888888888, \"#fdca26\"], [1.0, \"#f0f921\"]]}, \"colorway\": [\"#636efa\", \"#EF553B\", \"#00cc96\", \"#ab63fa\", \"#FFA15A\", \"#19d3f3\", \"#FF6692\", \"#B6E880\", \"#FF97FF\", \"#FECB52\"], \"font\": {\"color\": \"#2a3f5f\"}, \"geo\": {\"bgcolor\": \"white\", \"lakecolor\": \"white\", \"landcolor\": \"#E5ECF6\", \"showlakes\": true, \"showland\": true, \"subunitcolor\": \"white\"}, \"hoverlabel\": {\"align\": \"left\"}, \"hovermode\": \"closest\", \"mapbox\": {\"style\": \"light\"}, \"paper_bgcolor\": \"white\", \"plot_bgcolor\": \"#E5ECF6\", \"polar\": {\"angularaxis\": {\"gridcolor\": \"white\", \"linecolor\": \"white\", \"ticks\": \"\"}, \"bgcolor\": \"#E5ECF6\", \"radialaxis\": {\"gridcolor\": \"white\", \"linecolor\": \"white\", \"ticks\": \"\"}}, \"scene\": {\"xaxis\": {\"backgroundcolor\": \"#E5ECF6\", \"gridcolor\": \"white\", \"gridwidth\": 2, \"linecolor\": \"white\", \"showbackground\": true, \"ticks\": \"\", \"zerolinecolor\": \"white\"}, \"yaxis\": {\"backgroundcolor\": \"#E5ECF6\", \"gridcolor\": \"white\", \"gridwidth\": 2, \"linecolor\": \"white\", \"showbackground\": true, \"ticks\": \"\", \"zerolinecolor\": \"white\"}, \"zaxis\": {\"backgroundcolor\": \"#E5ECF6\", \"gridcolor\": \"white\", \"gridwidth\": 2, \"linecolor\": \"white\", \"showbackground\": true, \"ticks\": \"\", \"zerolinecolor\": \"white\"}}, \"shapedefaults\": {\"line\": {\"color\": \"#2a3f5f\"}}, \"ternary\": {\"aaxis\": {\"gridcolor\": \"white\", \"linecolor\": \"white\", \"ticks\": \"\"}, \"baxis\": {\"gridcolor\": \"white\", \"linecolor\": \"white\", \"ticks\": \"\"}, \"bgcolor\": \"#E5ECF6\", \"caxis\": {\"gridcolor\": \"white\", \"linecolor\": \"white\", \"ticks\": \"\"}}, \"title\": {\"x\": 0.05}, \"xaxis\": {\"automargin\": true, \"gridcolor\": \"white\", \"linecolor\": \"white\", \"ticks\": \"\", \"title\": {\"standoff\": 15}, \"zerolinecolor\": \"white\", \"zerolinewidth\": 2}, \"yaxis\": {\"automargin\": true, \"gridcolor\": \"white\", \"linecolor\": \"white\", \"ticks\": \"\", \"title\": {\"standoff\": 15}, \"zerolinecolor\": \"white\", \"zerolinewidth\": 2}}}, \"title\": {\"text\": \"India Tested vs Positive Cases\"}},\n",
              "                        {\"responsive\": true}\n",
              "                    ).then(function(){\n",
              "                            \n",
              "var gd = document.getElementById('f2fefa19-a9fd-4db2-a753-3d0be1a5df90');\n",
              "var x = new MutationObserver(function (mutations, observer) {{\n",
              "        var display = window.getComputedStyle(gd).display;\n",
              "        if (!display || display === 'none') {{\n",
              "            console.log([gd, 'removed!']);\n",
              "            Plotly.purge(gd);\n",
              "            observer.disconnect();\n",
              "        }}\n",
              "}});\n",
              "\n",
              "// Listen for the removal of the full notebook cells\n",
              "var notebookContainer = gd.closest('#notebook-container');\n",
              "if (notebookContainer) {{\n",
              "    x.observe(notebookContainer, {childList: true});\n",
              "}}\n",
              "\n",
              "// Listen for the clearing of the current output cell\n",
              "var outputEl = gd.closest('.output');\n",
              "if (outputEl) {{\n",
              "    x.observe(outputEl, {childList: true});\n",
              "}}\n",
              "\n",
              "                        })\n",
              "                };\n",
              "                \n",
              "            </script>\n",
              "        </div>\n",
              "</body>\n",
              "</html>"
            ]
          },
          "metadata": {
            "tags": []
          }
        }
      ]
    },
    {
      "cell_type": "code",
      "metadata": {
        "extensions": {
          "jupyter_dashboards": {
            "version": 1,
            "views": {
              "grid_default": {},
              "report_default": {
                "hidden": true
              }
            }
          }
        },
        "id": "NOTnh4UO63J3",
        "colab_type": "code",
        "outputId": "d2f52b7e-75c9-4f0a-a5b0-ac85d9ac9f1a",
        "colab": {
          "base_uri": "https://localhost:8080/",
          "height": 419
        }
      },
      "source": [
        "caseTimeSeries"
      ],
      "execution_count": 6,
      "outputs": [
        {
          "output_type": "execute_result",
          "data": {
            "text/html": [
              "<div>\n",
              "<style scoped>\n",
              "    .dataframe tbody tr th:only-of-type {\n",
              "        vertical-align: middle;\n",
              "    }\n",
              "\n",
              "    .dataframe tbody tr th {\n",
              "        vertical-align: top;\n",
              "    }\n",
              "\n",
              "    .dataframe thead th {\n",
              "        text-align: right;\n",
              "    }\n",
              "</style>\n",
              "<table border=\"1\" class=\"dataframe\">\n",
              "  <thead>\n",
              "    <tr style=\"text-align: right;\">\n",
              "      <th></th>\n",
              "      <th>dailyconfirmed</th>\n",
              "      <th>dailydeceased</th>\n",
              "      <th>dailyrecovered</th>\n",
              "      <th>date</th>\n",
              "      <th>totalconfirmed</th>\n",
              "      <th>totaldeceased</th>\n",
              "      <th>totalrecovered</th>\n",
              "    </tr>\n",
              "  </thead>\n",
              "  <tbody>\n",
              "    <tr>\n",
              "      <th>0</th>\n",
              "      <td>1</td>\n",
              "      <td>0</td>\n",
              "      <td>0</td>\n",
              "      <td>30 January</td>\n",
              "      <td>1</td>\n",
              "      <td>0</td>\n",
              "      <td>0</td>\n",
              "    </tr>\n",
              "    <tr>\n",
              "      <th>1</th>\n",
              "      <td>0</td>\n",
              "      <td>0</td>\n",
              "      <td>0</td>\n",
              "      <td>31 January</td>\n",
              "      <td>1</td>\n",
              "      <td>0</td>\n",
              "      <td>0</td>\n",
              "    </tr>\n",
              "    <tr>\n",
              "      <th>2</th>\n",
              "      <td>0</td>\n",
              "      <td>0</td>\n",
              "      <td>0</td>\n",
              "      <td>01 February</td>\n",
              "      <td>1</td>\n",
              "      <td>0</td>\n",
              "      <td>0</td>\n",
              "    </tr>\n",
              "    <tr>\n",
              "      <th>3</th>\n",
              "      <td>1</td>\n",
              "      <td>0</td>\n",
              "      <td>0</td>\n",
              "      <td>02 February</td>\n",
              "      <td>2</td>\n",
              "      <td>0</td>\n",
              "      <td>0</td>\n",
              "    </tr>\n",
              "    <tr>\n",
              "      <th>4</th>\n",
              "      <td>1</td>\n",
              "      <td>0</td>\n",
              "      <td>0</td>\n",
              "      <td>03 February</td>\n",
              "      <td>3</td>\n",
              "      <td>0</td>\n",
              "      <td>0</td>\n",
              "    </tr>\n",
              "    <tr>\n",
              "      <th>...</th>\n",
              "      <td>...</td>\n",
              "      <td>...</td>\n",
              "      <td>...</td>\n",
              "      <td>...</td>\n",
              "      <td>...</td>\n",
              "      <td>...</td>\n",
              "      <td>...</td>\n",
              "    </tr>\n",
              "    <tr>\n",
              "      <th>85</th>\n",
              "      <td>1408</td>\n",
              "      <td>59</td>\n",
              "      <td>484</td>\n",
              "      <td>24 April</td>\n",
              "      <td>24448</td>\n",
              "      <td>781</td>\n",
              "      <td>5496</td>\n",
              "    </tr>\n",
              "    <tr>\n",
              "      <th>86</th>\n",
              "      <td>1835</td>\n",
              "      <td>44</td>\n",
              "      <td>442</td>\n",
              "      <td>25 April</td>\n",
              "      <td>26283</td>\n",
              "      <td>825</td>\n",
              "      <td>5938</td>\n",
              "    </tr>\n",
              "    <tr>\n",
              "      <th>87</th>\n",
              "      <td>1607</td>\n",
              "      <td>56</td>\n",
              "      <td>585</td>\n",
              "      <td>26 April</td>\n",
              "      <td>27890</td>\n",
              "      <td>881</td>\n",
              "      <td>6523</td>\n",
              "    </tr>\n",
              "    <tr>\n",
              "      <th>88</th>\n",
              "      <td>1568</td>\n",
              "      <td>58</td>\n",
              "      <td>587</td>\n",
              "      <td>27 April</td>\n",
              "      <td>29458</td>\n",
              "      <td>939</td>\n",
              "      <td>7110</td>\n",
              "    </tr>\n",
              "    <tr>\n",
              "      <th>89</th>\n",
              "      <td>1902</td>\n",
              "      <td>69</td>\n",
              "      <td>637</td>\n",
              "      <td>28 April</td>\n",
              "      <td>31360</td>\n",
              "      <td>1008</td>\n",
              "      <td>7747</td>\n",
              "    </tr>\n",
              "  </tbody>\n",
              "</table>\n",
              "<p>90 rows × 7 columns</p>\n",
              "</div>"
            ],
            "text/plain": [
              "   dailyconfirmed dailydeceased  ... totaldeceased totalrecovered\n",
              "0               1             0  ...             0              0\n",
              "1               0             0  ...             0              0\n",
              "2               0             0  ...             0              0\n",
              "3               1             0  ...             0              0\n",
              "4               1             0  ...             0              0\n",
              "..            ...           ...  ...           ...            ...\n",
              "85           1408            59  ...           781           5496\n",
              "86           1835            44  ...           825           5938\n",
              "87           1607            56  ...           881           6523\n",
              "88           1568            58  ...           939           7110\n",
              "89           1902            69  ...          1008           7747\n",
              "\n",
              "[90 rows x 7 columns]"
            ]
          },
          "metadata": {
            "tags": []
          },
          "execution_count": 6
        }
      ]
    },
    {
      "cell_type": "code",
      "metadata": {
        "extensions": {
          "jupyter_dashboards": {
            "version": 1,
            "views": {
              "grid_default": {},
              "report_default": {
                "hidden": false
              }
            }
          }
        },
        "scrolled": false,
        "id": "fKONs55363J7",
        "colab_type": "code",
        "outputId": "859eb53d-c9bc-4db6-9f78-9b0a4c2a819f",
        "colab": {
          "base_uri": "https://localhost:8080/",
          "height": 542
        }
      },
      "source": [
        "fig = go.Figure()\n",
        "\n",
        "fig.add_trace(go.Scatter(x=caseTimeSeries['date'], y=caseTimeSeries['totalconfirmed'], name='Total Confirmed'))\n",
        "fig.add_trace(go.Scatter(x=caseTimeSeries['date'], y=caseTimeSeries['totalrecovered'], name='Total Recovered'))\n",
        "fig.add_trace(go.Scatter(x=caseTimeSeries['date'], y=caseTimeSeries['totaldeceased'], name='Total Deceased'))\n",
        "fig.add_trace(go.Bar(x=caseTimeSeries['date'], y=caseTimeSeries['dailyconfirmed'], name='Daily Confirmed'))\n",
        "fig.add_trace(go.Bar(x=caseTimeSeries['date'], y=caseTimeSeries['dailydeceased'], name='Daily Deceased'))\n",
        "fig.add_trace(go.Bar(x=caseTimeSeries['date'], y=caseTimeSeries['dailyrecovered'], name='Daily Recovered'))\n",
        "\n",
        "fig.update_layout(barmode='stack')\n",
        "fig.show()"
      ],
      "execution_count": 7,
      "outputs": [
        {
          "output_type": "display_data",
          "data": {
            "text/html": [
              "<html>\n",
              "<head><meta charset=\"utf-8\" /></head>\n",
              "<body>\n",
              "    <div>\n",
              "            <script src=\"https://cdnjs.cloudflare.com/ajax/libs/mathjax/2.7.5/MathJax.js?config=TeX-AMS-MML_SVG\"></script><script type=\"text/javascript\">if (window.MathJax) {MathJax.Hub.Config({SVG: {font: \"STIX-Web\"}});}</script>\n",
              "                <script type=\"text/javascript\">window.PlotlyConfig = {MathJaxConfig: 'local'};</script>\n",
              "        <script src=\"https://cdn.plot.ly/plotly-latest.min.js\"></script>    \n",
              "            <div id=\"baf52b7f-80a4-454b-94dd-1b3a699cbca0\" class=\"plotly-graph-div\" style=\"height:525px; width:100%;\"></div>\n",
              "            <script type=\"text/javascript\">\n",
              "                \n",
              "                    window.PLOTLYENV=window.PLOTLYENV || {};\n",
              "                    \n",
              "                if (document.getElementById(\"baf52b7f-80a4-454b-94dd-1b3a699cbca0\")) {\n",
              "                    Plotly.newPlot(\n",
              "                        'baf52b7f-80a4-454b-94dd-1b3a699cbca0',\n",
              "                        [{\"name\": \"Total Confirmed\", \"type\": \"scatter\", \"x\": [\"30 January \", \"31 January \", \"01 February \", \"02 February \", \"03 February \", \"04 February \", \"05 February \", \"06 February \", \"07 February \", \"08 February \", \"09 February \", \"10 February \", \"11 February \", \"12 February \", \"13 February \", \"14 February \", \"15 February \", \"16 February \", \"17 February \", \"18 February \", \"19 February \", \"20 February \", \"21 February \", \"22 February \", \"23 February \", \"24 February \", \"25 February \", \"26 February \", \"27 February \", \"28 February \", \"29 February \", \"01 March \", \"02 March \", \"03 March \", \"04 March \", \"05 March \", \"06 March \", \"07 March \", \"08 March \", \"09 March \", \"10 March \", \"11 March \", \"12 March \", \"13 March \", \"14 March \", \"15 March \", \"16 March \", \"17 March \", \"18 March \", \"19 March \", \"20 March \", \"21 March \", \"22 March \", \"23 March \", \"24 March \", \"25 March \", \"26 March \", \"27 March \", \"28 March \", \"29 March \", \"30 March \", \"31 March \", \"01 April \", \"02 April \", \"03 April \", \"04 April \", \"05 April \", \"06 April \", \"07 April \", \"08 April \", \"09 April \", \"10 April \", \"11 April \", \"12 April \", \"13 April \", \"14 April \", \"15 April \", \"16 April \", \"17 April \", \"18 April \", \"19 April \", \"20 April \", \"21 April \", \"22 April \", \"23 April \", \"24 April \", \"25 April \", \"26 April \", \"27 April \", \"28 April \"], \"y\": [\"1\", \"1\", \"1\", \"2\", \"3\", \"3\", \"3\", \"3\", \"3\", \"3\", \"3\", \"3\", \"3\", \"3\", \"3\", \"3\", \"3\", \"3\", \"3\", \"3\", \"3\", \"3\", \"3\", \"3\", \"3\", \"3\", \"3\", \"3\", \"3\", \"3\", \"3\", \"3\", \"5\", \"6\", \"28\", \"30\", \"31\", \"34\", \"39\", \"48\", \"63\", \"71\", \"81\", \"91\", \"102\", \"112\", \"126\", \"146\", \"171\", \"198\", \"256\", \"334\", \"403\", \"497\", \"571\", \"657\", \"730\", \"883\", \"1019\", \"1139\", \"1326\", \"1635\", \"2059\", \"2545\", \"3105\", \"3684\", \"4293\", \"4777\", \"5350\", \"5915\", \"6728\", \"7599\", \"8453\", \"9211\", \"10454\", \"11485\", \"12371\", \"13432\", \"14354\", \"15725\", \"17305\", \"18544\", \"20081\", \"21373\", \"23040\", \"24448\", \"26283\", \"27890\", \"29458\", \"31360\"]}, {\"name\": \"Total Recovered\", \"type\": \"scatter\", \"x\": [\"30 January \", \"31 January \", \"01 February \", \"02 February \", \"03 February \", \"04 February \", \"05 February \", \"06 February \", \"07 February \", \"08 February \", \"09 February \", \"10 February \", \"11 February \", \"12 February \", \"13 February \", \"14 February \", \"15 February \", \"16 February \", \"17 February \", \"18 February \", \"19 February \", \"20 February \", \"21 February \", \"22 February \", \"23 February \", \"24 February \", \"25 February \", \"26 February \", \"27 February \", \"28 February \", \"29 February \", \"01 March \", \"02 March \", \"03 March \", \"04 March \", \"05 March \", \"06 March \", \"07 March \", \"08 March \", \"09 March \", \"10 March \", \"11 March \", \"12 March \", \"13 March \", \"14 March \", \"15 March \", \"16 March \", \"17 March \", \"18 March \", \"19 March \", \"20 March \", \"21 March \", \"22 March \", \"23 March \", \"24 March \", \"25 March \", \"26 March \", \"27 March \", \"28 March \", \"29 March \", \"30 March \", \"31 March \", \"01 April \", \"02 April \", \"03 April \", \"04 April \", \"05 April \", \"06 April \", \"07 April \", \"08 April \", \"09 April \", \"10 April \", \"11 April \", \"12 April \", \"13 April \", \"14 April \", \"15 April \", \"16 April \", \"17 April \", \"18 April \", \"19 April \", \"20 April \", \"21 April \", \"22 April \", \"23 April \", \"24 April \", \"25 April \", \"26 April \", \"27 April \", \"28 April \"], \"y\": [\"0\", \"0\", \"0\", \"0\", \"0\", \"0\", \"0\", \"0\", \"0\", \"0\", \"0\", \"0\", \"0\", \"0\", \"1\", \"1\", \"1\", \"2\", \"2\", \"2\", \"2\", \"3\", \"3\", \"3\", \"3\", \"3\", \"3\", \"3\", \"3\", \"3\", \"3\", \"3\", \"3\", \"3\", \"3\", \"3\", \"3\", \"3\", \"3\", \"3\", \"4\", \"4\", \"4\", \"10\", \"10\", \"13\", \"14\", \"15\", \"15\", \"20\", \"23\", \"23\", \"23\", \"25\", \"40\", \"43\", \"50\", \"75\", \"85\", \"102\", \"137\", \"150\", \"169\", \"191\", \"230\", \"286\", \"329\", \"394\", \"469\", \"565\", \"635\", \"786\", \"972\", \"1086\", \"1198\", \"1365\", \"1509\", \"1767\", \"2040\", \"2466\", \"2854\", \"3273\", \"3976\", \"4370\", \"5012\", \"5496\", \"5938\", \"6523\", \"7110\", \"7747\"]}, {\"name\": \"Total Deceased\", \"type\": \"scatter\", \"x\": [\"30 January \", \"31 January \", \"01 February \", \"02 February \", \"03 February \", \"04 February \", \"05 February \", \"06 February \", \"07 February \", \"08 February \", \"09 February \", \"10 February \", \"11 February \", \"12 February \", \"13 February \", \"14 February \", \"15 February \", \"16 February \", \"17 February \", \"18 February \", \"19 February \", \"20 February \", \"21 February \", \"22 February \", \"23 February \", \"24 February \", \"25 February \", \"26 February \", \"27 February \", \"28 February \", \"29 February \", \"01 March \", \"02 March \", \"03 March \", \"04 March \", \"05 March \", \"06 March \", \"07 March \", \"08 March \", \"09 March \", \"10 March \", \"11 March \", \"12 March \", \"13 March \", \"14 March \", \"15 March \", \"16 March \", \"17 March \", \"18 March \", \"19 March \", \"20 March \", \"21 March \", \"22 March \", \"23 March \", \"24 March \", \"25 March \", \"26 March \", \"27 March \", \"28 March \", \"29 March \", \"30 March \", \"31 March \", \"01 April \", \"02 April \", \"03 April \", \"04 April \", \"05 April \", \"06 April \", \"07 April \", \"08 April \", \"09 April \", \"10 April \", \"11 April \", \"12 April \", \"13 April \", \"14 April \", \"15 April \", \"16 April \", \"17 April \", \"18 April \", \"19 April \", \"20 April \", \"21 April \", \"22 April \", \"23 April \", \"24 April \", \"25 April \", \"26 April \", \"27 April \", \"28 April \"], \"y\": [\"0\", \"0\", \"0\", \"0\", \"0\", \"0\", \"0\", \"0\", \"0\", \"0\", \"0\", \"0\", \"0\", \"0\", \"0\", \"0\", \"0\", \"0\", \"0\", \"0\", \"0\", \"0\", \"0\", \"0\", \"0\", \"0\", \"0\", \"0\", \"0\", \"0\", \"0\", \"0\", \"0\", \"0\", \"0\", \"0\", \"0\", \"0\", \"0\", \"0\", \"0\", \"0\", \"1\", \"1\", \"2\", \"2\", \"2\", \"3\", \"3\", \"4\", \"4\", \"4\", \"7\", \"9\", \"10\", \"11\", \"16\", \"19\", \"24\", \"27\", \"41\", \"47\", \"53\", \"69\", \"83\", \"96\", \"118\", \"134\", \"161\", \"181\", \"227\", \"249\", \"290\", \"332\", \"359\", \"396\", \"423\", \"449\", \"487\", \"522\", \"560\", \"593\", \"646\", \"682\", \"722\", \"781\", \"825\", \"881\", \"939\", \"1008\"]}, {\"name\": \"Daily Confirmed\", \"type\": \"bar\", \"x\": [\"30 January \", \"31 January \", \"01 February \", \"02 February \", \"03 February \", \"04 February \", \"05 February \", \"06 February \", \"07 February \", \"08 February \", \"09 February \", \"10 February \", \"11 February \", \"12 February \", \"13 February \", \"14 February \", \"15 February \", \"16 February \", \"17 February \", \"18 February \", \"19 February \", \"20 February \", \"21 February \", \"22 February \", \"23 February \", \"24 February \", \"25 February \", \"26 February \", \"27 February \", \"28 February \", \"29 February \", \"01 March \", \"02 March \", \"03 March \", \"04 March \", \"05 March \", \"06 March \", \"07 March \", \"08 March \", \"09 March \", \"10 March \", \"11 March \", \"12 March \", \"13 March \", \"14 March \", \"15 March \", \"16 March \", \"17 March \", \"18 March \", \"19 March \", \"20 March \", \"21 March \", \"22 March \", \"23 March \", \"24 March \", \"25 March \", \"26 March \", \"27 March \", \"28 March \", \"29 March \", \"30 March \", \"31 March \", \"01 April \", \"02 April \", \"03 April \", \"04 April \", \"05 April \", \"06 April \", \"07 April \", \"08 April \", \"09 April \", \"10 April \", \"11 April \", \"12 April \", \"13 April \", \"14 April \", \"15 April \", \"16 April \", \"17 April \", \"18 April \", \"19 April \", \"20 April \", \"21 April \", \"22 April \", \"23 April \", \"24 April \", \"25 April \", \"26 April \", \"27 April \", \"28 April \"], \"y\": [\"1\", \"0\", \"0\", \"1\", \"1\", \"0\", \"0\", \"0\", \"0\", \"0\", \"0\", \"0\", \"0\", \"0\", \"0\", \"0\", \"0\", \"0\", \"0\", \"0\", \"0\", \"0\", \"0\", \"0\", \"0\", \"0\", \"0\", \"0\", \"0\", \"0\", \"0\", \"0\", \"2\", \"1\", \"22\", \"2\", \"1\", \"3\", \"5\", \"9\", \"15\", \"8\", \"10\", \"10\", \"11\", \"10\", \"14\", \"20\", \"25\", \"27\", \"58\", \"78\", \"69\", \"94\", \"74\", \"86\", \"73\", \"153\", \"136\", \"120\", \"187\", \"309\", \"424\", \"486\", \"560\", \"579\", \"609\", \"484\", \"573\", \"565\", \"813\", \"871\", \"854\", \"758\", \"1243\", \"1031\", \"886\", \"1061\", \"922\", \"1371\", \"1580\", \"1239\", \"1537\", \"1292\", \"1667\", \"1408\", \"1835\", \"1607\", \"1568\", \"1902\"]}, {\"name\": \"Daily Deceased\", \"type\": \"bar\", \"x\": [\"30 January \", \"31 January \", \"01 February \", \"02 February \", \"03 February \", \"04 February \", \"05 February \", \"06 February \", \"07 February \", \"08 February \", \"09 February \", \"10 February \", \"11 February \", \"12 February \", \"13 February \", \"14 February \", \"15 February \", \"16 February \", \"17 February \", \"18 February \", \"19 February \", \"20 February \", \"21 February \", \"22 February \", \"23 February \", \"24 February \", \"25 February \", \"26 February \", \"27 February \", \"28 February \", \"29 February \", \"01 March \", \"02 March \", \"03 March \", \"04 March \", \"05 March \", \"06 March \", \"07 March \", \"08 March \", \"09 March \", \"10 March \", \"11 March \", \"12 March \", \"13 March \", \"14 March \", \"15 March \", \"16 March \", \"17 March \", \"18 March \", \"19 March \", \"20 March \", \"21 March \", \"22 March \", \"23 March \", \"24 March \", \"25 March \", \"26 March \", \"27 March \", \"28 March \", \"29 March \", \"30 March \", \"31 March \", \"01 April \", \"02 April \", \"03 April \", \"04 April \", \"05 April \", \"06 April \", \"07 April \", \"08 April \", \"09 April \", \"10 April \", \"11 April \", \"12 April \", \"13 April \", \"14 April \", \"15 April \", \"16 April \", \"17 April \", \"18 April \", \"19 April \", \"20 April \", \"21 April \", \"22 April \", \"23 April \", \"24 April \", \"25 April \", \"26 April \", \"27 April \", \"28 April \"], \"y\": [\"0\", \"0\", \"0\", \"0\", \"0\", \"0\", \"0\", \"0\", \"0\", \"0\", \"0\", \"0\", \"0\", \"0\", \"0\", \"0\", \"0\", \"0\", \"0\", \"0\", \"0\", \"0\", \"0\", \"0\", \"0\", \"0\", \"0\", \"0\", \"0\", \"0\", \"0\", \"0\", \"0\", \"0\", \"0\", \"0\", \"0\", \"0\", \"0\", \"0\", \"0\", \"0\", \"1\", \"0\", \"1\", \"0\", \"0\", \"1\", \"0\", \"1\", \"0\", \"0\", \"3\", \"2\", \"1\", \"1\", \"5\", \"3\", \"5\", \"3\", \"14\", \"6\", \"6\", \"16\", \"14\", \"13\", \"22\", \"16\", \"27\", \"20\", \"46\", \"22\", \"41\", \"42\", \"27\", \"37\", \"27\", \"26\", \"38\", \"35\", \"38\", \"33\", \"53\", \"36\", \"40\", \"59\", \"44\", \"56\", \"58\", \"69\"]}, {\"name\": \"Daily Recovered\", \"type\": \"bar\", \"x\": [\"30 January \", \"31 January \", \"01 February \", \"02 February \", \"03 February \", \"04 February \", \"05 February \", \"06 February \", \"07 February \", \"08 February \", \"09 February \", \"10 February \", \"11 February \", \"12 February \", \"13 February \", \"14 February \", \"15 February \", \"16 February \", \"17 February \", \"18 February \", \"19 February \", \"20 February \", \"21 February \", \"22 February \", \"23 February \", \"24 February \", \"25 February \", \"26 February \", \"27 February \", \"28 February \", \"29 February \", \"01 March \", \"02 March \", \"03 March \", \"04 March \", \"05 March \", \"06 March \", \"07 March \", \"08 March \", \"09 March \", \"10 March \", \"11 March \", \"12 March \", \"13 March \", \"14 March \", \"15 March \", \"16 March \", \"17 March \", \"18 March \", \"19 March \", \"20 March \", \"21 March \", \"22 March \", \"23 March \", \"24 March \", \"25 March \", \"26 March \", \"27 March \", \"28 March \", \"29 March \", \"30 March \", \"31 March \", \"01 April \", \"02 April \", \"03 April \", \"04 April \", \"05 April \", \"06 April \", \"07 April \", \"08 April \", \"09 April \", \"10 April \", \"11 April \", \"12 April \", \"13 April \", \"14 April \", \"15 April \", \"16 April \", \"17 April \", \"18 April \", \"19 April \", \"20 April \", \"21 April \", \"22 April \", \"23 April \", \"24 April \", \"25 April \", \"26 April \", \"27 April \", \"28 April \"], \"y\": [\"0\", \"0\", \"0\", \"0\", \"0\", \"0\", \"0\", \"0\", \"0\", \"0\", \"0\", \"0\", \"0\", \"0\", \"1\", \"0\", \"0\", \"1\", \"0\", \"0\", \"0\", \"1\", \"0\", \"0\", \"0\", \"0\", \"0\", \"0\", \"0\", \"0\", \"0\", \"0\", \"0\", \"0\", \"0\", \"0\", \"0\", \"0\", \"0\", \"0\", \"1\", \"0\", \"0\", \"6\", \"0\", \"3\", \"1\", \"1\", \"0\", \"5\", \"3\", \"0\", \"0\", \"2\", \"15\", \"3\", \"7\", \"25\", \"10\", \"17\", \"35\", \"13\", \"19\", \"22\", \"39\", \"56\", \"43\", \"65\", \"75\", \"96\", \"70\", \"151\", \"186\", \"114\", \"112\", \"167\", \"144\", \"258\", \"273\", \"426\", \"388\", \"419\", \"703\", \"394\", \"642\", \"484\", \"442\", \"585\", \"587\", \"637\"]}],\n",
              "                        {\"barmode\": \"stack\", \"template\": {\"data\": {\"bar\": [{\"error_x\": {\"color\": \"#2a3f5f\"}, \"error_y\": {\"color\": \"#2a3f5f\"}, \"marker\": {\"line\": {\"color\": \"#E5ECF6\", \"width\": 0.5}}, \"type\": \"bar\"}], \"barpolar\": [{\"marker\": {\"line\": {\"color\": \"#E5ECF6\", \"width\": 0.5}}, \"type\": \"barpolar\"}], \"carpet\": [{\"aaxis\": {\"endlinecolor\": \"#2a3f5f\", \"gridcolor\": \"white\", \"linecolor\": \"white\", \"minorgridcolor\": \"white\", \"startlinecolor\": \"#2a3f5f\"}, \"baxis\": {\"endlinecolor\": \"#2a3f5f\", \"gridcolor\": \"white\", \"linecolor\": \"white\", \"minorgridcolor\": \"white\", \"startlinecolor\": \"#2a3f5f\"}, \"type\": \"carpet\"}], \"choropleth\": [{\"colorbar\": {\"outlinewidth\": 0, \"ticks\": \"\"}, \"type\": \"choropleth\"}], \"contour\": [{\"colorbar\": {\"outlinewidth\": 0, \"ticks\": \"\"}, \"colorscale\": [[0.0, \"#0d0887\"], [0.1111111111111111, \"#46039f\"], [0.2222222222222222, \"#7201a8\"], [0.3333333333333333, \"#9c179e\"], [0.4444444444444444, \"#bd3786\"], [0.5555555555555556, \"#d8576b\"], [0.6666666666666666, \"#ed7953\"], [0.7777777777777778, \"#fb9f3a\"], [0.8888888888888888, \"#fdca26\"], [1.0, \"#f0f921\"]], \"type\": \"contour\"}], \"contourcarpet\": [{\"colorbar\": {\"outlinewidth\": 0, \"ticks\": \"\"}, \"type\": \"contourcarpet\"}], \"heatmap\": [{\"colorbar\": {\"outlinewidth\": 0, \"ticks\": \"\"}, \"colorscale\": [[0.0, \"#0d0887\"], [0.1111111111111111, \"#46039f\"], [0.2222222222222222, \"#7201a8\"], [0.3333333333333333, \"#9c179e\"], [0.4444444444444444, \"#bd3786\"], [0.5555555555555556, \"#d8576b\"], [0.6666666666666666, \"#ed7953\"], [0.7777777777777778, \"#fb9f3a\"], [0.8888888888888888, \"#fdca26\"], [1.0, \"#f0f921\"]], \"type\": \"heatmap\"}], \"heatmapgl\": [{\"colorbar\": {\"outlinewidth\": 0, \"ticks\": \"\"}, \"colorscale\": [[0.0, \"#0d0887\"], [0.1111111111111111, \"#46039f\"], [0.2222222222222222, \"#7201a8\"], [0.3333333333333333, \"#9c179e\"], [0.4444444444444444, \"#bd3786\"], [0.5555555555555556, \"#d8576b\"], [0.6666666666666666, \"#ed7953\"], [0.7777777777777778, \"#fb9f3a\"], [0.8888888888888888, \"#fdca26\"], [1.0, \"#f0f921\"]], \"type\": \"heatmapgl\"}], \"histogram\": [{\"marker\": {\"colorbar\": {\"outlinewidth\": 0, \"ticks\": \"\"}}, \"type\": \"histogram\"}], \"histogram2d\": [{\"colorbar\": {\"outlinewidth\": 0, \"ticks\": \"\"}, \"colorscale\": [[0.0, \"#0d0887\"], [0.1111111111111111, \"#46039f\"], [0.2222222222222222, \"#7201a8\"], [0.3333333333333333, \"#9c179e\"], [0.4444444444444444, \"#bd3786\"], [0.5555555555555556, \"#d8576b\"], [0.6666666666666666, \"#ed7953\"], [0.7777777777777778, \"#fb9f3a\"], [0.8888888888888888, \"#fdca26\"], [1.0, \"#f0f921\"]], \"type\": \"histogram2d\"}], \"histogram2dcontour\": [{\"colorbar\": {\"outlinewidth\": 0, \"ticks\": \"\"}, \"colorscale\": [[0.0, \"#0d0887\"], [0.1111111111111111, \"#46039f\"], [0.2222222222222222, \"#7201a8\"], [0.3333333333333333, \"#9c179e\"], [0.4444444444444444, \"#bd3786\"], [0.5555555555555556, \"#d8576b\"], [0.6666666666666666, \"#ed7953\"], [0.7777777777777778, \"#fb9f3a\"], [0.8888888888888888, \"#fdca26\"], [1.0, \"#f0f921\"]], \"type\": \"histogram2dcontour\"}], \"mesh3d\": [{\"colorbar\": {\"outlinewidth\": 0, \"ticks\": \"\"}, \"type\": \"mesh3d\"}], \"parcoords\": [{\"line\": {\"colorbar\": {\"outlinewidth\": 0, \"ticks\": \"\"}}, \"type\": \"parcoords\"}], \"pie\": [{\"automargin\": true, \"type\": \"pie\"}], \"scatter\": [{\"marker\": {\"colorbar\": {\"outlinewidth\": 0, \"ticks\": \"\"}}, \"type\": \"scatter\"}], \"scatter3d\": [{\"line\": {\"colorbar\": {\"outlinewidth\": 0, \"ticks\": \"\"}}, \"marker\": {\"colorbar\": {\"outlinewidth\": 0, \"ticks\": \"\"}}, \"type\": \"scatter3d\"}], \"scattercarpet\": [{\"marker\": {\"colorbar\": {\"outlinewidth\": 0, \"ticks\": \"\"}}, \"type\": \"scattercarpet\"}], \"scattergeo\": [{\"marker\": {\"colorbar\": {\"outlinewidth\": 0, \"ticks\": \"\"}}, \"type\": \"scattergeo\"}], \"scattergl\": [{\"marker\": {\"colorbar\": {\"outlinewidth\": 0, \"ticks\": \"\"}}, \"type\": \"scattergl\"}], \"scattermapbox\": [{\"marker\": {\"colorbar\": {\"outlinewidth\": 0, \"ticks\": \"\"}}, \"type\": \"scattermapbox\"}], \"scatterpolar\": [{\"marker\": {\"colorbar\": {\"outlinewidth\": 0, \"ticks\": \"\"}}, \"type\": \"scatterpolar\"}], \"scatterpolargl\": [{\"marker\": {\"colorbar\": {\"outlinewidth\": 0, \"ticks\": \"\"}}, \"type\": \"scatterpolargl\"}], \"scatterternary\": [{\"marker\": {\"colorbar\": {\"outlinewidth\": 0, \"ticks\": \"\"}}, \"type\": \"scatterternary\"}], \"surface\": [{\"colorbar\": {\"outlinewidth\": 0, \"ticks\": \"\"}, \"colorscale\": [[0.0, \"#0d0887\"], [0.1111111111111111, \"#46039f\"], [0.2222222222222222, \"#7201a8\"], [0.3333333333333333, \"#9c179e\"], [0.4444444444444444, \"#bd3786\"], [0.5555555555555556, \"#d8576b\"], [0.6666666666666666, \"#ed7953\"], [0.7777777777777778, \"#fb9f3a\"], [0.8888888888888888, \"#fdca26\"], [1.0, \"#f0f921\"]], \"type\": \"surface\"}], \"table\": [{\"cells\": {\"fill\": {\"color\": \"#EBF0F8\"}, \"line\": {\"color\": \"white\"}}, \"header\": {\"fill\": {\"color\": \"#C8D4E3\"}, \"line\": {\"color\": \"white\"}}, \"type\": \"table\"}]}, \"layout\": {\"annotationdefaults\": {\"arrowcolor\": \"#2a3f5f\", \"arrowhead\": 0, \"arrowwidth\": 1}, \"coloraxis\": {\"colorbar\": {\"outlinewidth\": 0, \"ticks\": \"\"}}, \"colorscale\": {\"diverging\": [[0, \"#8e0152\"], [0.1, \"#c51b7d\"], [0.2, \"#de77ae\"], [0.3, \"#f1b6da\"], [0.4, \"#fde0ef\"], [0.5, \"#f7f7f7\"], [0.6, \"#e6f5d0\"], [0.7, \"#b8e186\"], [0.8, \"#7fbc41\"], [0.9, \"#4d9221\"], [1, \"#276419\"]], \"sequential\": [[0.0, \"#0d0887\"], [0.1111111111111111, \"#46039f\"], [0.2222222222222222, \"#7201a8\"], [0.3333333333333333, \"#9c179e\"], [0.4444444444444444, \"#bd3786\"], [0.5555555555555556, \"#d8576b\"], [0.6666666666666666, \"#ed7953\"], [0.7777777777777778, \"#fb9f3a\"], [0.8888888888888888, \"#fdca26\"], [1.0, \"#f0f921\"]], \"sequentialminus\": [[0.0, \"#0d0887\"], [0.1111111111111111, \"#46039f\"], [0.2222222222222222, \"#7201a8\"], [0.3333333333333333, \"#9c179e\"], [0.4444444444444444, \"#bd3786\"], [0.5555555555555556, \"#d8576b\"], [0.6666666666666666, \"#ed7953\"], [0.7777777777777778, \"#fb9f3a\"], [0.8888888888888888, \"#fdca26\"], [1.0, \"#f0f921\"]]}, \"colorway\": [\"#636efa\", \"#EF553B\", \"#00cc96\", \"#ab63fa\", \"#FFA15A\", \"#19d3f3\", \"#FF6692\", \"#B6E880\", \"#FF97FF\", \"#FECB52\"], \"font\": {\"color\": \"#2a3f5f\"}, \"geo\": {\"bgcolor\": \"white\", \"lakecolor\": \"white\", \"landcolor\": \"#E5ECF6\", \"showlakes\": true, \"showland\": true, \"subunitcolor\": \"white\"}, \"hoverlabel\": {\"align\": \"left\"}, \"hovermode\": \"closest\", \"mapbox\": {\"style\": \"light\"}, \"paper_bgcolor\": \"white\", \"plot_bgcolor\": \"#E5ECF6\", \"polar\": {\"angularaxis\": {\"gridcolor\": \"white\", \"linecolor\": \"white\", \"ticks\": \"\"}, \"bgcolor\": \"#E5ECF6\", \"radialaxis\": {\"gridcolor\": \"white\", \"linecolor\": \"white\", \"ticks\": \"\"}}, \"scene\": {\"xaxis\": {\"backgroundcolor\": \"#E5ECF6\", \"gridcolor\": \"white\", \"gridwidth\": 2, \"linecolor\": \"white\", \"showbackground\": true, \"ticks\": \"\", \"zerolinecolor\": \"white\"}, \"yaxis\": {\"backgroundcolor\": \"#E5ECF6\", \"gridcolor\": \"white\", \"gridwidth\": 2, \"linecolor\": \"white\", \"showbackground\": true, \"ticks\": \"\", \"zerolinecolor\": \"white\"}, \"zaxis\": {\"backgroundcolor\": \"#E5ECF6\", \"gridcolor\": \"white\", \"gridwidth\": 2, \"linecolor\": \"white\", \"showbackground\": true, \"ticks\": \"\", \"zerolinecolor\": \"white\"}}, \"shapedefaults\": {\"line\": {\"color\": \"#2a3f5f\"}}, \"ternary\": {\"aaxis\": {\"gridcolor\": \"white\", \"linecolor\": \"white\", \"ticks\": \"\"}, \"baxis\": {\"gridcolor\": \"white\", \"linecolor\": \"white\", \"ticks\": \"\"}, \"bgcolor\": \"#E5ECF6\", \"caxis\": {\"gridcolor\": \"white\", \"linecolor\": \"white\", \"ticks\": \"\"}}, \"title\": {\"x\": 0.05}, \"xaxis\": {\"automargin\": true, \"gridcolor\": \"white\", \"linecolor\": \"white\", \"ticks\": \"\", \"title\": {\"standoff\": 15}, \"zerolinecolor\": \"white\", \"zerolinewidth\": 2}, \"yaxis\": {\"automargin\": true, \"gridcolor\": \"white\", \"linecolor\": \"white\", \"ticks\": \"\", \"title\": {\"standoff\": 15}, \"zerolinecolor\": \"white\", \"zerolinewidth\": 2}}}},\n",
              "                        {\"responsive\": true}\n",
              "                    ).then(function(){\n",
              "                            \n",
              "var gd = document.getElementById('baf52b7f-80a4-454b-94dd-1b3a699cbca0');\n",
              "var x = new MutationObserver(function (mutations, observer) {{\n",
              "        var display = window.getComputedStyle(gd).display;\n",
              "        if (!display || display === 'none') {{\n",
              "            console.log([gd, 'removed!']);\n",
              "            Plotly.purge(gd);\n",
              "            observer.disconnect();\n",
              "        }}\n",
              "}});\n",
              "\n",
              "// Listen for the removal of the full notebook cells\n",
              "var notebookContainer = gd.closest('#notebook-container');\n",
              "if (notebookContainer) {{\n",
              "    x.observe(notebookContainer, {childList: true});\n",
              "}}\n",
              "\n",
              "// Listen for the clearing of the current output cell\n",
              "var outputEl = gd.closest('.output');\n",
              "if (outputEl) {{\n",
              "    x.observe(outputEl, {childList: true});\n",
              "}}\n",
              "\n",
              "                        })\n",
              "                };\n",
              "                \n",
              "            </script>\n",
              "        </div>\n",
              "</body>\n",
              "</html>"
            ]
          },
          "metadata": {
            "tags": []
          }
        }
      ]
    },
    {
      "cell_type": "code",
      "metadata": {
        "extensions": {
          "jupyter_dashboards": {
            "version": 1,
            "views": {
              "grid_default": {},
              "report_default": {
                "hidden": false
              }
            }
          }
        },
        "id": "mSQcizgx63J9",
        "colab_type": "code",
        "outputId": "cdae3697-c90a-4e85-b0a5-c6cdc03a9f48",
        "colab": {
          "base_uri": "https://localhost:8080/",
          "height": 542
        }
      },
      "source": [
        "fig=go.Figure(data=[go.Bar(x=caseTimeSeries['date'], y=caseTimeSeries['dailyconfirmed'], name='Daily Confirmed'),\n",
        "              go.Bar(x=caseTimeSeries['date'], y=caseTimeSeries['dailydeceased'], name='Daily Deceased'),\n",
        "                   go.Bar(x=caseTimeSeries['date'], y=caseTimeSeries['dailyrecovered'], name='daily Receovered')]\n",
        "              )\n",
        "\n",
        "fig.update_layout(barmode='stack')\n",
        "fig.show()\n"
      ],
      "execution_count": 8,
      "outputs": [
        {
          "output_type": "display_data",
          "data": {
            "text/html": [
              "<html>\n",
              "<head><meta charset=\"utf-8\" /></head>\n",
              "<body>\n",
              "    <div>\n",
              "            <script src=\"https://cdnjs.cloudflare.com/ajax/libs/mathjax/2.7.5/MathJax.js?config=TeX-AMS-MML_SVG\"></script><script type=\"text/javascript\">if (window.MathJax) {MathJax.Hub.Config({SVG: {font: \"STIX-Web\"}});}</script>\n",
              "                <script type=\"text/javascript\">window.PlotlyConfig = {MathJaxConfig: 'local'};</script>\n",
              "        <script src=\"https://cdn.plot.ly/plotly-latest.min.js\"></script>    \n",
              "            <div id=\"d4f308e4-8218-4f7b-8666-809eefa95dfb\" class=\"plotly-graph-div\" style=\"height:525px; width:100%;\"></div>\n",
              "            <script type=\"text/javascript\">\n",
              "                \n",
              "                    window.PLOTLYENV=window.PLOTLYENV || {};\n",
              "                    \n",
              "                if (document.getElementById(\"d4f308e4-8218-4f7b-8666-809eefa95dfb\")) {\n",
              "                    Plotly.newPlot(\n",
              "                        'd4f308e4-8218-4f7b-8666-809eefa95dfb',\n",
              "                        [{\"name\": \"Daily Confirmed\", \"type\": \"bar\", \"x\": [\"30 January \", \"31 January \", \"01 February \", \"02 February \", \"03 February \", \"04 February \", \"05 February \", \"06 February \", \"07 February \", \"08 February \", \"09 February \", \"10 February \", \"11 February \", \"12 February \", \"13 February \", \"14 February \", \"15 February \", \"16 February \", \"17 February \", \"18 February \", \"19 February \", \"20 February \", \"21 February \", \"22 February \", \"23 February \", \"24 February \", \"25 February \", \"26 February \", \"27 February \", \"28 February \", \"29 February \", \"01 March \", \"02 March \", \"03 March \", \"04 March \", \"05 March \", \"06 March \", \"07 March \", \"08 March \", \"09 March \", \"10 March \", \"11 March \", \"12 March \", \"13 March \", \"14 March \", \"15 March \", \"16 March \", \"17 March \", \"18 March \", \"19 March \", \"20 March \", \"21 March \", \"22 March \", \"23 March \", \"24 March \", \"25 March \", \"26 March \", \"27 March \", \"28 March \", \"29 March \", \"30 March \", \"31 March \", \"01 April \", \"02 April \", \"03 April \", \"04 April \", \"05 April \", \"06 April \", \"07 April \", \"08 April \", \"09 April \", \"10 April \", \"11 April \", \"12 April \", \"13 April \", \"14 April \", \"15 April \", \"16 April \", \"17 April \", \"18 April \", \"19 April \", \"20 April \", \"21 April \", \"22 April \", \"23 April \", \"24 April \", \"25 April \", \"26 April \", \"27 April \", \"28 April \"], \"y\": [\"1\", \"0\", \"0\", \"1\", \"1\", \"0\", \"0\", \"0\", \"0\", \"0\", \"0\", \"0\", \"0\", \"0\", \"0\", \"0\", \"0\", \"0\", \"0\", \"0\", \"0\", \"0\", \"0\", \"0\", \"0\", \"0\", \"0\", \"0\", \"0\", \"0\", \"0\", \"0\", \"2\", \"1\", \"22\", \"2\", \"1\", \"3\", \"5\", \"9\", \"15\", \"8\", \"10\", \"10\", \"11\", \"10\", \"14\", \"20\", \"25\", \"27\", \"58\", \"78\", \"69\", \"94\", \"74\", \"86\", \"73\", \"153\", \"136\", \"120\", \"187\", \"309\", \"424\", \"486\", \"560\", \"579\", \"609\", \"484\", \"573\", \"565\", \"813\", \"871\", \"854\", \"758\", \"1243\", \"1031\", \"886\", \"1061\", \"922\", \"1371\", \"1580\", \"1239\", \"1537\", \"1292\", \"1667\", \"1408\", \"1835\", \"1607\", \"1568\", \"1902\"]}, {\"name\": \"Daily Deceased\", \"type\": \"bar\", \"x\": [\"30 January \", \"31 January \", \"01 February \", \"02 February \", \"03 February \", \"04 February \", \"05 February \", \"06 February \", \"07 February \", \"08 February \", \"09 February \", \"10 February \", \"11 February \", \"12 February \", \"13 February \", \"14 February \", \"15 February \", \"16 February \", \"17 February \", \"18 February \", \"19 February \", \"20 February \", \"21 February \", \"22 February \", \"23 February \", \"24 February \", \"25 February \", \"26 February \", \"27 February \", \"28 February \", \"29 February \", \"01 March \", \"02 March \", \"03 March \", \"04 March \", \"05 March \", \"06 March \", \"07 March \", \"08 March \", \"09 March \", \"10 March \", \"11 March \", \"12 March \", \"13 March \", \"14 March \", \"15 March \", \"16 March \", \"17 March \", \"18 March \", \"19 March \", \"20 March \", \"21 March \", \"22 March \", \"23 March \", \"24 March \", \"25 March \", \"26 March \", \"27 March \", \"28 March \", \"29 March \", \"30 March \", \"31 March \", \"01 April \", \"02 April \", \"03 April \", \"04 April \", \"05 April \", \"06 April \", \"07 April \", \"08 April \", \"09 April \", \"10 April \", \"11 April \", \"12 April \", \"13 April \", \"14 April \", \"15 April \", \"16 April \", \"17 April \", \"18 April \", \"19 April \", \"20 April \", \"21 April \", \"22 April \", \"23 April \", \"24 April \", \"25 April \", \"26 April \", \"27 April \", \"28 April \"], \"y\": [\"0\", \"0\", \"0\", \"0\", \"0\", \"0\", \"0\", \"0\", \"0\", \"0\", \"0\", \"0\", \"0\", \"0\", \"0\", \"0\", \"0\", \"0\", \"0\", \"0\", \"0\", \"0\", \"0\", \"0\", \"0\", \"0\", \"0\", \"0\", \"0\", \"0\", \"0\", \"0\", \"0\", \"0\", \"0\", \"0\", \"0\", \"0\", \"0\", \"0\", \"0\", \"0\", \"1\", \"0\", \"1\", \"0\", \"0\", \"1\", \"0\", \"1\", \"0\", \"0\", \"3\", \"2\", \"1\", \"1\", \"5\", \"3\", \"5\", \"3\", \"14\", \"6\", \"6\", \"16\", \"14\", \"13\", \"22\", \"16\", \"27\", \"20\", \"46\", \"22\", \"41\", \"42\", \"27\", \"37\", \"27\", \"26\", \"38\", \"35\", \"38\", \"33\", \"53\", \"36\", \"40\", \"59\", \"44\", \"56\", \"58\", \"69\"]}, {\"name\": \"daily Receovered\", \"type\": \"bar\", \"x\": [\"30 January \", \"31 January \", \"01 February \", \"02 February \", \"03 February \", \"04 February \", \"05 February \", \"06 February \", \"07 February \", \"08 February \", \"09 February \", \"10 February \", \"11 February \", \"12 February \", \"13 February \", \"14 February \", \"15 February \", \"16 February \", \"17 February \", \"18 February \", \"19 February \", \"20 February \", \"21 February \", \"22 February \", \"23 February \", \"24 February \", \"25 February \", \"26 February \", \"27 February \", \"28 February \", \"29 February \", \"01 March \", \"02 March \", \"03 March \", \"04 March \", \"05 March \", \"06 March \", \"07 March \", \"08 March \", \"09 March \", \"10 March \", \"11 March \", \"12 March \", \"13 March \", \"14 March \", \"15 March \", \"16 March \", \"17 March \", \"18 March \", \"19 March \", \"20 March \", \"21 March \", \"22 March \", \"23 March \", \"24 March \", \"25 March \", \"26 March \", \"27 March \", \"28 March \", \"29 March \", \"30 March \", \"31 March \", \"01 April \", \"02 April \", \"03 April \", \"04 April \", \"05 April \", \"06 April \", \"07 April \", \"08 April \", \"09 April \", \"10 April \", \"11 April \", \"12 April \", \"13 April \", \"14 April \", \"15 April \", \"16 April \", \"17 April \", \"18 April \", \"19 April \", \"20 April \", \"21 April \", \"22 April \", \"23 April \", \"24 April \", \"25 April \", \"26 April \", \"27 April \", \"28 April \"], \"y\": [\"0\", \"0\", \"0\", \"0\", \"0\", \"0\", \"0\", \"0\", \"0\", \"0\", \"0\", \"0\", \"0\", \"0\", \"1\", \"0\", \"0\", \"1\", \"0\", \"0\", \"0\", \"1\", \"0\", \"0\", \"0\", \"0\", \"0\", \"0\", \"0\", \"0\", \"0\", \"0\", \"0\", \"0\", \"0\", \"0\", \"0\", \"0\", \"0\", \"0\", \"1\", \"0\", \"0\", \"6\", \"0\", \"3\", \"1\", \"1\", \"0\", \"5\", \"3\", \"0\", \"0\", \"2\", \"15\", \"3\", \"7\", \"25\", \"10\", \"17\", \"35\", \"13\", \"19\", \"22\", \"39\", \"56\", \"43\", \"65\", \"75\", \"96\", \"70\", \"151\", \"186\", \"114\", \"112\", \"167\", \"144\", \"258\", \"273\", \"426\", \"388\", \"419\", \"703\", \"394\", \"642\", \"484\", \"442\", \"585\", \"587\", \"637\"]}],\n",
              "                        {\"barmode\": \"stack\", \"template\": {\"data\": {\"bar\": [{\"error_x\": {\"color\": \"#2a3f5f\"}, \"error_y\": {\"color\": \"#2a3f5f\"}, \"marker\": {\"line\": {\"color\": \"#E5ECF6\", \"width\": 0.5}}, \"type\": \"bar\"}], \"barpolar\": [{\"marker\": {\"line\": {\"color\": \"#E5ECF6\", \"width\": 0.5}}, \"type\": \"barpolar\"}], \"carpet\": [{\"aaxis\": {\"endlinecolor\": \"#2a3f5f\", \"gridcolor\": \"white\", \"linecolor\": \"white\", \"minorgridcolor\": \"white\", \"startlinecolor\": \"#2a3f5f\"}, \"baxis\": {\"endlinecolor\": \"#2a3f5f\", \"gridcolor\": \"white\", \"linecolor\": \"white\", \"minorgridcolor\": \"white\", \"startlinecolor\": \"#2a3f5f\"}, \"type\": \"carpet\"}], \"choropleth\": [{\"colorbar\": {\"outlinewidth\": 0, \"ticks\": \"\"}, \"type\": \"choropleth\"}], \"contour\": [{\"colorbar\": {\"outlinewidth\": 0, \"ticks\": \"\"}, \"colorscale\": [[0.0, \"#0d0887\"], [0.1111111111111111, \"#46039f\"], [0.2222222222222222, \"#7201a8\"], [0.3333333333333333, \"#9c179e\"], [0.4444444444444444, \"#bd3786\"], [0.5555555555555556, \"#d8576b\"], [0.6666666666666666, \"#ed7953\"], [0.7777777777777778, \"#fb9f3a\"], [0.8888888888888888, \"#fdca26\"], [1.0, \"#f0f921\"]], \"type\": \"contour\"}], \"contourcarpet\": [{\"colorbar\": {\"outlinewidth\": 0, \"ticks\": \"\"}, \"type\": \"contourcarpet\"}], \"heatmap\": [{\"colorbar\": {\"outlinewidth\": 0, \"ticks\": \"\"}, \"colorscale\": [[0.0, \"#0d0887\"], [0.1111111111111111, \"#46039f\"], [0.2222222222222222, \"#7201a8\"], [0.3333333333333333, \"#9c179e\"], [0.4444444444444444, \"#bd3786\"], [0.5555555555555556, \"#d8576b\"], [0.6666666666666666, \"#ed7953\"], [0.7777777777777778, \"#fb9f3a\"], [0.8888888888888888, \"#fdca26\"], [1.0, \"#f0f921\"]], \"type\": \"heatmap\"}], \"heatmapgl\": [{\"colorbar\": {\"outlinewidth\": 0, \"ticks\": \"\"}, \"colorscale\": [[0.0, \"#0d0887\"], [0.1111111111111111, \"#46039f\"], [0.2222222222222222, \"#7201a8\"], [0.3333333333333333, \"#9c179e\"], [0.4444444444444444, \"#bd3786\"], [0.5555555555555556, \"#d8576b\"], [0.6666666666666666, \"#ed7953\"], [0.7777777777777778, \"#fb9f3a\"], [0.8888888888888888, \"#fdca26\"], [1.0, \"#f0f921\"]], \"type\": \"heatmapgl\"}], \"histogram\": [{\"marker\": {\"colorbar\": {\"outlinewidth\": 0, \"ticks\": \"\"}}, \"type\": \"histogram\"}], \"histogram2d\": [{\"colorbar\": {\"outlinewidth\": 0, \"ticks\": \"\"}, \"colorscale\": [[0.0, \"#0d0887\"], [0.1111111111111111, \"#46039f\"], [0.2222222222222222, \"#7201a8\"], [0.3333333333333333, \"#9c179e\"], [0.4444444444444444, \"#bd3786\"], [0.5555555555555556, \"#d8576b\"], [0.6666666666666666, \"#ed7953\"], [0.7777777777777778, \"#fb9f3a\"], [0.8888888888888888, \"#fdca26\"], [1.0, \"#f0f921\"]], \"type\": \"histogram2d\"}], \"histogram2dcontour\": [{\"colorbar\": {\"outlinewidth\": 0, \"ticks\": \"\"}, \"colorscale\": [[0.0, \"#0d0887\"], [0.1111111111111111, \"#46039f\"], [0.2222222222222222, \"#7201a8\"], [0.3333333333333333, \"#9c179e\"], [0.4444444444444444, \"#bd3786\"], [0.5555555555555556, \"#d8576b\"], [0.6666666666666666, \"#ed7953\"], [0.7777777777777778, \"#fb9f3a\"], [0.8888888888888888, \"#fdca26\"], [1.0, \"#f0f921\"]], \"type\": \"histogram2dcontour\"}], \"mesh3d\": [{\"colorbar\": {\"outlinewidth\": 0, \"ticks\": \"\"}, \"type\": \"mesh3d\"}], \"parcoords\": [{\"line\": {\"colorbar\": {\"outlinewidth\": 0, \"ticks\": \"\"}}, \"type\": \"parcoords\"}], \"pie\": [{\"automargin\": true, \"type\": \"pie\"}], \"scatter\": [{\"marker\": {\"colorbar\": {\"outlinewidth\": 0, \"ticks\": \"\"}}, \"type\": \"scatter\"}], \"scatter3d\": [{\"line\": {\"colorbar\": {\"outlinewidth\": 0, \"ticks\": \"\"}}, \"marker\": {\"colorbar\": {\"outlinewidth\": 0, \"ticks\": \"\"}}, \"type\": \"scatter3d\"}], \"scattercarpet\": [{\"marker\": {\"colorbar\": {\"outlinewidth\": 0, \"ticks\": \"\"}}, \"type\": \"scattercarpet\"}], \"scattergeo\": [{\"marker\": {\"colorbar\": {\"outlinewidth\": 0, \"ticks\": \"\"}}, \"type\": \"scattergeo\"}], \"scattergl\": [{\"marker\": {\"colorbar\": {\"outlinewidth\": 0, \"ticks\": \"\"}}, \"type\": \"scattergl\"}], \"scattermapbox\": [{\"marker\": {\"colorbar\": {\"outlinewidth\": 0, \"ticks\": \"\"}}, \"type\": \"scattermapbox\"}], \"scatterpolar\": [{\"marker\": {\"colorbar\": {\"outlinewidth\": 0, \"ticks\": \"\"}}, \"type\": \"scatterpolar\"}], \"scatterpolargl\": [{\"marker\": {\"colorbar\": {\"outlinewidth\": 0, \"ticks\": \"\"}}, \"type\": \"scatterpolargl\"}], \"scatterternary\": [{\"marker\": {\"colorbar\": {\"outlinewidth\": 0, \"ticks\": \"\"}}, \"type\": \"scatterternary\"}], \"surface\": [{\"colorbar\": {\"outlinewidth\": 0, \"ticks\": \"\"}, \"colorscale\": [[0.0, \"#0d0887\"], [0.1111111111111111, \"#46039f\"], [0.2222222222222222, \"#7201a8\"], [0.3333333333333333, \"#9c179e\"], [0.4444444444444444, \"#bd3786\"], [0.5555555555555556, \"#d8576b\"], [0.6666666666666666, \"#ed7953\"], [0.7777777777777778, \"#fb9f3a\"], [0.8888888888888888, \"#fdca26\"], [1.0, \"#f0f921\"]], \"type\": \"surface\"}], \"table\": [{\"cells\": {\"fill\": {\"color\": \"#EBF0F8\"}, \"line\": {\"color\": \"white\"}}, \"header\": {\"fill\": {\"color\": \"#C8D4E3\"}, \"line\": {\"color\": \"white\"}}, \"type\": \"table\"}]}, \"layout\": {\"annotationdefaults\": {\"arrowcolor\": \"#2a3f5f\", \"arrowhead\": 0, \"arrowwidth\": 1}, \"coloraxis\": {\"colorbar\": {\"outlinewidth\": 0, \"ticks\": \"\"}}, \"colorscale\": {\"diverging\": [[0, \"#8e0152\"], [0.1, \"#c51b7d\"], [0.2, \"#de77ae\"], [0.3, \"#f1b6da\"], [0.4, \"#fde0ef\"], [0.5, \"#f7f7f7\"], [0.6, \"#e6f5d0\"], [0.7, \"#b8e186\"], [0.8, \"#7fbc41\"], [0.9, \"#4d9221\"], [1, \"#276419\"]], \"sequential\": [[0.0, \"#0d0887\"], [0.1111111111111111, \"#46039f\"], [0.2222222222222222, \"#7201a8\"], [0.3333333333333333, \"#9c179e\"], [0.4444444444444444, \"#bd3786\"], [0.5555555555555556, \"#d8576b\"], [0.6666666666666666, \"#ed7953\"], [0.7777777777777778, \"#fb9f3a\"], [0.8888888888888888, \"#fdca26\"], [1.0, \"#f0f921\"]], \"sequentialminus\": [[0.0, \"#0d0887\"], [0.1111111111111111, \"#46039f\"], [0.2222222222222222, \"#7201a8\"], [0.3333333333333333, \"#9c179e\"], [0.4444444444444444, \"#bd3786\"], [0.5555555555555556, \"#d8576b\"], [0.6666666666666666, \"#ed7953\"], [0.7777777777777778, \"#fb9f3a\"], [0.8888888888888888, \"#fdca26\"], [1.0, \"#f0f921\"]]}, \"colorway\": [\"#636efa\", \"#EF553B\", \"#00cc96\", \"#ab63fa\", \"#FFA15A\", \"#19d3f3\", \"#FF6692\", \"#B6E880\", \"#FF97FF\", \"#FECB52\"], \"font\": {\"color\": \"#2a3f5f\"}, \"geo\": {\"bgcolor\": \"white\", \"lakecolor\": \"white\", \"landcolor\": \"#E5ECF6\", \"showlakes\": true, \"showland\": true, \"subunitcolor\": \"white\"}, \"hoverlabel\": {\"align\": \"left\"}, \"hovermode\": \"closest\", \"mapbox\": {\"style\": \"light\"}, \"paper_bgcolor\": \"white\", \"plot_bgcolor\": \"#E5ECF6\", \"polar\": {\"angularaxis\": {\"gridcolor\": \"white\", \"linecolor\": \"white\", \"ticks\": \"\"}, \"bgcolor\": \"#E5ECF6\", \"radialaxis\": {\"gridcolor\": \"white\", \"linecolor\": \"white\", \"ticks\": \"\"}}, \"scene\": {\"xaxis\": {\"backgroundcolor\": \"#E5ECF6\", \"gridcolor\": \"white\", \"gridwidth\": 2, \"linecolor\": \"white\", \"showbackground\": true, \"ticks\": \"\", \"zerolinecolor\": \"white\"}, \"yaxis\": {\"backgroundcolor\": \"#E5ECF6\", \"gridcolor\": \"white\", \"gridwidth\": 2, \"linecolor\": \"white\", \"showbackground\": true, \"ticks\": \"\", \"zerolinecolor\": \"white\"}, \"zaxis\": {\"backgroundcolor\": \"#E5ECF6\", \"gridcolor\": \"white\", \"gridwidth\": 2, \"linecolor\": \"white\", \"showbackground\": true, \"ticks\": \"\", \"zerolinecolor\": \"white\"}}, \"shapedefaults\": {\"line\": {\"color\": \"#2a3f5f\"}}, \"ternary\": {\"aaxis\": {\"gridcolor\": \"white\", \"linecolor\": \"white\", \"ticks\": \"\"}, \"baxis\": {\"gridcolor\": \"white\", \"linecolor\": \"white\", \"ticks\": \"\"}, \"bgcolor\": \"#E5ECF6\", \"caxis\": {\"gridcolor\": \"white\", \"linecolor\": \"white\", \"ticks\": \"\"}}, \"title\": {\"x\": 0.05}, \"xaxis\": {\"automargin\": true, \"gridcolor\": \"white\", \"linecolor\": \"white\", \"ticks\": \"\", \"title\": {\"standoff\": 15}, \"zerolinecolor\": \"white\", \"zerolinewidth\": 2}, \"yaxis\": {\"automargin\": true, \"gridcolor\": \"white\", \"linecolor\": \"white\", \"ticks\": \"\", \"title\": {\"standoff\": 15}, \"zerolinecolor\": \"white\", \"zerolinewidth\": 2}}}},\n",
              "                        {\"responsive\": true}\n",
              "                    ).then(function(){\n",
              "                            \n",
              "var gd = document.getElementById('d4f308e4-8218-4f7b-8666-809eefa95dfb');\n",
              "var x = new MutationObserver(function (mutations, observer) {{\n",
              "        var display = window.getComputedStyle(gd).display;\n",
              "        if (!display || display === 'none') {{\n",
              "            console.log([gd, 'removed!']);\n",
              "            Plotly.purge(gd);\n",
              "            observer.disconnect();\n",
              "        }}\n",
              "}});\n",
              "\n",
              "// Listen for the removal of the full notebook cells\n",
              "var notebookContainer = gd.closest('#notebook-container');\n",
              "if (notebookContainer) {{\n",
              "    x.observe(notebookContainer, {childList: true});\n",
              "}}\n",
              "\n",
              "// Listen for the clearing of the current output cell\n",
              "var outputEl = gd.closest('.output');\n",
              "if (outputEl) {{\n",
              "    x.observe(outputEl, {childList: true});\n",
              "}}\n",
              "\n",
              "                        })\n",
              "                };\n",
              "                \n",
              "            </script>\n",
              "        </div>\n",
              "</body>\n",
              "</html>"
            ]
          },
          "metadata": {
            "tags": []
          }
        }
      ]
    },
    {
      "cell_type": "code",
      "metadata": {
        "extensions": {
          "jupyter_dashboards": {
            "version": 1,
            "views": {
              "grid_default": {},
              "report_default": {
                "hidden": true
              }
            }
          }
        },
        "id": "f_qaXUgU63J_",
        "colab_type": "code",
        "colab": {}
      },
      "source": [
        "caseTimeSeries = caseTimeSeries.astype(int, errors='ignore')"
      ],
      "execution_count": 0,
      "outputs": []
    },
    {
      "cell_type": "code",
      "metadata": {
        "extensions": {
          "jupyter_dashboards": {
            "version": 1,
            "views": {
              "grid_default": {},
              "report_default": {
                "hidden": true
              }
            }
          }
        },
        "id": "3OAsO3vr63KB",
        "colab_type": "code",
        "colab": {}
      },
      "source": [
        "caseTimeSeries['dailyconfirmed'] = caseTimeSeries.dailyconfirmed.apply(lambda x:int(x))"
      ],
      "execution_count": 0,
      "outputs": []
    },
    {
      "cell_type": "code",
      "metadata": {
        "extensions": {
          "jupyter_dashboards": {
            "version": 1,
            "views": {
              "grid_default": {},
              "report_default": {
                "hidden": true
              }
            }
          }
        },
        "id": "jlR1Z7qO63KD",
        "colab_type": "code",
        "outputId": "59da8d98-6c60-43b9-80b7-0c492a53bcd1",
        "colab": {
          "base_uri": "https://localhost:8080/",
          "height": 458
        }
      },
      "source": [
        "sns.jointplot(x=caseTimeSeries.index,y='dailyconfirmed',data=caseTimeSeries,kind='reg')"
      ],
      "execution_count": 11,
      "outputs": [
        {
          "output_type": "execute_result",
          "data": {
            "text/plain": [
              "<seaborn.axisgrid.JointGrid at 0x7f78a6317550>"
            ]
          },
          "metadata": {
            "tags": []
          },
          "execution_count": 11
        },
        {
          "output_type": "display_data",
          "data": {
            "image/png": "[encoded data removed]",
            "text/plain": [
              "<Figure size 432x432 with 3 Axes>"
            ]
          },
          "metadata": {
            "tags": [],
            "needs_background": "light"
          }
        }
      ]
    },
    {
      "cell_type": "code",
      "metadata": {
        "extensions": {
          "jupyter_dashboards": {
            "version": 1,
            "views": {
              "grid_default": {},
              "report_default": {
                "hidden": true
              }
            }
          }
        },
        "scrolled": true,
        "id": "iTd_Qu3-63KG",
        "colab_type": "code",
        "colab": {}
      },
      "source": [
        "stateapi = 'https://api.covid19india.org/states_daily.json'\n",
        "stateData = requests.get(stateapi).json()\n",
        "stateTested = '\thttps://api.covid19india.org/state_test_data.json'\n",
        "stateTestData = requests.get(stateTested).json()"
      ],
      "execution_count": 0,
      "outputs": []
    },
    {
      "cell_type": "code",
      "metadata": {
        "id": "mYwSOBwcdQSU",
        "colab_type": "code",
        "colab": {
          "base_uri": "https://localhost:8080/",
          "height": 34
        },
        "outputId": "b22f57e4-9acf-4cf7-acd1-b22cfead7d92"
      },
      "source": [
        "stateTestData.keys()"
      ],
      "execution_count": 43,
      "outputs": [
        {
          "output_type": "execute_result",
          "data": {
            "text/plain": [
              "dict_keys(['states_tested_data'])"
            ]
          },
          "metadata": {
            "tags": []
          },
          "execution_count": 43
        }
      ]
    },
    {
      "cell_type": "code",
      "metadata": {
        "extensions": {
          "jupyter_dashboards": {
            "version": 1,
            "views": {
              "grid_default": {},
              "report_default": {
                "hidden": true
              }
            }
          }
        },
        "id": "qHjjuOhT63KI",
        "colab_type": "code",
        "colab": {}
      },
      "source": [
        "stateDf = pd.DataFrame(stateData['states_daily'])\n",
        "stateTestData = pd.DataFrame(stateTestData['states_tested_data'])"
      ],
      "execution_count": 0,
      "outputs": []
    },
    {
      "cell_type": "code",
      "metadata": {
        "id": "fy6-xXbyc1jY",
        "colab_type": "code",
        "colab": {
          "base_uri": "https://localhost:8080/",
          "height": 411
        },
        "outputId": "5105ee8e-603a-4f05-d53f-798985c1e0e7"
      },
      "source": [
        "stateTestData.head()"
      ],
      "execution_count": 45,
      "outputs": [
        {
          "output_type": "execute_result",
          "data": {
            "text/html": [
              "<div>\n",
              "<style scoped>\n",
              "    .dataframe tbody tr th:only-of-type {\n",
              "        vertical-align: middle;\n",
              "    }\n",
              "\n",
              "    .dataframe tbody tr th {\n",
              "        vertical-align: top;\n",
              "    }\n",
              "\n",
              "    .dataframe thead th {\n",
              "        text-align: right;\n",
              "    }\n",
              "</style>\n",
              "<table border=\"1\" class=\"dataframe\">\n",
              "  <thead>\n",
              "    <tr style=\"text-align: right;\">\n",
              "      <th></th>\n",
              "      <th>negative</th>\n",
              "      <th>numcallsstatehelpline</th>\n",
              "      <th>numicubeds</th>\n",
              "      <th>numisolationbeds</th>\n",
              "      <th>numventilators</th>\n",
              "      <th>populationsourceuidai</th>\n",
              "      <th>positive</th>\n",
              "      <th>source</th>\n",
              "      <th>source2</th>\n",
              "      <th>state</th>\n",
              "      <th>testpositivityrate</th>\n",
              "      <th>testspermillion</th>\n",
              "      <th>testsperthousand</th>\n",
              "      <th>totalpeopleinquarantine</th>\n",
              "      <th>totalpeoplereleasedfromquarantine</th>\n",
              "      <th>totaltested</th>\n",
              "      <th>unconfirmed</th>\n",
              "      <th>updatedon</th>\n",
              "    </tr>\n",
              "  </thead>\n",
              "  <tbody>\n",
              "    <tr>\n",
              "      <th>0</th>\n",
              "      <td>1210</td>\n",
              "      <td></td>\n",
              "      <td></td>\n",
              "      <td>50</td>\n",
              "      <td></td>\n",
              "      <td>411278</td>\n",
              "      <td>12</td>\n",
              "      <td>https://t.me/indiacovid/2550</td>\n",
              "      <td></td>\n",
              "      <td>Andaman and Nicobar Islands</td>\n",
              "      <td>0.86%</td>\n",
              "      <td>3411.317892</td>\n",
              "      <td>3.411317892</td>\n",
              "      <td></td>\n",
              "      <td></td>\n",
              "      <td>1403</td>\n",
              "      <td>181</td>\n",
              "      <td>17/04/2020</td>\n",
              "    </tr>\n",
              "    <tr>\n",
              "      <th>1</th>\n",
              "      <td></td>\n",
              "      <td>280</td>\n",
              "      <td></td>\n",
              "      <td>50</td>\n",
              "      <td></td>\n",
              "      <td></td>\n",
              "      <td>27</td>\n",
              "      <td>https://t.me/indiacovid/3147?single</td>\n",
              "      <td></td>\n",
              "      <td>Andaman and Nicobar Islands</td>\n",
              "      <td>1.01%</td>\n",
              "      <td>6513.842219</td>\n",
              "      <td>6.513842219</td>\n",
              "      <td></td>\n",
              "      <td></td>\n",
              "      <td>2679</td>\n",
              "      <td>246</td>\n",
              "      <td>24/04/2020</td>\n",
              "    </tr>\n",
              "    <tr>\n",
              "      <th>2</th>\n",
              "      <td></td>\n",
              "      <td>298</td>\n",
              "      <td></td>\n",
              "      <td>50</td>\n",
              "      <td></td>\n",
              "      <td></td>\n",
              "      <td>33</td>\n",
              "      <td>https://t.me/indiacovid/3365?single</td>\n",
              "      <td></td>\n",
              "      <td>Andaman and Nicobar Islands</td>\n",
              "      <td></td>\n",
              "      <td></td>\n",
              "      <td></td>\n",
              "      <td></td>\n",
              "      <td></td>\n",
              "      <td>2848</td>\n",
              "      <td>106</td>\n",
              "      <td>27/04/2020</td>\n",
              "    </tr>\n",
              "    <tr>\n",
              "      <th>3</th>\n",
              "      <td>1175</td>\n",
              "      <td></td>\n",
              "      <td>2680</td>\n",
              "      <td>23479</td>\n",
              "      <td>330</td>\n",
              "      <td>53390841</td>\n",
              "      <td>132</td>\n",
              "      <td>https://twitter.com/ArogyaAndhra/status/124558...</td>\n",
              "      <td></td>\n",
              "      <td>Andhra Pradesh</td>\n",
              "      <td>7.33%</td>\n",
              "      <td>33.71364763</td>\n",
              "      <td>0.03371364763</td>\n",
              "      <td>179</td>\n",
              "      <td></td>\n",
              "      <td>1800</td>\n",
              "      <td>493</td>\n",
              "      <td>02/04/2020</td>\n",
              "    </tr>\n",
              "    <tr>\n",
              "      <th>4</th>\n",
              "      <td>6009</td>\n",
              "      <td></td>\n",
              "      <td></td>\n",
              "      <td></td>\n",
              "      <td></td>\n",
              "      <td></td>\n",
              "      <td>365</td>\n",
              "      <td>http://hmfw.ap.gov.in/covid_dashboard.aspx</td>\n",
              "      <td></td>\n",
              "      <td>Andhra Pradesh</td>\n",
              "      <td>5.73%</td>\n",
              "      <td>119.3837722</td>\n",
              "      <td>0.1193837722</td>\n",
              "      <td></td>\n",
              "      <td></td>\n",
              "      <td>6374</td>\n",
              "      <td></td>\n",
              "      <td>10/04/2020</td>\n",
              "    </tr>\n",
              "  </tbody>\n",
              "</table>\n",
              "</div>"
            ],
            "text/plain": [
              "  negative numcallsstatehelpline numicubeds  ... totaltested unconfirmed   updatedon\n",
              "0     1210                                   ...        1403         181  17/04/2020\n",
              "1                            280             ...        2679         246  24/04/2020\n",
              "2                            298             ...        2848         106  27/04/2020\n",
              "3     1175                             2680  ...        1800         493  02/04/2020\n",
              "4     6009                                   ...        6374              10/04/2020\n",
              "\n",
              "[5 rows x 18 columns]"
            ]
          },
          "metadata": {
            "tags": []
          },
          "execution_count": 45
        }
      ]
    },
    {
      "cell_type": "code",
      "metadata": {
        "id": "HW2Eqn4Vgqxj",
        "colab_type": "code",
        "colab": {
          "base_uri": "https://localhost:8080/",
          "height": 272
        },
        "outputId": "5e25b226-cef3-42e5-ad22-773929b45dec"
      },
      "source": [
        "!pip install pandasql"
      ],
      "execution_count": 57,
      "outputs": [
        {
          "output_type": "stream",
          "text": [
            "Collecting pandasql\n",
            "  Downloading https://files.pythonhosted.org/packages/6b/c4/ee4096ffa2eeeca0c749b26f0371bd26aa5c8b611c43de99a4f86d3de0a7/pandasql-0.7.3.tar.gz\n",
            "Requirement already satisfied: numpy in /usr/local/lib/python3.6/dist-packages (from pandasql) (1.18.3)\n",
            "Requirement already satisfied: pandas in /usr/local/lib/python3.6/dist-packages (from pandasql) (1.0.3)\n",
            "Requirement already satisfied: sqlalchemy in /usr/local/lib/python3.6/dist-packages (from pandasql) (1.3.16)\n",
            "Requirement already satisfied: python-dateutil>=2.6.1 in /usr/local/lib/python3.6/dist-packages (from pandas->pandasql) (2.8.1)\n",
            "Requirement already satisfied: pytz>=2017.2 in /usr/local/lib/python3.6/dist-packages (from pandas->pandasql) (2018.9)\n",
            "Requirement already satisfied: six>=1.5 in /usr/local/lib/python3.6/dist-packages (from python-dateutil>=2.6.1->pandas->pandasql) (1.12.0)\n",
            "Building wheels for collected packages: pandasql\n",
            "  Building wheel for pandasql (setup.py) ... \u001b[?25l\u001b[?25hdone\n",
            "  Created wheel for pandasql: filename=pandasql-0.7.3-cp36-none-any.whl size=26819 sha256=54cc7a6c972fe22845fef515ed9914f0f8925abf629d1b2b48bca3213d6c34a3\n",
            "  Stored in directory: /root/.cache/pip/wheels/53/6c/18/b87a2e5fa8a82e9c026311de56210b8d1c01846e18a9607fc9\n",
            "Successfully built pandasql\n",
            "Installing collected packages: pandasql\n",
            "Successfully installed pandasql-0.7.3\n"
          ],
          "name": "stdout"
        }
      ]
    },
    {
      "cell_type": "code",
      "metadata": {
        "id": "UFvnX8q7creg",
        "colab_type": "code",
        "colab": {}
      },
      "source": [
        "# stateTestData.loc[stateTestData.groupby(by='updatedon')['state','testpositivityrate','testspermillion','totaltested'].idxmax()]"
      ],
      "execution_count": 0,
      "outputs": []
    },
    {
      "cell_type": "code",
      "metadata": {
        "id": "pnExmzhjg00-",
        "colab_type": "code",
        "colab": {}
      },
      "source": [
        "import pandasql as ps"
      ],
      "execution_count": 0,
      "outputs": []
    },
    {
      "cell_type": "code",
      "metadata": {
        "id": "YLJKeixkg4tS",
        "colab_type": "code",
        "colab": {}
      },
      "source": [
        "query = \"\"\"select * from stateTestData a where updatedon = (select max(updatedon) from stateTestData b where a.state = b.state)\"\"\""
      ],
      "execution_count": 0,
      "outputs": []
    },
    {
      "cell_type": "code",
      "metadata": {
        "id": "WyebGavdhU4L",
        "colab_type": "code",
        "colab": {}
      },
      "source": [
        "stateTestLatest = ps.sqldf(query, locals())"
      ],
      "execution_count": 0,
      "outputs": []
    },
    {
      "cell_type": "code",
      "metadata": {
        "extensions": {
          "jupyter_dashboards": {
            "version": 1,
            "views": {
              "grid_default": {},
              "report_default": {
                "hidden": true
              }
            }
          }
        },
        "id": "lg2YOTXA63KK",
        "colab_type": "code",
        "outputId": "f40fd951-8a12-4666-8b18-ac85fad50aee",
        "colab": {
          "base_uri": "https://localhost:8080/",
          "height": 204
        }
      },
      "source": [
        "stateDf.head()"
      ],
      "execution_count": 63,
      "outputs": [
        {
          "output_type": "execute_result",
          "data": {
            "text/html": [
              "<div>\n",
              "<style scoped>\n",
              "    .dataframe tbody tr th:only-of-type {\n",
              "        vertical-align: middle;\n",
              "    }\n",
              "\n",
              "    .dataframe tbody tr th {\n",
              "        vertical-align: top;\n",
              "    }\n",
              "\n",
              "    .dataframe thead th {\n",
              "        text-align: right;\n",
              "    }\n",
              "</style>\n",
              "<table border=\"1\" class=\"dataframe\">\n",
              "  <thead>\n",
              "    <tr style=\"text-align: right;\">\n",
              "      <th></th>\n",
              "      <th>an</th>\n",
              "      <th>ap</th>\n",
              "      <th>ar</th>\n",
              "      <th>as</th>\n",
              "      <th>br</th>\n",
              "      <th>ch</th>\n",
              "      <th>ct</th>\n",
              "      <th>date</th>\n",
              "      <th>dd</th>\n",
              "      <th>dl</th>\n",
              "      <th>dn</th>\n",
              "      <th>ga</th>\n",
              "      <th>gj</th>\n",
              "      <th>hp</th>\n",
              "      <th>hr</th>\n",
              "      <th>jh</th>\n",
              "      <th>jk</th>\n",
              "      <th>ka</th>\n",
              "      <th>kl</th>\n",
              "      <th>la</th>\n",
              "      <th>ld</th>\n",
              "      <th>mh</th>\n",
              "      <th>ml</th>\n",
              "      <th>mn</th>\n",
              "      <th>mp</th>\n",
              "      <th>mz</th>\n",
              "      <th>nl</th>\n",
              "      <th>or</th>\n",
              "      <th>pb</th>\n",
              "      <th>py</th>\n",
              "      <th>rj</th>\n",
              "      <th>sk</th>\n",
              "      <th>status</th>\n",
              "      <th>tg</th>\n",
              "      <th>tn</th>\n",
              "      <th>tr</th>\n",
              "      <th>tt</th>\n",
              "      <th>up</th>\n",
              "      <th>ut</th>\n",
              "      <th>wb</th>\n",
              "    </tr>\n",
              "  </thead>\n",
              "  <tbody>\n",
              "    <tr>\n",
              "      <th>0</th>\n",
              "      <td>0</td>\n",
              "      <td>1</td>\n",
              "      <td>0</td>\n",
              "      <td>0</td>\n",
              "      <td>0</td>\n",
              "      <td>0</td>\n",
              "      <td>0</td>\n",
              "      <td>14-Mar-20</td>\n",
              "      <td>0</td>\n",
              "      <td>7</td>\n",
              "      <td>0</td>\n",
              "      <td>0</td>\n",
              "      <td>0</td>\n",
              "      <td>0</td>\n",
              "      <td>14</td>\n",
              "      <td>0</td>\n",
              "      <td>2</td>\n",
              "      <td>6</td>\n",
              "      <td>19</td>\n",
              "      <td>0</td>\n",
              "      <td>0</td>\n",
              "      <td>14</td>\n",
              "      <td>0</td>\n",
              "      <td>0</td>\n",
              "      <td>0</td>\n",
              "      <td>0</td>\n",
              "      <td>0</td>\n",
              "      <td>0</td>\n",
              "      <td>1</td>\n",
              "      <td>0</td>\n",
              "      <td>3</td>\n",
              "      <td>0</td>\n",
              "      <td>Confirmed</td>\n",
              "      <td>1</td>\n",
              "      <td>1</td>\n",
              "      <td>0</td>\n",
              "      <td>81</td>\n",
              "      <td>12</td>\n",
              "      <td>0</td>\n",
              "      <td>0</td>\n",
              "    </tr>\n",
              "    <tr>\n",
              "      <th>1</th>\n",
              "      <td>0</td>\n",
              "      <td>0</td>\n",
              "      <td>0</td>\n",
              "      <td>0</td>\n",
              "      <td>0</td>\n",
              "      <td>0</td>\n",
              "      <td>0</td>\n",
              "      <td>14-Mar-20</td>\n",
              "      <td>0</td>\n",
              "      <td>1</td>\n",
              "      <td>0</td>\n",
              "      <td>0</td>\n",
              "      <td>0</td>\n",
              "      <td>0</td>\n",
              "      <td>0</td>\n",
              "      <td>0</td>\n",
              "      <td>0</td>\n",
              "      <td>0</td>\n",
              "      <td>3</td>\n",
              "      <td>0</td>\n",
              "      <td>0</td>\n",
              "      <td>0</td>\n",
              "      <td>0</td>\n",
              "      <td>0</td>\n",
              "      <td>0</td>\n",
              "      <td>0</td>\n",
              "      <td>0</td>\n",
              "      <td>0</td>\n",
              "      <td>0</td>\n",
              "      <td>0</td>\n",
              "      <td>1</td>\n",
              "      <td>0</td>\n",
              "      <td>Recovered</td>\n",
              "      <td>0</td>\n",
              "      <td>0</td>\n",
              "      <td>0</td>\n",
              "      <td>9</td>\n",
              "      <td>4</td>\n",
              "      <td>0</td>\n",
              "      <td>0</td>\n",
              "    </tr>\n",
              "    <tr>\n",
              "      <th>2</th>\n",
              "      <td>0</td>\n",
              "      <td>0</td>\n",
              "      <td>0</td>\n",
              "      <td>0</td>\n",
              "      <td>0</td>\n",
              "      <td>0</td>\n",
              "      <td>0</td>\n",
              "      <td>14-Mar-20</td>\n",
              "      <td>0</td>\n",
              "      <td>1</td>\n",
              "      <td>0</td>\n",
              "      <td>0</td>\n",
              "      <td>0</td>\n",
              "      <td>0</td>\n",
              "      <td>0</td>\n",
              "      <td>0</td>\n",
              "      <td>0</td>\n",
              "      <td>1</td>\n",
              "      <td>0</td>\n",
              "      <td>0</td>\n",
              "      <td>0</td>\n",
              "      <td>0</td>\n",
              "      <td>0</td>\n",
              "      <td>0</td>\n",
              "      <td>0</td>\n",
              "      <td>0</td>\n",
              "      <td>0</td>\n",
              "      <td>0</td>\n",
              "      <td>0</td>\n",
              "      <td>0</td>\n",
              "      <td>0</td>\n",
              "      <td>0</td>\n",
              "      <td>Deceased</td>\n",
              "      <td>0</td>\n",
              "      <td>0</td>\n",
              "      <td>0</td>\n",
              "      <td>2</td>\n",
              "      <td>0</td>\n",
              "      <td>0</td>\n",
              "      <td>0</td>\n",
              "    </tr>\n",
              "    <tr>\n",
              "      <th>3</th>\n",
              "      <td>0</td>\n",
              "      <td>0</td>\n",
              "      <td>0</td>\n",
              "      <td>0</td>\n",
              "      <td>0</td>\n",
              "      <td>0</td>\n",
              "      <td>0</td>\n",
              "      <td>15-Mar-20</td>\n",
              "      <td>0</td>\n",
              "      <td>0</td>\n",
              "      <td>0</td>\n",
              "      <td>0</td>\n",
              "      <td>0</td>\n",
              "      <td>0</td>\n",
              "      <td>0</td>\n",
              "      <td>0</td>\n",
              "      <td>0</td>\n",
              "      <td>0</td>\n",
              "      <td>5</td>\n",
              "      <td>0</td>\n",
              "      <td>0</td>\n",
              "      <td>18</td>\n",
              "      <td>0</td>\n",
              "      <td>0</td>\n",
              "      <td>0</td>\n",
              "      <td>0</td>\n",
              "      <td>0</td>\n",
              "      <td>0</td>\n",
              "      <td>0</td>\n",
              "      <td>0</td>\n",
              "      <td>1</td>\n",
              "      <td>0</td>\n",
              "      <td>Confirmed</td>\n",
              "      <td>2</td>\n",
              "      <td>0</td>\n",
              "      <td>0</td>\n",
              "      <td>27</td>\n",
              "      <td>1</td>\n",
              "      <td>0</td>\n",
              "      <td>0</td>\n",
              "    </tr>\n",
              "    <tr>\n",
              "      <th>4</th>\n",
              "      <td>0</td>\n",
              "      <td>0</td>\n",
              "      <td>0</td>\n",
              "      <td>0</td>\n",
              "      <td>0</td>\n",
              "      <td>0</td>\n",
              "      <td>0</td>\n",
              "      <td>15-Mar-20</td>\n",
              "      <td>0</td>\n",
              "      <td>1</td>\n",
              "      <td>0</td>\n",
              "      <td>0</td>\n",
              "      <td>0</td>\n",
              "      <td>0</td>\n",
              "      <td>0</td>\n",
              "      <td>0</td>\n",
              "      <td>0</td>\n",
              "      <td>0</td>\n",
              "      <td>0</td>\n",
              "      <td>0</td>\n",
              "      <td>0</td>\n",
              "      <td>0</td>\n",
              "      <td>0</td>\n",
              "      <td>0</td>\n",
              "      <td>0</td>\n",
              "      <td>0</td>\n",
              "      <td>0</td>\n",
              "      <td>0</td>\n",
              "      <td>0</td>\n",
              "      <td>0</td>\n",
              "      <td>2</td>\n",
              "      <td>0</td>\n",
              "      <td>Recovered</td>\n",
              "      <td>1</td>\n",
              "      <td>0</td>\n",
              "      <td>0</td>\n",
              "      <td>4</td>\n",
              "      <td>0</td>\n",
              "      <td>0</td>\n",
              "      <td>0</td>\n",
              "    </tr>\n",
              "  </tbody>\n",
              "</table>\n",
              "</div>"
            ],
            "text/plain": [
              "  an ap ar as br ch ct       date dd dl  ... rj sk     status tg tn tr  tt  up ut wb\n",
              "0  0  1  0  0  0  0  0  14-Mar-20  0  7  ...  3  0  Confirmed  1  1  0  81  12  0  0\n",
              "1  0  0  0  0  0  0  0  14-Mar-20  0  1  ...  1  0  Recovered  0  0  0   9   4  0  0\n",
              "2  0  0  0  0  0  0  0  14-Mar-20  0  1  ...  0  0   Deceased  0  0  0   2   0  0  0\n",
              "3  0  0  0  0  0  0  0  15-Mar-20  0  0  ...  1  0  Confirmed  2  0  0  27   1  0  0\n",
              "4  0  0  0  0  0  0  0  15-Mar-20  0  1  ...  2  0  Recovered  1  0  0   4   0  0  0\n",
              "\n",
              "[5 rows x 40 columns]"
            ]
          },
          "metadata": {
            "tags": []
          },
          "execution_count": 63
        }
      ]
    },
    {
      "cell_type": "code",
      "metadata": {
        "extensions": {
          "jupyter_dashboards": {
            "version": 1,
            "views": {
              "grid_default": {},
              "report_default": {
                "hidden": true
              }
            }
          }
        },
        "id": "6ylO4FGG63KM",
        "colab_type": "code",
        "colab": {}
      },
      "source": [
        "# stateDfConfirmed = stateDf[['ap','date','status']]\n",
        "stateDfConfirmed = stateDf[stateDf['status'] == 'Confirmed'].fillna(0).replace('',0)\n",
        "stateDfRecovered = stateDf[stateDf['status'] == 'Recovered'].fillna(0).replace('',0)\n",
        "stateDfDeceased = stateDf[stateDf['status'] =='Deceased'].fillna(0).replace('',0)"
      ],
      "execution_count": 0,
      "outputs": []
    },
    {
      "cell_type": "code",
      "metadata": {
        "extensions": {
          "jupyter_dashboards": {
            "version": 1,
            "views": {
              "grid_default": {},
              "report_default": {
                "hidden": true
              }
            }
          }
        },
        "id": "RMRAWx2563KO",
        "colab_type": "code",
        "outputId": "3aa2bae4-e82f-4866-f8ee-96830cd644b2",
        "colab": {
          "base_uri": "https://localhost:8080/",
          "height": 102
        }
      },
      "source": [
        "stateDf.columns"
      ],
      "execution_count": 65,
      "outputs": [
        {
          "output_type": "execute_result",
          "data": {
            "text/plain": [
              "Index(['an', 'ap', 'ar', 'as', 'br', 'ch', 'ct', 'date', 'dd', 'dl', 'dn',\n",
              "       'ga', 'gj', 'hp', 'hr', 'jh', 'jk', 'ka', 'kl', 'la', 'ld', 'mh', 'ml',\n",
              "       'mn', 'mp', 'mz', 'nl', 'or', 'pb', 'py', 'rj', 'sk', 'status', 'tg',\n",
              "       'tn', 'tr', 'tt', 'up', 'ut', 'wb'],\n",
              "      dtype='object')"
            ]
          },
          "metadata": {
            "tags": []
          },
          "execution_count": 65
        }
      ]
    },
    {
      "cell_type": "code",
      "metadata": {
        "extensions": {
          "jupyter_dashboards": {
            "version": 1,
            "views": {
              "grid_default": {},
              "report_default": {
                "hidden": true
              }
            }
          }
        },
        "scrolled": false,
        "id": "4U7VvhyE63KQ",
        "colab_type": "code",
        "colab": {}
      },
      "source": [
        "stateTotalConfirmed =[] \n",
        "stateTotalDeceased =[]\n",
        "stateTotalRecovered =[]\n",
        "listStates = []\n",
        "for col in stateDf:\n",
        "    if col not in ['date','status']:\n",
        "        listStates.append(col)\n",
        "#         print (col)\n",
        "        stateTotalConfirmed.append(np.sum(stateDfConfirmed[col].apply(lambda x: int(x))))\n",
        "        stateTotalDeceased.append(np.sum(stateDfDeceased[col].apply(lambda x: int(x))))\n",
        "        stateTotalRecovered.append(np.sum(stateDfRecovered[col].apply(lambda x:int(x))))"
      ],
      "execution_count": 0,
      "outputs": []
    },
    {
      "cell_type": "code",
      "metadata": {
        "extensions": {
          "jupyter_dashboards": {
            "version": 1,
            "views": {
              "grid_default": {},
              "report_default": {
                "hidden": true
              }
            }
          }
        },
        "id": "BYNcrYdF63KS",
        "colab_type": "code",
        "colab": {}
      },
      "source": [
        "data = {'State':listStates, 'Confirmed':stateTotalConfirmed, 'Deceased':stateTotalDeceased, 'Recovered':stateTotalRecovered}"
      ],
      "execution_count": 0,
      "outputs": []
    },
    {
      "cell_type": "code",
      "metadata": {
        "extensions": {
          "jupyter_dashboards": {
            "version": 1,
            "views": {
              "grid_default": {},
              "report_default": {
                "hidden": true
              }
            }
          }
        },
        "scrolled": false,
        "id": "hsbnQSVK63KV",
        "colab_type": "code",
        "colab": {}
      },
      "source": [
        "fullData  = pd.DataFrame(data=data)"
      ],
      "execution_count": 0,
      "outputs": []
    },
    {
      "cell_type": "code",
      "metadata": {
        "extensions": {
          "jupyter_dashboards": {
            "version": 1,
            "views": {
              "grid_default": {},
              "report_default": {
                "hidden": true
              }
            }
          }
        },
        "id": "SPbxV04j63KX",
        "colab_type": "code",
        "colab": {}
      },
      "source": [
        "fullData['Decease%'] = round((fullData['Deceased']/fullData['Confirmed'])*100,2)\n",
        "fullData['Recover%'] = round((fullData['Recovered']/fullData['Confirmed'])*100,2)\n",
        "fullData['Active%'] = round(((fullData['Confirmed'] -(fullData['Recovered']+fullData['Deceased']))/fullData['Confirmed'])*100,2)"
      ],
      "execution_count": 0,
      "outputs": []
    },
    {
      "cell_type": "code",
      "metadata": {
        "extensions": {
          "jupyter_dashboards": {
            "version": 1,
            "views": {
              "grid_default": {},
              "report_default": {
                "hidden": true
              }
            }
          }
        },
        "id": "3DJkJfk_63KZ",
        "colab_type": "code",
        "outputId": "52f9540e-c150-4798-b1c8-8f210426f1d0",
        "colab": {
          "base_uri": "https://localhost:8080/",
          "height": 359
        }
      },
      "source": [
        "fullData[fullData['Confirmed'] > 100].sort_values(by='Active%', ascending=False).head(10)"
      ],
      "execution_count": 70,
      "outputs": [
        {
          "output_type": "execute_result",
          "data": {
            "text/html": [
              "<div>\n",
              "<style scoped>\n",
              "    .dataframe tbody tr th:only-of-type {\n",
              "        vertical-align: middle;\n",
              "    }\n",
              "\n",
              "    .dataframe tbody tr th {\n",
              "        vertical-align: top;\n",
              "    }\n",
              "\n",
              "    .dataframe thead th {\n",
              "        text-align: right;\n",
              "    }\n",
              "</style>\n",
              "<table border=\"1\" class=\"dataframe\">\n",
              "  <thead>\n",
              "    <tr style=\"text-align: right;\">\n",
              "      <th></th>\n",
              "      <th>State</th>\n",
              "      <th>Confirmed</th>\n",
              "      <th>Deceased</th>\n",
              "      <th>Recovered</th>\n",
              "      <th>Decease%</th>\n",
              "      <th>Recover%</th>\n",
              "      <th>Active%</th>\n",
              "    </tr>\n",
              "  </thead>\n",
              "  <tbody>\n",
              "    <tr>\n",
              "      <th>11</th>\n",
              "      <td>gj</td>\n",
              "      <td>3774</td>\n",
              "      <td>181</td>\n",
              "      <td>434</td>\n",
              "      <td>4.80</td>\n",
              "      <td>11.50</td>\n",
              "      <td>83.70</td>\n",
              "    </tr>\n",
              "    <tr>\n",
              "      <th>4</th>\n",
              "      <td>br</td>\n",
              "      <td>366</td>\n",
              "      <td>2</td>\n",
              "      <td>64</td>\n",
              "      <td>0.55</td>\n",
              "      <td>17.49</td>\n",
              "      <td>81.97</td>\n",
              "    </tr>\n",
              "    <tr>\n",
              "      <th>37</th>\n",
              "      <td>wb</td>\n",
              "      <td>697</td>\n",
              "      <td>22</td>\n",
              "      <td>109</td>\n",
              "      <td>3.16</td>\n",
              "      <td>15.64</td>\n",
              "      <td>81.21</td>\n",
              "    </tr>\n",
              "    <tr>\n",
              "      <th>20</th>\n",
              "      <td>mh</td>\n",
              "      <td>9318</td>\n",
              "      <td>399</td>\n",
              "      <td>1388</td>\n",
              "      <td>4.28</td>\n",
              "      <td>14.90</td>\n",
              "      <td>80.82</td>\n",
              "    </tr>\n",
              "    <tr>\n",
              "      <th>23</th>\n",
              "      <td>mp</td>\n",
              "      <td>2387</td>\n",
              "      <td>121</td>\n",
              "      <td>373</td>\n",
              "      <td>5.07</td>\n",
              "      <td>15.63</td>\n",
              "      <td>79.30</td>\n",
              "    </tr>\n",
              "    <tr>\n",
              "      <th>14</th>\n",
              "      <td>jh</td>\n",
              "      <td>105</td>\n",
              "      <td>3</td>\n",
              "      <td>19</td>\n",
              "      <td>2.86</td>\n",
              "      <td>18.10</td>\n",
              "      <td>79.05</td>\n",
              "    </tr>\n",
              "    <tr>\n",
              "      <th>1</th>\n",
              "      <td>ap</td>\n",
              "      <td>1259</td>\n",
              "      <td>31</td>\n",
              "      <td>258</td>\n",
              "      <td>2.46</td>\n",
              "      <td>20.49</td>\n",
              "      <td>77.05</td>\n",
              "    </tr>\n",
              "    <tr>\n",
              "      <th>35</th>\n",
              "      <td>up</td>\n",
              "      <td>2053</td>\n",
              "      <td>34</td>\n",
              "      <td>462</td>\n",
              "      <td>1.66</td>\n",
              "      <td>22.50</td>\n",
              "      <td>75.84</td>\n",
              "    </tr>\n",
              "    <tr>\n",
              "      <th>34</th>\n",
              "      <td>tt</td>\n",
              "      <td>31359</td>\n",
              "      <td>1007</td>\n",
              "      <td>7747</td>\n",
              "      <td>3.21</td>\n",
              "      <td>24.70</td>\n",
              "      <td>72.08</td>\n",
              "    </tr>\n",
              "    <tr>\n",
              "      <th>15</th>\n",
              "      <td>jk</td>\n",
              "      <td>565</td>\n",
              "      <td>8</td>\n",
              "      <td>176</td>\n",
              "      <td>1.42</td>\n",
              "      <td>31.15</td>\n",
              "      <td>67.43</td>\n",
              "    </tr>\n",
              "  </tbody>\n",
              "</table>\n",
              "</div>"
            ],
            "text/plain": [
              "   State  Confirmed  Deceased  Recovered  Decease%  Recover%  Active%\n",
              "11    gj       3774       181        434      4.80     11.50    83.70\n",
              "4     br        366         2         64      0.55     17.49    81.97\n",
              "37    wb        697        22        109      3.16     15.64    81.21\n",
              "20    mh       9318       399       1388      4.28     14.90    80.82\n",
              "23    mp       2387       121        373      5.07     15.63    79.30\n",
              "14    jh        105         3         19      2.86     18.10    79.05\n",
              "1     ap       1259        31        258      2.46     20.49    77.05\n",
              "35    up       2053        34        462      1.66     22.50    75.84\n",
              "34    tt      31359      1007       7747      3.21     24.70    72.08\n",
              "15    jk        565         8        176      1.42     31.15    67.43"
            ]
          },
          "metadata": {
            "tags": []
          },
          "execution_count": 70
        }
      ]
    },
    {
      "cell_type": "code",
      "metadata": {
        "id": "fvANo_5C63Kb",
        "colab_type": "code",
        "outputId": "b7a8670e-53f0-4ae9-8b5a-edce0197d9fa",
        "colab": {
          "base_uri": "https://localhost:8080/",
          "height": 638
        }
      },
      "source": [
        "fullData[fullData['Confirmed'] > 100].sort_values(by='Decease%', ascending=False).head(20).reset_index()"
      ],
      "execution_count": 71,
      "outputs": [
        {
          "output_type": "execute_result",
          "data": {
            "text/html": [
              "<div>\n",
              "<style scoped>\n",
              "    .dataframe tbody tr th:only-of-type {\n",
              "        vertical-align: middle;\n",
              "    }\n",
              "\n",
              "    .dataframe tbody tr th {\n",
              "        vertical-align: top;\n",
              "    }\n",
              "\n",
              "    .dataframe thead th {\n",
              "        text-align: right;\n",
              "    }\n",
              "</style>\n",
              "<table border=\"1\" class=\"dataframe\">\n",
              "  <thead>\n",
              "    <tr style=\"text-align: right;\">\n",
              "      <th></th>\n",
              "      <th>index</th>\n",
              "      <th>State</th>\n",
              "      <th>Confirmed</th>\n",
              "      <th>Deceased</th>\n",
              "      <th>Recovered</th>\n",
              "      <th>Decease%</th>\n",
              "      <th>Recover%</th>\n",
              "      <th>Active%</th>\n",
              "    </tr>\n",
              "  </thead>\n",
              "  <tbody>\n",
              "    <tr>\n",
              "      <th>0</th>\n",
              "      <td>27</td>\n",
              "      <td>pb</td>\n",
              "      <td>342</td>\n",
              "      <td>19</td>\n",
              "      <td>101</td>\n",
              "      <td>5.56</td>\n",
              "      <td>29.53</td>\n",
              "      <td>64.91</td>\n",
              "    </tr>\n",
              "    <tr>\n",
              "      <th>1</th>\n",
              "      <td>23</td>\n",
              "      <td>mp</td>\n",
              "      <td>2387</td>\n",
              "      <td>121</td>\n",
              "      <td>373</td>\n",
              "      <td>5.07</td>\n",
              "      <td>15.63</td>\n",
              "      <td>79.30</td>\n",
              "    </tr>\n",
              "    <tr>\n",
              "      <th>2</th>\n",
              "      <td>11</td>\n",
              "      <td>gj</td>\n",
              "      <td>3774</td>\n",
              "      <td>181</td>\n",
              "      <td>434</td>\n",
              "      <td>4.80</td>\n",
              "      <td>11.50</td>\n",
              "      <td>83.70</td>\n",
              "    </tr>\n",
              "    <tr>\n",
              "      <th>3</th>\n",
              "      <td>20</td>\n",
              "      <td>mh</td>\n",
              "      <td>9318</td>\n",
              "      <td>399</td>\n",
              "      <td>1388</td>\n",
              "      <td>4.28</td>\n",
              "      <td>14.90</td>\n",
              "      <td>80.82</td>\n",
              "    </tr>\n",
              "    <tr>\n",
              "      <th>4</th>\n",
              "      <td>16</td>\n",
              "      <td>ka</td>\n",
              "      <td>523</td>\n",
              "      <td>20</td>\n",
              "      <td>207</td>\n",
              "      <td>3.82</td>\n",
              "      <td>39.58</td>\n",
              "      <td>56.60</td>\n",
              "    </tr>\n",
              "    <tr>\n",
              "      <th>5</th>\n",
              "      <td>34</td>\n",
              "      <td>tt</td>\n",
              "      <td>31359</td>\n",
              "      <td>1007</td>\n",
              "      <td>7747</td>\n",
              "      <td>3.21</td>\n",
              "      <td>24.70</td>\n",
              "      <td>72.08</td>\n",
              "    </tr>\n",
              "    <tr>\n",
              "      <th>6</th>\n",
              "      <td>37</td>\n",
              "      <td>wb</td>\n",
              "      <td>697</td>\n",
              "      <td>22</td>\n",
              "      <td>109</td>\n",
              "      <td>3.16</td>\n",
              "      <td>15.64</td>\n",
              "      <td>81.21</td>\n",
              "    </tr>\n",
              "    <tr>\n",
              "      <th>7</th>\n",
              "      <td>14</td>\n",
              "      <td>jh</td>\n",
              "      <td>105</td>\n",
              "      <td>3</td>\n",
              "      <td>19</td>\n",
              "      <td>2.86</td>\n",
              "      <td>18.10</td>\n",
              "      <td>79.05</td>\n",
              "    </tr>\n",
              "    <tr>\n",
              "      <th>8</th>\n",
              "      <td>31</td>\n",
              "      <td>tg</td>\n",
              "      <td>1009</td>\n",
              "      <td>25</td>\n",
              "      <td>374</td>\n",
              "      <td>2.48</td>\n",
              "      <td>37.07</td>\n",
              "      <td>60.46</td>\n",
              "    </tr>\n",
              "    <tr>\n",
              "      <th>9</th>\n",
              "      <td>1</td>\n",
              "      <td>ap</td>\n",
              "      <td>1259</td>\n",
              "      <td>31</td>\n",
              "      <td>258</td>\n",
              "      <td>2.46</td>\n",
              "      <td>20.49</td>\n",
              "      <td>77.05</td>\n",
              "    </tr>\n",
              "    <tr>\n",
              "      <th>10</th>\n",
              "      <td>29</td>\n",
              "      <td>rj</td>\n",
              "      <td>2364</td>\n",
              "      <td>52</td>\n",
              "      <td>770</td>\n",
              "      <td>2.20</td>\n",
              "      <td>32.57</td>\n",
              "      <td>65.23</td>\n",
              "    </tr>\n",
              "    <tr>\n",
              "      <th>11</th>\n",
              "      <td>35</td>\n",
              "      <td>up</td>\n",
              "      <td>2053</td>\n",
              "      <td>34</td>\n",
              "      <td>462</td>\n",
              "      <td>1.66</td>\n",
              "      <td>22.50</td>\n",
              "      <td>75.84</td>\n",
              "    </tr>\n",
              "    <tr>\n",
              "      <th>12</th>\n",
              "      <td>8</td>\n",
              "      <td>dl</td>\n",
              "      <td>3314</td>\n",
              "      <td>54</td>\n",
              "      <td>1078</td>\n",
              "      <td>1.63</td>\n",
              "      <td>32.53</td>\n",
              "      <td>65.84</td>\n",
              "    </tr>\n",
              "    <tr>\n",
              "      <th>13</th>\n",
              "      <td>15</td>\n",
              "      <td>jk</td>\n",
              "      <td>565</td>\n",
              "      <td>8</td>\n",
              "      <td>176</td>\n",
              "      <td>1.42</td>\n",
              "      <td>31.15</td>\n",
              "      <td>67.43</td>\n",
              "    </tr>\n",
              "    <tr>\n",
              "      <th>14</th>\n",
              "      <td>32</td>\n",
              "      <td>tn</td>\n",
              "      <td>2058</td>\n",
              "      <td>25</td>\n",
              "      <td>1128</td>\n",
              "      <td>1.21</td>\n",
              "      <td>54.81</td>\n",
              "      <td>43.97</td>\n",
              "    </tr>\n",
              "    <tr>\n",
              "      <th>15</th>\n",
              "      <td>13</td>\n",
              "      <td>hr</td>\n",
              "      <td>308</td>\n",
              "      <td>3</td>\n",
              "      <td>223</td>\n",
              "      <td>0.97</td>\n",
              "      <td>72.40</td>\n",
              "      <td>26.62</td>\n",
              "    </tr>\n",
              "    <tr>\n",
              "      <th>16</th>\n",
              "      <td>26</td>\n",
              "      <td>or</td>\n",
              "      <td>118</td>\n",
              "      <td>1</td>\n",
              "      <td>38</td>\n",
              "      <td>0.85</td>\n",
              "      <td>32.20</td>\n",
              "      <td>66.95</td>\n",
              "    </tr>\n",
              "    <tr>\n",
              "      <th>17</th>\n",
              "      <td>17</td>\n",
              "      <td>kl</td>\n",
              "      <td>486</td>\n",
              "      <td>4</td>\n",
              "      <td>359</td>\n",
              "      <td>0.82</td>\n",
              "      <td>73.87</td>\n",
              "      <td>25.31</td>\n",
              "    </tr>\n",
              "    <tr>\n",
              "      <th>18</th>\n",
              "      <td>4</td>\n",
              "      <td>br</td>\n",
              "      <td>366</td>\n",
              "      <td>2</td>\n",
              "      <td>64</td>\n",
              "      <td>0.55</td>\n",
              "      <td>17.49</td>\n",
              "      <td>81.97</td>\n",
              "    </tr>\n",
              "  </tbody>\n",
              "</table>\n",
              "</div>"
            ],
            "text/plain": [
              "    index State  Confirmed  Deceased  Recovered  Decease%  Recover%  Active%\n",
              "0      27    pb        342        19        101      5.56     29.53    64.91\n",
              "1      23    mp       2387       121        373      5.07     15.63    79.30\n",
              "2      11    gj       3774       181        434      4.80     11.50    83.70\n",
              "3      20    mh       9318       399       1388      4.28     14.90    80.82\n",
              "4      16    ka        523        20        207      3.82     39.58    56.60\n",
              "5      34    tt      31359      1007       7747      3.21     24.70    72.08\n",
              "6      37    wb        697        22        109      3.16     15.64    81.21\n",
              "7      14    jh        105         3         19      2.86     18.10    79.05\n",
              "8      31    tg       1009        25        374      2.48     37.07    60.46\n",
              "9       1    ap       1259        31        258      2.46     20.49    77.05\n",
              "10     29    rj       2364        52        770      2.20     32.57    65.23\n",
              "11     35    up       2053        34        462      1.66     22.50    75.84\n",
              "12      8    dl       3314        54       1078      1.63     32.53    65.84\n",
              "13     15    jk        565         8        176      1.42     31.15    67.43\n",
              "14     32    tn       2058        25       1128      1.21     54.81    43.97\n",
              "15     13    hr        308         3        223      0.97     72.40    26.62\n",
              "16     26    or        118         1         38      0.85     32.20    66.95\n",
              "17     17    kl        486         4        359      0.82     73.87    25.31\n",
              "18      4    br        366         2         64      0.55     17.49    81.97"
            ]
          },
          "metadata": {
            "tags": []
          },
          "execution_count": 71
        }
      ]
    },
    {
      "cell_type": "code",
      "metadata": {
        "id": "xIqvFplm63Kd",
        "colab_type": "code",
        "outputId": "210e6e96-8381-4ad0-c121-1b05bbb33cbc",
        "colab": {
          "base_uri": "https://localhost:8080/",
          "height": 638
        }
      },
      "source": [
        "fullData[fullData['Confirmed'] > 100].sort_values(by='Recover%', ascending=False).head(20).reset_index()"
      ],
      "execution_count": 72,
      "outputs": [
        {
          "output_type": "execute_result",
          "data": {
            "text/html": [
              "<div>\n",
              "<style scoped>\n",
              "    .dataframe tbody tr th:only-of-type {\n",
              "        vertical-align: middle;\n",
              "    }\n",
              "\n",
              "    .dataframe tbody tr th {\n",
              "        vertical-align: top;\n",
              "    }\n",
              "\n",
              "    .dataframe thead th {\n",
              "        text-align: right;\n",
              "    }\n",
              "</style>\n",
              "<table border=\"1\" class=\"dataframe\">\n",
              "  <thead>\n",
              "    <tr style=\"text-align: right;\">\n",
              "      <th></th>\n",
              "      <th>index</th>\n",
              "      <th>State</th>\n",
              "      <th>Confirmed</th>\n",
              "      <th>Deceased</th>\n",
              "      <th>Recovered</th>\n",
              "      <th>Decease%</th>\n",
              "      <th>Recover%</th>\n",
              "      <th>Active%</th>\n",
              "    </tr>\n",
              "  </thead>\n",
              "  <tbody>\n",
              "    <tr>\n",
              "      <th>0</th>\n",
              "      <td>17</td>\n",
              "      <td>kl</td>\n",
              "      <td>486</td>\n",
              "      <td>4</td>\n",
              "      <td>359</td>\n",
              "      <td>0.82</td>\n",
              "      <td>73.87</td>\n",
              "      <td>25.31</td>\n",
              "    </tr>\n",
              "    <tr>\n",
              "      <th>1</th>\n",
              "      <td>13</td>\n",
              "      <td>hr</td>\n",
              "      <td>308</td>\n",
              "      <td>3</td>\n",
              "      <td>223</td>\n",
              "      <td>0.97</td>\n",
              "      <td>72.40</td>\n",
              "      <td>26.62</td>\n",
              "    </tr>\n",
              "    <tr>\n",
              "      <th>2</th>\n",
              "      <td>32</td>\n",
              "      <td>tn</td>\n",
              "      <td>2058</td>\n",
              "      <td>25</td>\n",
              "      <td>1128</td>\n",
              "      <td>1.21</td>\n",
              "      <td>54.81</td>\n",
              "      <td>43.97</td>\n",
              "    </tr>\n",
              "    <tr>\n",
              "      <th>3</th>\n",
              "      <td>16</td>\n",
              "      <td>ka</td>\n",
              "      <td>523</td>\n",
              "      <td>20</td>\n",
              "      <td>207</td>\n",
              "      <td>3.82</td>\n",
              "      <td>39.58</td>\n",
              "      <td>56.60</td>\n",
              "    </tr>\n",
              "    <tr>\n",
              "      <th>4</th>\n",
              "      <td>31</td>\n",
              "      <td>tg</td>\n",
              "      <td>1009</td>\n",
              "      <td>25</td>\n",
              "      <td>374</td>\n",
              "      <td>2.48</td>\n",
              "      <td>37.07</td>\n",
              "      <td>60.46</td>\n",
              "    </tr>\n",
              "    <tr>\n",
              "      <th>5</th>\n",
              "      <td>29</td>\n",
              "      <td>rj</td>\n",
              "      <td>2364</td>\n",
              "      <td>52</td>\n",
              "      <td>770</td>\n",
              "      <td>2.20</td>\n",
              "      <td>32.57</td>\n",
              "      <td>65.23</td>\n",
              "    </tr>\n",
              "    <tr>\n",
              "      <th>6</th>\n",
              "      <td>8</td>\n",
              "      <td>dl</td>\n",
              "      <td>3314</td>\n",
              "      <td>54</td>\n",
              "      <td>1078</td>\n",
              "      <td>1.63</td>\n",
              "      <td>32.53</td>\n",
              "      <td>65.84</td>\n",
              "    </tr>\n",
              "    <tr>\n",
              "      <th>7</th>\n",
              "      <td>26</td>\n",
              "      <td>or</td>\n",
              "      <td>118</td>\n",
              "      <td>1</td>\n",
              "      <td>38</td>\n",
              "      <td>0.85</td>\n",
              "      <td>32.20</td>\n",
              "      <td>66.95</td>\n",
              "    </tr>\n",
              "    <tr>\n",
              "      <th>8</th>\n",
              "      <td>15</td>\n",
              "      <td>jk</td>\n",
              "      <td>565</td>\n",
              "      <td>8</td>\n",
              "      <td>176</td>\n",
              "      <td>1.42</td>\n",
              "      <td>31.15</td>\n",
              "      <td>67.43</td>\n",
              "    </tr>\n",
              "    <tr>\n",
              "      <th>9</th>\n",
              "      <td>27</td>\n",
              "      <td>pb</td>\n",
              "      <td>342</td>\n",
              "      <td>19</td>\n",
              "      <td>101</td>\n",
              "      <td>5.56</td>\n",
              "      <td>29.53</td>\n",
              "      <td>64.91</td>\n",
              "    </tr>\n",
              "    <tr>\n",
              "      <th>10</th>\n",
              "      <td>34</td>\n",
              "      <td>tt</td>\n",
              "      <td>31359</td>\n",
              "      <td>1007</td>\n",
              "      <td>7747</td>\n",
              "      <td>3.21</td>\n",
              "      <td>24.70</td>\n",
              "      <td>72.08</td>\n",
              "    </tr>\n",
              "    <tr>\n",
              "      <th>11</th>\n",
              "      <td>35</td>\n",
              "      <td>up</td>\n",
              "      <td>2053</td>\n",
              "      <td>34</td>\n",
              "      <td>462</td>\n",
              "      <td>1.66</td>\n",
              "      <td>22.50</td>\n",
              "      <td>75.84</td>\n",
              "    </tr>\n",
              "    <tr>\n",
              "      <th>12</th>\n",
              "      <td>1</td>\n",
              "      <td>ap</td>\n",
              "      <td>1259</td>\n",
              "      <td>31</td>\n",
              "      <td>258</td>\n",
              "      <td>2.46</td>\n",
              "      <td>20.49</td>\n",
              "      <td>77.05</td>\n",
              "    </tr>\n",
              "    <tr>\n",
              "      <th>13</th>\n",
              "      <td>14</td>\n",
              "      <td>jh</td>\n",
              "      <td>105</td>\n",
              "      <td>3</td>\n",
              "      <td>19</td>\n",
              "      <td>2.86</td>\n",
              "      <td>18.10</td>\n",
              "      <td>79.05</td>\n",
              "    </tr>\n",
              "    <tr>\n",
              "      <th>14</th>\n",
              "      <td>4</td>\n",
              "      <td>br</td>\n",
              "      <td>366</td>\n",
              "      <td>2</td>\n",
              "      <td>64</td>\n",
              "      <td>0.55</td>\n",
              "      <td>17.49</td>\n",
              "      <td>81.97</td>\n",
              "    </tr>\n",
              "    <tr>\n",
              "      <th>15</th>\n",
              "      <td>37</td>\n",
              "      <td>wb</td>\n",
              "      <td>697</td>\n",
              "      <td>22</td>\n",
              "      <td>109</td>\n",
              "      <td>3.16</td>\n",
              "      <td>15.64</td>\n",
              "      <td>81.21</td>\n",
              "    </tr>\n",
              "    <tr>\n",
              "      <th>16</th>\n",
              "      <td>23</td>\n",
              "      <td>mp</td>\n",
              "      <td>2387</td>\n",
              "      <td>121</td>\n",
              "      <td>373</td>\n",
              "      <td>5.07</td>\n",
              "      <td>15.63</td>\n",
              "      <td>79.30</td>\n",
              "    </tr>\n",
              "    <tr>\n",
              "      <th>17</th>\n",
              "      <td>20</td>\n",
              "      <td>mh</td>\n",
              "      <td>9318</td>\n",
              "      <td>399</td>\n",
              "      <td>1388</td>\n",
              "      <td>4.28</td>\n",
              "      <td>14.90</td>\n",
              "      <td>80.82</td>\n",
              "    </tr>\n",
              "    <tr>\n",
              "      <th>18</th>\n",
              "      <td>11</td>\n",
              "      <td>gj</td>\n",
              "      <td>3774</td>\n",
              "      <td>181</td>\n",
              "      <td>434</td>\n",
              "      <td>4.80</td>\n",
              "      <td>11.50</td>\n",
              "      <td>83.70</td>\n",
              "    </tr>\n",
              "  </tbody>\n",
              "</table>\n",
              "</div>"
            ],
            "text/plain": [
              "    index State  Confirmed  Deceased  Recovered  Decease%  Recover%  Active%\n",
              "0      17    kl        486         4        359      0.82     73.87    25.31\n",
              "1      13    hr        308         3        223      0.97     72.40    26.62\n",
              "2      32    tn       2058        25       1128      1.21     54.81    43.97\n",
              "3      16    ka        523        20        207      3.82     39.58    56.60\n",
              "4      31    tg       1009        25        374      2.48     37.07    60.46\n",
              "5      29    rj       2364        52        770      2.20     32.57    65.23\n",
              "6       8    dl       3314        54       1078      1.63     32.53    65.84\n",
              "7      26    or        118         1         38      0.85     32.20    66.95\n",
              "8      15    jk        565         8        176      1.42     31.15    67.43\n",
              "9      27    pb        342        19        101      5.56     29.53    64.91\n",
              "10     34    tt      31359      1007       7747      3.21     24.70    72.08\n",
              "11     35    up       2053        34        462      1.66     22.50    75.84\n",
              "12      1    ap       1259        31        258      2.46     20.49    77.05\n",
              "13     14    jh        105         3         19      2.86     18.10    79.05\n",
              "14      4    br        366         2         64      0.55     17.49    81.97\n",
              "15     37    wb        697        22        109      3.16     15.64    81.21\n",
              "16     23    mp       2387       121        373      5.07     15.63    79.30\n",
              "17     20    mh       9318       399       1388      4.28     14.90    80.82\n",
              "18     11    gj       3774       181        434      4.80     11.50    83.70"
            ]
          },
          "metadata": {
            "tags": []
          },
          "execution_count": 72
        }
      ]
    },
    {
      "cell_type": "code",
      "metadata": {
        "id": "cJUh-nel63Kf",
        "colab_type": "code",
        "outputId": "5944e8db-282f-4659-d4ea-206001fe91bb",
        "colab": {
          "base_uri": "https://localhost:8080/",
          "height": 1000
        }
      },
      "source": [
        "fullData.sort_values(by='Active%', ascending=False)"
      ],
      "execution_count": 73,
      "outputs": [
        {
          "output_type": "execute_result",
          "data": {
            "text/html": [
              "<div>\n",
              "<style scoped>\n",
              "    .dataframe tbody tr th:only-of-type {\n",
              "        vertical-align: middle;\n",
              "    }\n",
              "\n",
              "    .dataframe tbody tr th {\n",
              "        vertical-align: top;\n",
              "    }\n",
              "\n",
              "    .dataframe thead th {\n",
              "        text-align: right;\n",
              "    }\n",
              "</style>\n",
              "<table border=\"1\" class=\"dataframe\">\n",
              "  <thead>\n",
              "    <tr style=\"text-align: right;\">\n",
              "      <th></th>\n",
              "      <th>State</th>\n",
              "      <th>Confirmed</th>\n",
              "      <th>Deceased</th>\n",
              "      <th>Recovered</th>\n",
              "      <th>Decease%</th>\n",
              "      <th>Recover%</th>\n",
              "      <th>Active%</th>\n",
              "    </tr>\n",
              "  </thead>\n",
              "  <tbody>\n",
              "    <tr>\n",
              "      <th>24</th>\n",
              "      <td>mz</td>\n",
              "      <td>1</td>\n",
              "      <td>0</td>\n",
              "      <td>0</td>\n",
              "      <td>0.00</td>\n",
              "      <td>0.00</td>\n",
              "      <td>100.00</td>\n",
              "    </tr>\n",
              "    <tr>\n",
              "      <th>21</th>\n",
              "      <td>ml</td>\n",
              "      <td>12</td>\n",
              "      <td>1</td>\n",
              "      <td>0</td>\n",
              "      <td>8.33</td>\n",
              "      <td>0.00</td>\n",
              "      <td>91.67</td>\n",
              "    </tr>\n",
              "    <tr>\n",
              "      <th>11</th>\n",
              "      <td>gj</td>\n",
              "      <td>3774</td>\n",
              "      <td>181</td>\n",
              "      <td>434</td>\n",
              "      <td>4.80</td>\n",
              "      <td>11.50</td>\n",
              "      <td>83.70</td>\n",
              "    </tr>\n",
              "    <tr>\n",
              "      <th>4</th>\n",
              "      <td>br</td>\n",
              "      <td>366</td>\n",
              "      <td>2</td>\n",
              "      <td>64</td>\n",
              "      <td>0.55</td>\n",
              "      <td>17.49</td>\n",
              "      <td>81.97</td>\n",
              "    </tr>\n",
              "    <tr>\n",
              "      <th>37</th>\n",
              "      <td>wb</td>\n",
              "      <td>697</td>\n",
              "      <td>22</td>\n",
              "      <td>109</td>\n",
              "      <td>3.16</td>\n",
              "      <td>15.64</td>\n",
              "      <td>81.21</td>\n",
              "    </tr>\n",
              "    <tr>\n",
              "      <th>20</th>\n",
              "      <td>mh</td>\n",
              "      <td>9318</td>\n",
              "      <td>399</td>\n",
              "      <td>1388</td>\n",
              "      <td>4.28</td>\n",
              "      <td>14.90</td>\n",
              "      <td>80.82</td>\n",
              "    </tr>\n",
              "    <tr>\n",
              "      <th>23</th>\n",
              "      <td>mp</td>\n",
              "      <td>2387</td>\n",
              "      <td>121</td>\n",
              "      <td>373</td>\n",
              "      <td>5.07</td>\n",
              "      <td>15.63</td>\n",
              "      <td>79.30</td>\n",
              "    </tr>\n",
              "    <tr>\n",
              "      <th>14</th>\n",
              "      <td>jh</td>\n",
              "      <td>105</td>\n",
              "      <td>3</td>\n",
              "      <td>19</td>\n",
              "      <td>2.86</td>\n",
              "      <td>18.10</td>\n",
              "      <td>79.05</td>\n",
              "    </tr>\n",
              "    <tr>\n",
              "      <th>1</th>\n",
              "      <td>ap</td>\n",
              "      <td>1259</td>\n",
              "      <td>31</td>\n",
              "      <td>258</td>\n",
              "      <td>2.46</td>\n",
              "      <td>20.49</td>\n",
              "      <td>77.05</td>\n",
              "    </tr>\n",
              "    <tr>\n",
              "      <th>35</th>\n",
              "      <td>up</td>\n",
              "      <td>2053</td>\n",
              "      <td>34</td>\n",
              "      <td>462</td>\n",
              "      <td>1.66</td>\n",
              "      <td>22.50</td>\n",
              "      <td>75.84</td>\n",
              "    </tr>\n",
              "    <tr>\n",
              "      <th>34</th>\n",
              "      <td>tt</td>\n",
              "      <td>31359</td>\n",
              "      <td>1007</td>\n",
              "      <td>7747</td>\n",
              "      <td>3.21</td>\n",
              "      <td>24.70</td>\n",
              "      <td>72.08</td>\n",
              "    </tr>\n",
              "    <tr>\n",
              "      <th>5</th>\n",
              "      <td>ch</td>\n",
              "      <td>56</td>\n",
              "      <td>0</td>\n",
              "      <td>17</td>\n",
              "      <td>0.00</td>\n",
              "      <td>30.36</td>\n",
              "      <td>69.64</td>\n",
              "    </tr>\n",
              "    <tr>\n",
              "      <th>15</th>\n",
              "      <td>jk</td>\n",
              "      <td>565</td>\n",
              "      <td>8</td>\n",
              "      <td>176</td>\n",
              "      <td>1.42</td>\n",
              "      <td>31.15</td>\n",
              "      <td>67.43</td>\n",
              "    </tr>\n",
              "    <tr>\n",
              "      <th>26</th>\n",
              "      <td>or</td>\n",
              "      <td>118</td>\n",
              "      <td>1</td>\n",
              "      <td>38</td>\n",
              "      <td>0.85</td>\n",
              "      <td>32.20</td>\n",
              "      <td>66.95</td>\n",
              "    </tr>\n",
              "    <tr>\n",
              "      <th>8</th>\n",
              "      <td>dl</td>\n",
              "      <td>3314</td>\n",
              "      <td>54</td>\n",
              "      <td>1078</td>\n",
              "      <td>1.63</td>\n",
              "      <td>32.53</td>\n",
              "      <td>65.84</td>\n",
              "    </tr>\n",
              "    <tr>\n",
              "      <th>29</th>\n",
              "      <td>rj</td>\n",
              "      <td>2364</td>\n",
              "      <td>52</td>\n",
              "      <td>770</td>\n",
              "      <td>2.20</td>\n",
              "      <td>32.57</td>\n",
              "      <td>65.23</td>\n",
              "    </tr>\n",
              "    <tr>\n",
              "      <th>27</th>\n",
              "      <td>pb</td>\n",
              "      <td>342</td>\n",
              "      <td>19</td>\n",
              "      <td>101</td>\n",
              "      <td>5.56</td>\n",
              "      <td>29.53</td>\n",
              "      <td>64.91</td>\n",
              "    </tr>\n",
              "    <tr>\n",
              "      <th>31</th>\n",
              "      <td>tg</td>\n",
              "      <td>1009</td>\n",
              "      <td>25</td>\n",
              "      <td>374</td>\n",
              "      <td>2.48</td>\n",
              "      <td>37.07</td>\n",
              "      <td>60.46</td>\n",
              "    </tr>\n",
              "    <tr>\n",
              "      <th>16</th>\n",
              "      <td>ka</td>\n",
              "      <td>523</td>\n",
              "      <td>20</td>\n",
              "      <td>207</td>\n",
              "      <td>3.82</td>\n",
              "      <td>39.58</td>\n",
              "      <td>56.60</td>\n",
              "    </tr>\n",
              "    <tr>\n",
              "      <th>0</th>\n",
              "      <td>an</td>\n",
              "      <td>33</td>\n",
              "      <td>0</td>\n",
              "      <td>15</td>\n",
              "      <td>0.00</td>\n",
              "      <td>45.45</td>\n",
              "      <td>54.55</td>\n",
              "    </tr>\n",
              "    <tr>\n",
              "      <th>32</th>\n",
              "      <td>tn</td>\n",
              "      <td>2058</td>\n",
              "      <td>25</td>\n",
              "      <td>1128</td>\n",
              "      <td>1.21</td>\n",
              "      <td>54.81</td>\n",
              "      <td>43.97</td>\n",
              "    </tr>\n",
              "    <tr>\n",
              "      <th>28</th>\n",
              "      <td>py</td>\n",
              "      <td>8</td>\n",
              "      <td>0</td>\n",
              "      <td>5</td>\n",
              "      <td>0.00</td>\n",
              "      <td>62.50</td>\n",
              "      <td>37.50</td>\n",
              "    </tr>\n",
              "    <tr>\n",
              "      <th>36</th>\n",
              "      <td>ut</td>\n",
              "      <td>54</td>\n",
              "      <td>0</td>\n",
              "      <td>34</td>\n",
              "      <td>0.00</td>\n",
              "      <td>62.96</td>\n",
              "      <td>37.04</td>\n",
              "    </tr>\n",
              "    <tr>\n",
              "      <th>12</th>\n",
              "      <td>hp</td>\n",
              "      <td>40</td>\n",
              "      <td>2</td>\n",
              "      <td>26</td>\n",
              "      <td>5.00</td>\n",
              "      <td>65.00</td>\n",
              "      <td>30.00</td>\n",
              "    </tr>\n",
              "    <tr>\n",
              "      <th>18</th>\n",
              "      <td>la</td>\n",
              "      <td>22</td>\n",
              "      <td>0</td>\n",
              "      <td>16</td>\n",
              "      <td>0.00</td>\n",
              "      <td>72.73</td>\n",
              "      <td>27.27</td>\n",
              "    </tr>\n",
              "    <tr>\n",
              "      <th>13</th>\n",
              "      <td>hr</td>\n",
              "      <td>308</td>\n",
              "      <td>3</td>\n",
              "      <td>223</td>\n",
              "      <td>0.97</td>\n",
              "      <td>72.40</td>\n",
              "      <td>26.62</td>\n",
              "    </tr>\n",
              "    <tr>\n",
              "      <th>3</th>\n",
              "      <td>as</td>\n",
              "      <td>38</td>\n",
              "      <td>1</td>\n",
              "      <td>27</td>\n",
              "      <td>2.63</td>\n",
              "      <td>71.05</td>\n",
              "      <td>26.32</td>\n",
              "    </tr>\n",
              "    <tr>\n",
              "      <th>17</th>\n",
              "      <td>kl</td>\n",
              "      <td>486</td>\n",
              "      <td>4</td>\n",
              "      <td>359</td>\n",
              "      <td>0.82</td>\n",
              "      <td>73.87</td>\n",
              "      <td>25.31</td>\n",
              "    </tr>\n",
              "    <tr>\n",
              "      <th>6</th>\n",
              "      <td>ct</td>\n",
              "      <td>38</td>\n",
              "      <td>0</td>\n",
              "      <td>34</td>\n",
              "      <td>0.00</td>\n",
              "      <td>89.47</td>\n",
              "      <td>10.53</td>\n",
              "    </tr>\n",
              "    <tr>\n",
              "      <th>22</th>\n",
              "      <td>mn</td>\n",
              "      <td>2</td>\n",
              "      <td>0</td>\n",
              "      <td>2</td>\n",
              "      <td>0.00</td>\n",
              "      <td>100.00</td>\n",
              "      <td>0.00</td>\n",
              "    </tr>\n",
              "    <tr>\n",
              "      <th>10</th>\n",
              "      <td>ga</td>\n",
              "      <td>7</td>\n",
              "      <td>0</td>\n",
              "      <td>7</td>\n",
              "      <td>0.00</td>\n",
              "      <td>100.00</td>\n",
              "      <td>0.00</td>\n",
              "    </tr>\n",
              "    <tr>\n",
              "      <th>33</th>\n",
              "      <td>tr</td>\n",
              "      <td>2</td>\n",
              "      <td>0</td>\n",
              "      <td>2</td>\n",
              "      <td>0.00</td>\n",
              "      <td>100.00</td>\n",
              "      <td>0.00</td>\n",
              "    </tr>\n",
              "    <tr>\n",
              "      <th>2</th>\n",
              "      <td>ar</td>\n",
              "      <td>1</td>\n",
              "      <td>0</td>\n",
              "      <td>1</td>\n",
              "      <td>0.00</td>\n",
              "      <td>100.00</td>\n",
              "      <td>0.00</td>\n",
              "    </tr>\n",
              "    <tr>\n",
              "      <th>7</th>\n",
              "      <td>dd</td>\n",
              "      <td>0</td>\n",
              "      <td>0</td>\n",
              "      <td>0</td>\n",
              "      <td>NaN</td>\n",
              "      <td>NaN</td>\n",
              "      <td>NaN</td>\n",
              "    </tr>\n",
              "    <tr>\n",
              "      <th>9</th>\n",
              "      <td>dn</td>\n",
              "      <td>0</td>\n",
              "      <td>0</td>\n",
              "      <td>0</td>\n",
              "      <td>NaN</td>\n",
              "      <td>NaN</td>\n",
              "      <td>NaN</td>\n",
              "    </tr>\n",
              "    <tr>\n",
              "      <th>19</th>\n",
              "      <td>ld</td>\n",
              "      <td>0</td>\n",
              "      <td>0</td>\n",
              "      <td>0</td>\n",
              "      <td>NaN</td>\n",
              "      <td>NaN</td>\n",
              "      <td>NaN</td>\n",
              "    </tr>\n",
              "    <tr>\n",
              "      <th>25</th>\n",
              "      <td>nl</td>\n",
              "      <td>0</td>\n",
              "      <td>0</td>\n",
              "      <td>0</td>\n",
              "      <td>NaN</td>\n",
              "      <td>NaN</td>\n",
              "      <td>NaN</td>\n",
              "    </tr>\n",
              "    <tr>\n",
              "      <th>30</th>\n",
              "      <td>sk</td>\n",
              "      <td>0</td>\n",
              "      <td>0</td>\n",
              "      <td>0</td>\n",
              "      <td>NaN</td>\n",
              "      <td>NaN</td>\n",
              "      <td>NaN</td>\n",
              "    </tr>\n",
              "  </tbody>\n",
              "</table>\n",
              "</div>"
            ],
            "text/plain": [
              "   State  Confirmed  Deceased  Recovered  Decease%  Recover%  Active%\n",
              "24    mz          1         0          0      0.00      0.00   100.00\n",
              "21    ml         12         1          0      8.33      0.00    91.67\n",
              "11    gj       3774       181        434      4.80     11.50    83.70\n",
              "4     br        366         2         64      0.55     17.49    81.97\n",
              "37    wb        697        22        109      3.16     15.64    81.21\n",
              "20    mh       9318       399       1388      4.28     14.90    80.82\n",
              "23    mp       2387       121        373      5.07     15.63    79.30\n",
              "14    jh        105         3         19      2.86     18.10    79.05\n",
              "1     ap       1259        31        258      2.46     20.49    77.05\n",
              "35    up       2053        34        462      1.66     22.50    75.84\n",
              "34    tt      31359      1007       7747      3.21     24.70    72.08\n",
              "5     ch         56         0         17      0.00     30.36    69.64\n",
              "15    jk        565         8        176      1.42     31.15    67.43\n",
              "26    or        118         1         38      0.85     32.20    66.95\n",
              "8     dl       3314        54       1078      1.63     32.53    65.84\n",
              "29    rj       2364        52        770      2.20     32.57    65.23\n",
              "27    pb        342        19        101      5.56     29.53    64.91\n",
              "31    tg       1009        25        374      2.48     37.07    60.46\n",
              "16    ka        523        20        207      3.82     39.58    56.60\n",
              "0     an         33         0         15      0.00     45.45    54.55\n",
              "32    tn       2058        25       1128      1.21     54.81    43.97\n",
              "28    py          8         0          5      0.00     62.50    37.50\n",
              "36    ut         54         0         34      0.00     62.96    37.04\n",
              "12    hp         40         2         26      5.00     65.00    30.00\n",
              "18    la         22         0         16      0.00     72.73    27.27\n",
              "13    hr        308         3        223      0.97     72.40    26.62\n",
              "3     as         38         1         27      2.63     71.05    26.32\n",
              "17    kl        486         4        359      0.82     73.87    25.31\n",
              "6     ct         38         0         34      0.00     89.47    10.53\n",
              "22    mn          2         0          2      0.00    100.00     0.00\n",
              "10    ga          7         0          7      0.00    100.00     0.00\n",
              "33    tr          2         0          2      0.00    100.00     0.00\n",
              "2     ar          1         0          1      0.00    100.00     0.00\n",
              "7     dd          0         0          0       NaN       NaN      NaN\n",
              "9     dn          0         0          0       NaN       NaN      NaN\n",
              "19    ld          0         0          0       NaN       NaN      NaN\n",
              "25    nl          0         0          0       NaN       NaN      NaN\n",
              "30    sk          0         0          0       NaN       NaN      NaN"
            ]
          },
          "metadata": {
            "tags": []
          },
          "execution_count": 73
        }
      ]
    },
    {
      "cell_type": "code",
      "metadata": {
        "extensions": {
          "jupyter_dashboards": {
            "version": 1,
            "views": {
              "grid_default": {},
              "report_default": {
                "hidden": true
              }
            }
          }
        },
        "scrolled": false,
        "id": "elcbk4fE63Kh",
        "colab_type": "code",
        "outputId": "50993566-fe9f-42af-ccfb-0212a0177349",
        "colab": {
          "base_uri": "https://localhost:8080/",
          "height": 542
        }
      },
      "source": [
        "fig = go.Figure()\n",
        "fig.add_trace(go.Bar(x=fullData['State'], y=fullData['Decease%'],marker_color='orange', name='Deceased %'))\n",
        "fig.add_trace(go.Bar(x=fullData['State'], y=fullData['Recover%'],marker_color='green', name='Recovery %'))\n",
        "fig.update_layout(barmode='stack', title='Deceased & Recovery %')\n",
        "fig.show()"
      ],
      "execution_count": 74,
      "outputs": [
        {
          "output_type": "display_data",
          "data": {
            "text/html": [
              "<html>\n",
              "<head><meta charset=\"utf-8\" /></head>\n",
              "<body>\n",
              "    <div>\n",
              "            <script src=\"https://cdnjs.cloudflare.com/ajax/libs/mathjax/2.7.5/MathJax.js?config=TeX-AMS-MML_SVG\"></script><script type=\"text/javascript\">if (window.MathJax) {MathJax.Hub.Config({SVG: {font: \"STIX-Web\"}});}</script>\n",
              "                <script type=\"text/javascript\">window.PlotlyConfig = {MathJaxConfig: 'local'};</script>\n",
              "        <script src=\"https://cdn.plot.ly/plotly-latest.min.js\"></script>    \n",
              "            <div id=\"4241ecef-5c74-4891-8ade-c06915a2a726\" class=\"plotly-graph-div\" style=\"height:525px; width:100%;\"></div>\n",
              "            <script type=\"text/javascript\">\n",
              "                \n",
              "                    window.PLOTLYENV=window.PLOTLYENV || {};\n",
              "                    \n",
              "                if (document.getElementById(\"4241ecef-5c74-4891-8ade-c06915a2a726\")) {\n",
              "                    Plotly.newPlot(\n",
              "                        '4241ecef-5c74-4891-8ade-c06915a2a726',\n",
              "                        [{\"marker\": {\"color\": \"orange\"}, \"name\": \"Deceased %\", \"type\": \"bar\", \"x\": [\"an\", \"ap\", \"ar\", \"as\", \"br\", \"ch\", \"ct\", \"dd\", \"dl\", \"dn\", \"ga\", \"gj\", \"hp\", \"hr\", \"jh\", \"jk\", \"ka\", \"kl\", \"la\", \"ld\", \"mh\", \"ml\", \"mn\", \"mp\", \"mz\", \"nl\", \"or\", \"pb\", \"py\", \"rj\", \"sk\", \"tg\", \"tn\", \"tr\", \"tt\", \"up\", \"ut\", \"wb\"], \"y\": [0.0, 2.46, 0.0, 2.63, 0.55, 0.0, 0.0, null, 1.63, null, 0.0, 4.8, 5.0, 0.97, 2.86, 1.42, 3.82, 0.82, 0.0, null, 4.28, 8.33, 0.0, 5.07, 0.0, null, 0.85, 5.56, 0.0, 2.2, null, 2.48, 1.21, 0.0, 3.21, 1.66, 0.0, 3.16]}, {\"marker\": {\"color\": \"green\"}, \"name\": \"Recovery %\", \"type\": \"bar\", \"x\": [\"an\", \"ap\", \"ar\", \"as\", \"br\", \"ch\", \"ct\", \"dd\", \"dl\", \"dn\", \"ga\", \"gj\", \"hp\", \"hr\", \"jh\", \"jk\", \"ka\", \"kl\", \"la\", \"ld\", \"mh\", \"ml\", \"mn\", \"mp\", \"mz\", \"nl\", \"or\", \"pb\", \"py\", \"rj\", \"sk\", \"tg\", \"tn\", \"tr\", \"tt\", \"up\", \"ut\", \"wb\"], \"y\": [45.45, 20.49, 100.0, 71.05, 17.49, 30.36, 89.47, null, 32.53, null, 100.0, 11.5, 65.0, 72.4, 18.1, 31.15, 39.58, 73.87, 72.73, null, 14.9, 0.0, 100.0, 15.63, 0.0, null, 32.2, 29.53, 62.5, 32.57, null, 37.07, 54.81, 100.0, 24.7, 22.5, 62.96, 15.64]}],\n",
              "                        {\"barmode\": \"stack\", \"template\": {\"data\": {\"bar\": [{\"error_x\": {\"color\": \"#2a3f5f\"}, \"error_y\": {\"color\": \"#2a3f5f\"}, \"marker\": {\"line\": {\"color\": \"#E5ECF6\", \"width\": 0.5}}, \"type\": \"bar\"}], \"barpolar\": [{\"marker\": {\"line\": {\"color\": \"#E5ECF6\", \"width\": 0.5}}, \"type\": \"barpolar\"}], \"carpet\": [{\"aaxis\": {\"endlinecolor\": \"#2a3f5f\", \"gridcolor\": \"white\", \"linecolor\": \"white\", \"minorgridcolor\": \"white\", \"startlinecolor\": \"#2a3f5f\"}, \"baxis\": {\"endlinecolor\": \"#2a3f5f\", \"gridcolor\": \"white\", \"linecolor\": \"white\", \"minorgridcolor\": \"white\", \"startlinecolor\": \"#2a3f5f\"}, \"type\": \"carpet\"}], \"choropleth\": [{\"colorbar\": {\"outlinewidth\": 0, \"ticks\": \"\"}, \"type\": \"choropleth\"}], \"contour\": [{\"colorbar\": {\"outlinewidth\": 0, \"ticks\": \"\"}, \"colorscale\": [[0.0, \"#0d0887\"], [0.1111111111111111, \"#46039f\"], [0.2222222222222222, \"#7201a8\"], [0.3333333333333333, \"#9c179e\"], [0.4444444444444444, \"#bd3786\"], [0.5555555555555556, \"#d8576b\"], [0.6666666666666666, \"#ed7953\"], [0.7777777777777778, \"#fb9f3a\"], [0.8888888888888888, \"#fdca26\"], [1.0, \"#f0f921\"]], \"type\": \"contour\"}], \"contourcarpet\": [{\"colorbar\": {\"outlinewidth\": 0, \"ticks\": \"\"}, \"type\": \"contourcarpet\"}], \"heatmap\": [{\"colorbar\": {\"outlinewidth\": 0, \"ticks\": \"\"}, \"colorscale\": [[0.0, \"#0d0887\"], [0.1111111111111111, \"#46039f\"], [0.2222222222222222, \"#7201a8\"], [0.3333333333333333, \"#9c179e\"], [0.4444444444444444, \"#bd3786\"], [0.5555555555555556, \"#d8576b\"], [0.6666666666666666, \"#ed7953\"], [0.7777777777777778, \"#fb9f3a\"], [0.8888888888888888, \"#fdca26\"], [1.0, \"#f0f921\"]], \"type\": \"heatmap\"}], \"heatmapgl\": [{\"colorbar\": {\"outlinewidth\": 0, \"ticks\": \"\"}, \"colorscale\": [[0.0, \"#0d0887\"], [0.1111111111111111, \"#46039f\"], [0.2222222222222222, \"#7201a8\"], [0.3333333333333333, \"#9c179e\"], [0.4444444444444444, \"#bd3786\"], [0.5555555555555556, \"#d8576b\"], [0.6666666666666666, \"#ed7953\"], [0.7777777777777778, \"#fb9f3a\"], [0.8888888888888888, \"#fdca26\"], [1.0, \"#f0f921\"]], \"type\": \"heatmapgl\"}], \"histogram\": [{\"marker\": {\"colorbar\": {\"outlinewidth\": 0, \"ticks\": \"\"}}, \"type\": \"histogram\"}], \"histogram2d\": [{\"colorbar\": {\"outlinewidth\": 0, \"ticks\": \"\"}, \"colorscale\": [[0.0, \"#0d0887\"], [0.1111111111111111, \"#46039f\"], [0.2222222222222222, \"#7201a8\"], [0.3333333333333333, \"#9c179e\"], [0.4444444444444444, \"#bd3786\"], [0.5555555555555556, \"#d8576b\"], [0.6666666666666666, \"#ed7953\"], [0.7777777777777778, \"#fb9f3a\"], [0.8888888888888888, \"#fdca26\"], [1.0, \"#f0f921\"]], \"type\": \"histogram2d\"}], \"histogram2dcontour\": [{\"colorbar\": {\"outlinewidth\": 0, \"ticks\": \"\"}, \"colorscale\": [[0.0, \"#0d0887\"], [0.1111111111111111, \"#46039f\"], [0.2222222222222222, \"#7201a8\"], [0.3333333333333333, \"#9c179e\"], [0.4444444444444444, \"#bd3786\"], [0.5555555555555556, \"#d8576b\"], [0.6666666666666666, \"#ed7953\"], [0.7777777777777778, \"#fb9f3a\"], [0.8888888888888888, \"#fdca26\"], [1.0, \"#f0f921\"]], \"type\": \"histogram2dcontour\"}], \"mesh3d\": [{\"colorbar\": {\"outlinewidth\": 0, \"ticks\": \"\"}, \"type\": \"mesh3d\"}], \"parcoords\": [{\"line\": {\"colorbar\": {\"outlinewidth\": 0, \"ticks\": \"\"}}, \"type\": \"parcoords\"}], \"pie\": [{\"automargin\": true, \"type\": \"pie\"}], \"scatter\": [{\"marker\": {\"colorbar\": {\"outlinewidth\": 0, \"ticks\": \"\"}}, \"type\": \"scatter\"}], \"scatter3d\": [{\"line\": {\"colorbar\": {\"outlinewidth\": 0, \"ticks\": \"\"}}, \"marker\": {\"colorbar\": {\"outlinewidth\": 0, \"ticks\": \"\"}}, \"type\": \"scatter3d\"}], \"scattercarpet\": [{\"marker\": {\"colorbar\": {\"outlinewidth\": 0, \"ticks\": \"\"}}, \"type\": \"scattercarpet\"}], \"scattergeo\": [{\"marker\": {\"colorbar\": {\"outlinewidth\": 0, \"ticks\": \"\"}}, \"type\": \"scattergeo\"}], \"scattergl\": [{\"marker\": {\"colorbar\": {\"outlinewidth\": 0, \"ticks\": \"\"}}, \"type\": \"scattergl\"}], \"scattermapbox\": [{\"marker\": {\"colorbar\": {\"outlinewidth\": 0, \"ticks\": \"\"}}, \"type\": \"scattermapbox\"}], \"scatterpolar\": [{\"marker\": {\"colorbar\": {\"outlinewidth\": 0, \"ticks\": \"\"}}, \"type\": \"scatterpolar\"}], \"scatterpolargl\": [{\"marker\": {\"colorbar\": {\"outlinewidth\": 0, \"ticks\": \"\"}}, \"type\": \"scatterpolargl\"}], \"scatterternary\": [{\"marker\": {\"colorbar\": {\"outlinewidth\": 0, \"ticks\": \"\"}}, \"type\": \"scatterternary\"}], \"surface\": [{\"colorbar\": {\"outlinewidth\": 0, \"ticks\": \"\"}, \"colorscale\": [[0.0, \"#0d0887\"], [0.1111111111111111, \"#46039f\"], [0.2222222222222222, \"#7201a8\"], [0.3333333333333333, \"#9c179e\"], [0.4444444444444444, \"#bd3786\"], [0.5555555555555556, \"#d8576b\"], [0.6666666666666666, \"#ed7953\"], [0.7777777777777778, \"#fb9f3a\"], [0.8888888888888888, \"#fdca26\"], [1.0, \"#f0f921\"]], \"type\": \"surface\"}], \"table\": [{\"cells\": {\"fill\": {\"color\": \"#EBF0F8\"}, \"line\": {\"color\": \"white\"}}, \"header\": {\"fill\": {\"color\": \"#C8D4E3\"}, \"line\": {\"color\": \"white\"}}, \"type\": \"table\"}]}, \"layout\": {\"annotationdefaults\": {\"arrowcolor\": \"#2a3f5f\", \"arrowhead\": 0, \"arrowwidth\": 1}, \"coloraxis\": {\"colorbar\": {\"outlinewidth\": 0, \"ticks\": \"\"}}, \"colorscale\": {\"diverging\": [[0, \"#8e0152\"], [0.1, \"#c51b7d\"], [0.2, \"#de77ae\"], [0.3, \"#f1b6da\"], [0.4, \"#fde0ef\"], [0.5, \"#f7f7f7\"], [0.6, \"#e6f5d0\"], [0.7, \"#b8e186\"], [0.8, \"#7fbc41\"], [0.9, \"#4d9221\"], [1, \"#276419\"]], \"sequential\": [[0.0, \"#0d0887\"], [0.1111111111111111, \"#46039f\"], [0.2222222222222222, \"#7201a8\"], [0.3333333333333333, \"#9c179e\"], [0.4444444444444444, \"#bd3786\"], [0.5555555555555556, \"#d8576b\"], [0.6666666666666666, \"#ed7953\"], [0.7777777777777778, \"#fb9f3a\"], [0.8888888888888888, \"#fdca26\"], [1.0, \"#f0f921\"]], \"sequentialminus\": [[0.0, \"#0d0887\"], [0.1111111111111111, \"#46039f\"], [0.2222222222222222, \"#7201a8\"], [0.3333333333333333, \"#9c179e\"], [0.4444444444444444, \"#bd3786\"], [0.5555555555555556, \"#d8576b\"], [0.6666666666666666, \"#ed7953\"], [0.7777777777777778, \"#fb9f3a\"], [0.8888888888888888, \"#fdca26\"], [1.0, \"#f0f921\"]]}, \"colorway\": [\"#636efa\", \"#EF553B\", \"#00cc96\", \"#ab63fa\", \"#FFA15A\", \"#19d3f3\", \"#FF6692\", \"#B6E880\", \"#FF97FF\", \"#FECB52\"], \"font\": {\"color\": \"#2a3f5f\"}, \"geo\": {\"bgcolor\": \"white\", \"lakecolor\": \"white\", \"landcolor\": \"#E5ECF6\", \"showlakes\": true, \"showland\": true, \"subunitcolor\": \"white\"}, \"hoverlabel\": {\"align\": \"left\"}, \"hovermode\": \"closest\", \"mapbox\": {\"style\": \"light\"}, \"paper_bgcolor\": \"white\", \"plot_bgcolor\": \"#E5ECF6\", \"polar\": {\"angularaxis\": {\"gridcolor\": \"white\", \"linecolor\": \"white\", \"ticks\": \"\"}, \"bgcolor\": \"#E5ECF6\", \"radialaxis\": {\"gridcolor\": \"white\", \"linecolor\": \"white\", \"ticks\": \"\"}}, \"scene\": {\"xaxis\": {\"backgroundcolor\": \"#E5ECF6\", \"gridcolor\": \"white\", \"gridwidth\": 2, \"linecolor\": \"white\", \"showbackground\": true, \"ticks\": \"\", \"zerolinecolor\": \"white\"}, \"yaxis\": {\"backgroundcolor\": \"#E5ECF6\", \"gridcolor\": \"white\", \"gridwidth\": 2, \"linecolor\": \"white\", \"showbackground\": true, \"ticks\": \"\", \"zerolinecolor\": \"white\"}, \"zaxis\": {\"backgroundcolor\": \"#E5ECF6\", \"gridcolor\": \"white\", \"gridwidth\": 2, \"linecolor\": \"white\", \"showbackground\": true, \"ticks\": \"\", \"zerolinecolor\": \"white\"}}, \"shapedefaults\": {\"line\": {\"color\": \"#2a3f5f\"}}, \"ternary\": {\"aaxis\": {\"gridcolor\": \"white\", \"linecolor\": \"white\", \"ticks\": \"\"}, \"baxis\": {\"gridcolor\": \"white\", \"linecolor\": \"white\", \"ticks\": \"\"}, \"bgcolor\": \"#E5ECF6\", \"caxis\": {\"gridcolor\": \"white\", \"linecolor\": \"white\", \"ticks\": \"\"}}, \"title\": {\"x\": 0.05}, \"xaxis\": {\"automargin\": true, \"gridcolor\": \"white\", \"linecolor\": \"white\", \"ticks\": \"\", \"title\": {\"standoff\": 15}, \"zerolinecolor\": \"white\", \"zerolinewidth\": 2}, \"yaxis\": {\"automargin\": true, \"gridcolor\": \"white\", \"linecolor\": \"white\", \"ticks\": \"\", \"title\": {\"standoff\": 15}, \"zerolinecolor\": \"white\", \"zerolinewidth\": 2}}}, \"title\": {\"text\": \"Deceased & Recovery %\"}},\n",
              "                        {\"responsive\": true}\n",
              "                    ).then(function(){\n",
              "                            \n",
              "var gd = document.getElementById('4241ecef-5c74-4891-8ade-c06915a2a726');\n",
              "var x = new MutationObserver(function (mutations, observer) {{\n",
              "        var display = window.getComputedStyle(gd).display;\n",
              "        if (!display || display === 'none') {{\n",
              "            console.log([gd, 'removed!']);\n",
              "            Plotly.purge(gd);\n",
              "            observer.disconnect();\n",
              "        }}\n",
              "}});\n",
              "\n",
              "// Listen for the removal of the full notebook cells\n",
              "var notebookContainer = gd.closest('#notebook-container');\n",
              "if (notebookContainer) {{\n",
              "    x.observe(notebookContainer, {childList: true});\n",
              "}}\n",
              "\n",
              "// Listen for the clearing of the current output cell\n",
              "var outputEl = gd.closest('.output');\n",
              "if (outputEl) {{\n",
              "    x.observe(outputEl, {childList: true});\n",
              "}}\n",
              "\n",
              "                        })\n",
              "                };\n",
              "                \n",
              "            </script>\n",
              "        </div>\n",
              "</body>\n",
              "</html>"
            ]
          },
          "metadata": {
            "tags": []
          }
        }
      ]
    },
    {
      "cell_type": "code",
      "metadata": {
        "extensions": {
          "jupyter_dashboards": {
            "version": 1,
            "views": {
              "grid_default": {},
              "report_default": {
                "hidden": false
              }
            }
          }
        },
        "scrolled": false,
        "id": "Ko2VgwvR63Kj",
        "colab_type": "code",
        "outputId": "e7fd761c-cd4e-49b3-8fd5-9a526816985e",
        "colab": {
          "base_uri": "https://localhost:8080/",
          "height": 542
        }
      },
      "source": [
        "fig = go.Figure()\n",
        "\n",
        "fig.add_trace(go.Scatter(x=stateDfConfirmed['date'], y=stateDfConfirmed['ap'], name='AP Confirmed Cases'))\n",
        "fig.add_trace(go.Scatter(x=stateDfConfirmed['date'], y=stateDfConfirmed['kl'], name='Kerala Confirmed Cases'))\n",
        "fig.add_trace(go.Scatter(x=stateDfRecovered['date'], y=stateDfRecovered['ap'], name='AP Recovered Cases'))\n",
        "fig.add_trace(go.Scatter(x=stateDfConfirmed['date'], y=stateDfConfirmed['tg'], name='TG Confirmed Cases'))\n",
        "# fig.add_trace(go.Bar(x=stateDfConfirmed['date'], y=stateDfConfirmed['ap'], name='Confirmed Cases AP'))\n",
        "fig.show()"
      ],
      "execution_count": 75,
      "outputs": [
        {
          "output_type": "display_data",
          "data": {
            "text/html": [
              "<html>\n",
              "<head><meta charset=\"utf-8\" /></head>\n",
              "<body>\n",
              "    <div>\n",
              "            <script src=\"https://cdnjs.cloudflare.com/ajax/libs/mathjax/2.7.5/MathJax.js?config=TeX-AMS-MML_SVG\"></script><script type=\"text/javascript\">if (window.MathJax) {MathJax.Hub.Config({SVG: {font: \"STIX-Web\"}});}</script>\n",
              "                <script type=\"text/javascript\">window.PlotlyConfig = {MathJaxConfig: 'local'};</script>\n",
              "        <script src=\"https://cdn.plot.ly/plotly-latest.min.js\"></script>    \n",
              "            <div id=\"42b74434-c570-4409-a66c-fd644b2b4def\" class=\"plotly-graph-div\" style=\"height:525px; width:100%;\"></div>\n",
              "            <script type=\"text/javascript\">\n",
              "                \n",
              "                    window.PLOTLYENV=window.PLOTLYENV || {};\n",
              "                    \n",
              "                if (document.getElementById(\"42b74434-c570-4409-a66c-fd644b2b4def\")) {\n",
              "                    Plotly.newPlot(\n",
              "                        '42b74434-c570-4409-a66c-fd644b2b4def',\n",
              "                        [{\"name\": \"AP Confirmed Cases\", \"type\": \"scatter\", \"x\": [\"14-Mar-20\", \"15-Mar-20\", \"16-Mar-20\", \"17-Mar-20\", \"18-Mar-20\", \"19-Mar-20\", \"20-Mar-20\", \"21-Mar-20\", \"22-Mar-20\", \"23-Mar-20\", \"24-Mar-20\", \"25-Mar-20\", \"26-Mar-20\", \"27-Mar-20\", \"28-Mar-20\", \"29-Mar-20\", \"30-Mar-20\", \"31-Mar-20\", \"01-Apr-20\", \"02-Apr-20\", \"03-Apr-20\", \"04-Apr-20\", \"05-Apr-20\", \"06-Apr-20\", \"07-Apr-20\", \"08-Apr-20\", \"09-Apr-20\", \"10-Apr-20\", \"11-Apr-20\", \"12-Apr-20\", \"13-Apr-20\", \"14-Apr-20\", \"15-Apr-20\", \"16-Apr-20\", \"17-Apr-20\", \"18-Apr-20\", \"19-Apr-20\", \"20-Apr-20\", \"21-Apr-20\", \"22-Apr-20\", \"23-Apr-20\", \"24-Apr-20\", \"25-Apr-20\", \"26-Apr-20\", \"27-Apr-20\", \"28-Apr-20\"], \"y\": [\"1\", \"0\", \"0\", \"0\", \"0\", \"2\", \"0\", \"2\", \"1\", \"1\", \"1\", \"2\", \"1\", \"2\", \"6\", \"2\", \"2\", \"21\", \"67\", \"38\", \"15\", \"28\", \"64\", \"47\", \"11\", \"34\", \"15\", \"18\", \"24\", \"15\", \"19\", \"45\", \"41\", \"9\", \"38\", \"31\", \"44\", \"75\", \"35\", \"56\", \"80\", \"62\", \"61\", \"81\", \"80\", \"82\"]}, {\"name\": \"Kerala Confirmed Cases\", \"type\": \"scatter\", \"x\": [\"14-Mar-20\", \"15-Mar-20\", \"16-Mar-20\", \"17-Mar-20\", \"18-Mar-20\", \"19-Mar-20\", \"20-Mar-20\", \"21-Mar-20\", \"22-Mar-20\", \"23-Mar-20\", \"24-Mar-20\", \"25-Mar-20\", \"26-Mar-20\", \"27-Mar-20\", \"28-Mar-20\", \"29-Mar-20\", \"30-Mar-20\", \"31-Mar-20\", \"01-Apr-20\", \"02-Apr-20\", \"03-Apr-20\", \"04-Apr-20\", \"05-Apr-20\", \"06-Apr-20\", \"07-Apr-20\", \"08-Apr-20\", \"09-Apr-20\", \"10-Apr-20\", \"11-Apr-20\", \"12-Apr-20\", \"13-Apr-20\", \"14-Apr-20\", \"15-Apr-20\", \"16-Apr-20\", \"17-Apr-20\", \"18-Apr-20\", \"19-Apr-20\", \"20-Apr-20\", \"21-Apr-20\", \"22-Apr-20\", \"23-Apr-20\", \"24-Apr-20\", \"25-Apr-20\", \"26-Apr-20\", \"27-Apr-20\", \"28-Apr-20\"], \"y\": [\"19\", \"5\", \"3\", \"0\", \"0\", \"1\", \"12\", \"12\", \"15\", \"28\", \"14\", \"9\", \"19\", \"39\", \"6\", \"20\", \"32\", \"7\", \"24\", \"21\", \"9\", \"11\", \"8\", \"13\", \"9\", \"9\", \"12\", \"7\", \"10\", \"2\", \"3\", \"8\", \"1\", \"7\", \"1\", \"4\", \"2\", \"6\", \"19\", \"11\", \"10\", \"3\", \"7\", \"11\", \"13\", \"4\"]}, {\"name\": \"AP Recovered Cases\", \"type\": \"scatter\", \"x\": [\"14-Mar-20\", \"15-Mar-20\", \"16-Mar-20\", \"17-Mar-20\", \"18-Mar-20\", \"19-Mar-20\", \"20-Mar-20\", \"21-Mar-20\", \"22-Mar-20\", \"23-Mar-20\", \"24-Mar-20\", \"25-Mar-20\", \"26-Mar-20\", \"27-Mar-20\", \"28-Mar-20\", \"29-Mar-20\", \"30-Mar-20\", \"31-Mar-20\", \"01-Apr-20\", \"02-Apr-20\", \"03-Apr-20\", \"04-Apr-20\", \"05-Apr-20\", \"06-Apr-20\", \"07-Apr-20\", \"08-Apr-20\", \"09-Apr-20\", \"10-Apr-20\", \"11-Apr-20\", \"12-Apr-20\", \"13-Apr-20\", \"14-Apr-20\", \"15-Apr-20\", \"16-Apr-20\", \"17-Apr-20\", \"18-Apr-20\", \"19-Apr-20\", \"20-Apr-20\", \"21-Apr-20\", \"22-Apr-20\", \"23-Apr-20\", \"24-Apr-20\", \"25-Apr-20\", \"26-Apr-20\", \"27-Apr-20\", \"28-Apr-20\"], \"y\": [\"0\", \"0\", \"0\", \"0\", \"0\", \"0\", \"0\", \"0\", \"0\", \"0\", \"0\", \"1\", \"0\", \"0\", \"0\", \"0\", \"0\", \"0\", \"1\", \"0\", \"0\", \"0\", \"3\", \"0\", \"0\", \"1\", \"4\", \"0\", \"0\", \"2\", \"0\", \"4\", \"4\", \"0\", \"15\", \"7\", \"23\", \"27\", \"4\", \"24\", \"21\", \"4\", \"26\", \"60\", \"4\", \"23\"]}, {\"name\": \"TG Confirmed Cases\", \"type\": \"scatter\", \"x\": [\"14-Mar-20\", \"15-Mar-20\", \"16-Mar-20\", \"17-Mar-20\", \"18-Mar-20\", \"19-Mar-20\", \"20-Mar-20\", \"21-Mar-20\", \"22-Mar-20\", \"23-Mar-20\", \"24-Mar-20\", \"25-Mar-20\", \"26-Mar-20\", \"27-Mar-20\", \"28-Mar-20\", \"29-Mar-20\", \"30-Mar-20\", \"31-Mar-20\", \"01-Apr-20\", \"02-Apr-20\", \"03-Apr-20\", \"04-Apr-20\", \"05-Apr-20\", \"06-Apr-20\", \"07-Apr-20\", \"08-Apr-20\", \"09-Apr-20\", \"10-Apr-20\", \"11-Apr-20\", \"12-Apr-20\", \"13-Apr-20\", \"14-Apr-20\", \"15-Apr-20\", \"16-Apr-20\", \"17-Apr-20\", \"18-Apr-20\", \"19-Apr-20\", \"20-Apr-20\", \"21-Apr-20\", \"22-Apr-20\", \"23-Apr-20\", \"24-Apr-20\", \"25-Apr-20\", \"26-Apr-20\", \"27-Apr-20\", \"28-Apr-20\"], \"y\": [\"1\", \"2\", \"1\", \"1\", \"8\", \"3\", \"3\", \"2\", \"6\", \"6\", \"4\", \"4\", \"3\", \"15\", \"8\", \"3\", \"7\", \"20\", \"30\", \"27\", \"75\", \"43\", \"62\", \"30\", \"40\", \"49\", \"18\", \"16\", \"16\", \"28\", \"61\", \"52\", \"6\", \"50\", \"66\", \"43\", \"49\", \"14\", \"56\", \"15\", \"27\", \"13\", \"7\", \"11\", \"2\", \"6\"]}],\n",
              "                        {\"template\": {\"data\": {\"bar\": [{\"error_x\": {\"color\": \"#2a3f5f\"}, \"error_y\": {\"color\": \"#2a3f5f\"}, \"marker\": {\"line\": {\"color\": \"#E5ECF6\", \"width\": 0.5}}, \"type\": \"bar\"}], \"barpolar\": [{\"marker\": {\"line\": {\"color\": \"#E5ECF6\", \"width\": 0.5}}, \"type\": \"barpolar\"}], \"carpet\": [{\"aaxis\": {\"endlinecolor\": \"#2a3f5f\", \"gridcolor\": \"white\", \"linecolor\": \"white\", \"minorgridcolor\": \"white\", \"startlinecolor\": \"#2a3f5f\"}, \"baxis\": {\"endlinecolor\": \"#2a3f5f\", \"gridcolor\": \"white\", \"linecolor\": \"white\", \"minorgridcolor\": \"white\", \"startlinecolor\": \"#2a3f5f\"}, \"type\": \"carpet\"}], \"choropleth\": [{\"colorbar\": {\"outlinewidth\": 0, \"ticks\": \"\"}, \"type\": \"choropleth\"}], \"contour\": [{\"colorbar\": {\"outlinewidth\": 0, \"ticks\": \"\"}, \"colorscale\": [[0.0, \"#0d0887\"], [0.1111111111111111, \"#46039f\"], [0.2222222222222222, \"#7201a8\"], [0.3333333333333333, \"#9c179e\"], [0.4444444444444444, \"#bd3786\"], [0.5555555555555556, \"#d8576b\"], [0.6666666666666666, \"#ed7953\"], [0.7777777777777778, \"#fb9f3a\"], [0.8888888888888888, \"#fdca26\"], [1.0, \"#f0f921\"]], \"type\": \"contour\"}], \"contourcarpet\": [{\"colorbar\": {\"outlinewidth\": 0, \"ticks\": \"\"}, \"type\": \"contourcarpet\"}], \"heatmap\": [{\"colorbar\": {\"outlinewidth\": 0, \"ticks\": \"\"}, \"colorscale\": [[0.0, \"#0d0887\"], [0.1111111111111111, \"#46039f\"], [0.2222222222222222, \"#7201a8\"], [0.3333333333333333, \"#9c179e\"], [0.4444444444444444, \"#bd3786\"], [0.5555555555555556, \"#d8576b\"], [0.6666666666666666, \"#ed7953\"], [0.7777777777777778, \"#fb9f3a\"], [0.8888888888888888, \"#fdca26\"], [1.0, \"#f0f921\"]], \"type\": \"heatmap\"}], \"heatmapgl\": [{\"colorbar\": {\"outlinewidth\": 0, \"ticks\": \"\"}, \"colorscale\": [[0.0, \"#0d0887\"], [0.1111111111111111, \"#46039f\"], [0.2222222222222222, \"#7201a8\"], [0.3333333333333333, \"#9c179e\"], [0.4444444444444444, \"#bd3786\"], [0.5555555555555556, \"#d8576b\"], [0.6666666666666666, \"#ed7953\"], [0.7777777777777778, \"#fb9f3a\"], [0.8888888888888888, \"#fdca26\"], [1.0, \"#f0f921\"]], \"type\": \"heatmapgl\"}], \"histogram\": [{\"marker\": {\"colorbar\": {\"outlinewidth\": 0, \"ticks\": \"\"}}, \"type\": \"histogram\"}], \"histogram2d\": [{\"colorbar\": {\"outlinewidth\": 0, \"ticks\": \"\"}, \"colorscale\": [[0.0, \"#0d0887\"], [0.1111111111111111, \"#46039f\"], [0.2222222222222222, \"#7201a8\"], [0.3333333333333333, \"#9c179e\"], [0.4444444444444444, \"#bd3786\"], [0.5555555555555556, \"#d8576b\"], [0.6666666666666666, \"#ed7953\"], [0.7777777777777778, \"#fb9f3a\"], [0.8888888888888888, \"#fdca26\"], [1.0, \"#f0f921\"]], \"type\": \"histogram2d\"}], \"histogram2dcontour\": [{\"colorbar\": {\"outlinewidth\": 0, \"ticks\": \"\"}, \"colorscale\": [[0.0, \"#0d0887\"], [0.1111111111111111, \"#46039f\"], [0.2222222222222222, \"#7201a8\"], [0.3333333333333333, \"#9c179e\"], [0.4444444444444444, \"#bd3786\"], [0.5555555555555556, \"#d8576b\"], [0.6666666666666666, \"#ed7953\"], [0.7777777777777778, \"#fb9f3a\"], [0.8888888888888888, \"#fdca26\"], [1.0, \"#f0f921\"]], \"type\": \"histogram2dcontour\"}], \"mesh3d\": [{\"colorbar\": {\"outlinewidth\": 0, \"ticks\": \"\"}, \"type\": \"mesh3d\"}], \"parcoords\": [{\"line\": {\"colorbar\": {\"outlinewidth\": 0, \"ticks\": \"\"}}, \"type\": \"parcoords\"}], \"pie\": [{\"automargin\": true, \"type\": \"pie\"}], \"scatter\": [{\"marker\": {\"colorbar\": {\"outlinewidth\": 0, \"ticks\": \"\"}}, \"type\": \"scatter\"}], \"scatter3d\": [{\"line\": {\"colorbar\": {\"outlinewidth\": 0, \"ticks\": \"\"}}, \"marker\": {\"colorbar\": {\"outlinewidth\": 0, \"ticks\": \"\"}}, \"type\": \"scatter3d\"}], \"scattercarpet\": [{\"marker\": {\"colorbar\": {\"outlinewidth\": 0, \"ticks\": \"\"}}, \"type\": \"scattercarpet\"}], \"scattergeo\": [{\"marker\": {\"colorbar\": {\"outlinewidth\": 0, \"ticks\": \"\"}}, \"type\": \"scattergeo\"}], \"scattergl\": [{\"marker\": {\"colorbar\": {\"outlinewidth\": 0, \"ticks\": \"\"}}, \"type\": \"scattergl\"}], \"scattermapbox\": [{\"marker\": {\"colorbar\": {\"outlinewidth\": 0, \"ticks\": \"\"}}, \"type\": \"scattermapbox\"}], \"scatterpolar\": [{\"marker\": {\"colorbar\": {\"outlinewidth\": 0, \"ticks\": \"\"}}, \"type\": \"scatterpolar\"}], \"scatterpolargl\": [{\"marker\": {\"colorbar\": {\"outlinewidth\": 0, \"ticks\": \"\"}}, \"type\": \"scatterpolargl\"}], \"scatterternary\": [{\"marker\": {\"colorbar\": {\"outlinewidth\": 0, \"ticks\": \"\"}}, \"type\": \"scatterternary\"}], \"surface\": [{\"colorbar\": {\"outlinewidth\": 0, \"ticks\": \"\"}, \"colorscale\": [[0.0, \"#0d0887\"], [0.1111111111111111, \"#46039f\"], [0.2222222222222222, \"#7201a8\"], [0.3333333333333333, \"#9c179e\"], [0.4444444444444444, \"#bd3786\"], [0.5555555555555556, \"#d8576b\"], [0.6666666666666666, \"#ed7953\"], [0.7777777777777778, \"#fb9f3a\"], [0.8888888888888888, \"#fdca26\"], [1.0, \"#f0f921\"]], \"type\": \"surface\"}], \"table\": [{\"cells\": {\"fill\": {\"color\": \"#EBF0F8\"}, \"line\": {\"color\": \"white\"}}, \"header\": {\"fill\": {\"color\": \"#C8D4E3\"}, \"line\": {\"color\": \"white\"}}, \"type\": \"table\"}]}, \"layout\": {\"annotationdefaults\": {\"arrowcolor\": \"#2a3f5f\", \"arrowhead\": 0, \"arrowwidth\": 1}, \"coloraxis\": {\"colorbar\": {\"outlinewidth\": 0, \"ticks\": \"\"}}, \"colorscale\": {\"diverging\": [[0, \"#8e0152\"], [0.1, \"#c51b7d\"], [0.2, \"#de77ae\"], [0.3, \"#f1b6da\"], [0.4, \"#fde0ef\"], [0.5, \"#f7f7f7\"], [0.6, \"#e6f5d0\"], [0.7, \"#b8e186\"], [0.8, \"#7fbc41\"], [0.9, \"#4d9221\"], [1, \"#276419\"]], \"sequential\": [[0.0, \"#0d0887\"], [0.1111111111111111, \"#46039f\"], [0.2222222222222222, \"#7201a8\"], [0.3333333333333333, \"#9c179e\"], [0.4444444444444444, \"#bd3786\"], [0.5555555555555556, \"#d8576b\"], [0.6666666666666666, \"#ed7953\"], [0.7777777777777778, \"#fb9f3a\"], [0.8888888888888888, \"#fdca26\"], [1.0, \"#f0f921\"]], \"sequentialminus\": [[0.0, \"#0d0887\"], [0.1111111111111111, \"#46039f\"], [0.2222222222222222, \"#7201a8\"], [0.3333333333333333, \"#9c179e\"], [0.4444444444444444, \"#bd3786\"], [0.5555555555555556, \"#d8576b\"], [0.6666666666666666, \"#ed7953\"], [0.7777777777777778, \"#fb9f3a\"], [0.8888888888888888, \"#fdca26\"], [1.0, \"#f0f921\"]]}, \"colorway\": [\"#636efa\", \"#EF553B\", \"#00cc96\", \"#ab63fa\", \"#FFA15A\", \"#19d3f3\", \"#FF6692\", \"#B6E880\", \"#FF97FF\", \"#FECB52\"], \"font\": {\"color\": \"#2a3f5f\"}, \"geo\": {\"bgcolor\": \"white\", \"lakecolor\": \"white\", \"landcolor\": \"#E5ECF6\", \"showlakes\": true, \"showland\": true, \"subunitcolor\": \"white\"}, \"hoverlabel\": {\"align\": \"left\"}, \"hovermode\": \"closest\", \"mapbox\": {\"style\": \"light\"}, \"paper_bgcolor\": \"white\", \"plot_bgcolor\": \"#E5ECF6\", \"polar\": {\"angularaxis\": {\"gridcolor\": \"white\", \"linecolor\": \"white\", \"ticks\": \"\"}, \"bgcolor\": \"#E5ECF6\", \"radialaxis\": {\"gridcolor\": \"white\", \"linecolor\": \"white\", \"ticks\": \"\"}}, \"scene\": {\"xaxis\": {\"backgroundcolor\": \"#E5ECF6\", \"gridcolor\": \"white\", \"gridwidth\": 2, \"linecolor\": \"white\", \"showbackground\": true, \"ticks\": \"\", \"zerolinecolor\": \"white\"}, \"yaxis\": {\"backgroundcolor\": \"#E5ECF6\", \"gridcolor\": \"white\", \"gridwidth\": 2, \"linecolor\": \"white\", \"showbackground\": true, \"ticks\": \"\", \"zerolinecolor\": \"white\"}, \"zaxis\": {\"backgroundcolor\": \"#E5ECF6\", \"gridcolor\": \"white\", \"gridwidth\": 2, \"linecolor\": \"white\", \"showbackground\": true, \"ticks\": \"\", \"zerolinecolor\": \"white\"}}, \"shapedefaults\": {\"line\": {\"color\": \"#2a3f5f\"}}, \"ternary\": {\"aaxis\": {\"gridcolor\": \"white\", \"linecolor\": \"white\", \"ticks\": \"\"}, \"baxis\": {\"gridcolor\": \"white\", \"linecolor\": \"white\", \"ticks\": \"\"}, \"bgcolor\": \"#E5ECF6\", \"caxis\": {\"gridcolor\": \"white\", \"linecolor\": \"white\", \"ticks\": \"\"}}, \"title\": {\"x\": 0.05}, \"xaxis\": {\"automargin\": true, \"gridcolor\": \"white\", \"linecolor\": \"white\", \"ticks\": \"\", \"title\": {\"standoff\": 15}, \"zerolinecolor\": \"white\", \"zerolinewidth\": 2}, \"yaxis\": {\"automargin\": true, \"gridcolor\": \"white\", \"linecolor\": \"white\", \"ticks\": \"\", \"title\": {\"standoff\": 15}, \"zerolinecolor\": \"white\", \"zerolinewidth\": 2}}}},\n",
              "                        {\"responsive\": true}\n",
              "                    ).then(function(){\n",
              "                            \n",
              "var gd = document.getElementById('42b74434-c570-4409-a66c-fd644b2b4def');\n",
              "var x = new MutationObserver(function (mutations, observer) {{\n",
              "        var display = window.getComputedStyle(gd).display;\n",
              "        if (!display || display === 'none') {{\n",
              "            console.log([gd, 'removed!']);\n",
              "            Plotly.purge(gd);\n",
              "            observer.disconnect();\n",
              "        }}\n",
              "}});\n",
              "\n",
              "// Listen for the removal of the full notebook cells\n",
              "var notebookContainer = gd.closest('#notebook-container');\n",
              "if (notebookContainer) {{\n",
              "    x.observe(notebookContainer, {childList: true});\n",
              "}}\n",
              "\n",
              "// Listen for the clearing of the current output cell\n",
              "var outputEl = gd.closest('.output');\n",
              "if (outputEl) {{\n",
              "    x.observe(outputEl, {childList: true});\n",
              "}}\n",
              "\n",
              "                        })\n",
              "                };\n",
              "                \n",
              "            </script>\n",
              "        </div>\n",
              "</body>\n",
              "</html>"
            ]
          },
          "metadata": {
            "tags": []
          }
        }
      ]
    },
    {
      "cell_type": "code",
      "metadata": {
        "id": "xoCwfAzb71zz",
        "colab_type": "code",
        "outputId": "5a37d43b-2521-4df3-c88f-43307f8b7f08",
        "colab": {
          "base_uri": "https://localhost:8080/",
          "height": 255
        }
      },
      "source": [
        "!pip install geopandas"
      ],
      "execution_count": 76,
      "outputs": [
        {
          "output_type": "stream",
          "text": [
            "Requirement already satisfied: geopandas in /usr/local/lib/python3.6/dist-packages (0.7.0)\n",
            "Requirement already satisfied: fiona in /usr/local/lib/python3.6/dist-packages (from geopandas) (1.8.13.post1)\n",
            "Requirement already satisfied: shapely in /usr/local/lib/python3.6/dist-packages (from geopandas) (1.7.0)\n",
            "Requirement already satisfied: pyproj>=2.2.0 in /usr/local/lib/python3.6/dist-packages (from geopandas) (2.6.0)\n",
            "Requirement already satisfied: pandas>=0.23.0 in /usr/local/lib/python3.6/dist-packages (from geopandas) (1.0.3)\n",
            "Requirement already satisfied: munch in /usr/local/lib/python3.6/dist-packages (from fiona->geopandas) (2.5.0)\n",
            "Requirement already satisfied: attrs>=17 in /usr/local/lib/python3.6/dist-packages (from fiona->geopandas) (19.3.0)\n",
            "Requirement already satisfied: click<8,>=4.0 in /usr/local/lib/python3.6/dist-packages (from fiona->geopandas) (7.1.1)\n",
            "Requirement already satisfied: click-plugins>=1.0 in /usr/local/lib/python3.6/dist-packages (from fiona->geopandas) (1.1.1)\n",
            "Requirement already satisfied: cligj>=0.5 in /usr/local/lib/python3.6/dist-packages (from fiona->geopandas) (0.5.0)\n",
            "Requirement already satisfied: six>=1.7 in /usr/local/lib/python3.6/dist-packages (from fiona->geopandas) (1.12.0)\n",
            "Requirement already satisfied: python-dateutil>=2.6.1 in /usr/local/lib/python3.6/dist-packages (from pandas>=0.23.0->geopandas) (2.8.1)\n",
            "Requirement already satisfied: numpy>=1.13.3 in /usr/local/lib/python3.6/dist-packages (from pandas>=0.23.0->geopandas) (1.18.3)\n",
            "Requirement already satisfied: pytz>=2017.2 in /usr/local/lib/python3.6/dist-packages (from pandas>=0.23.0->geopandas) (2018.9)\n"
          ],
          "name": "stdout"
        }
      ]
    },
    {
      "cell_type": "code",
      "metadata": {
        "extensions": {
          "jupyter_dashboards": {
            "version": 1,
            "views": {
              "grid_default": {},
              "report_default": {
                "hidden": true
              }
            }
          }
        },
        "id": "WWU7-8bs63Kl",
        "colab_type": "code",
        "colab": {}
      },
      "source": [
        "from geopandas import GeoSeries, GeoDataFrame, read_file\n",
        "from shapely.geometry import Point\n",
        "from pandas import Series"
      ],
      "execution_count": 0,
      "outputs": []
    },
    {
      "cell_type": "code",
      "metadata": {
        "extensions": {
          "jupyter_dashboards": {
            "version": 1,
            "views": {
              "grid_default": {},
              "report_default": {
                "hidden": true
              }
            }
          }
        },
        "id": "P5hQdr6m63Kt",
        "colab_type": "code",
        "colab": {}
      },
      "source": [
        "#geoData = read_file(r'C:\\Users\\phani\\Documents\\Learn\\learn\\geoplots\\maps-master\\States\\Admin2.shp')"
      ],
      "execution_count": 0,
      "outputs": []
    },
    {
      "cell_type": "code",
      "metadata": {
        "id": "hss7DcGR8Q7h",
        "colab_type": "code",
        "outputId": "4fb955a2-e247-41c4-8c8e-eda5949b7943",
        "colab": {
          "resources": {
            "http://localhost:8080/nbextensions/google.colab/files.js": {
              "data": "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",
              "ok": true,
              "headers": [
                [
                  "content-type",
                  "application/javascript"
                ]
              ],
              "status": 200,
              "status_text": ""
            }
          },
          "base_uri": "https://localhost:8080/",
          "height": 40
        }
      },
      "source": [
        "from google.colab import files\n",
        "uploaded = files.upload()"
      ],
      "execution_count": 79,
      "outputs": [
        {
          "output_type": "display_data",
          "data": {
            "text/html": [
              "\n",
              "     <input type=\"file\" id=\"files-5051e1ed-ea47-41d0-b7b4-84f47eabcf7f\" name=\"files[]\" multiple disabled />\n",
              "     <output id=\"result-5051e1ed-ea47-41d0-b7b4-84f47eabcf7f\">\n",
              "      Upload widget is only available when the cell has been executed in the\n",
              "      current browser session. Please rerun this cell to enable.\n",
              "      </output>\n",
              "      <script src=\"/nbextensions/google.colab/files.js\"></script> "
            ],
            "text/plain": [
              "<IPython.core.display.HTML object>"
            ]
          },
          "metadata": {
            "tags": []
          }
        }
      ]
    },
    {
      "cell_type": "code",
      "metadata": {
        "extensions": {
          "jupyter_dashboards": {
            "version": 1,
            "views": {
              "grid_default": {},
              "report_default": {
                "hidden": true
              }
            }
          }
        },
        "id": "HUTklzDo63Kx",
        "colab_type": "code",
        "colab": {}
      },
      "source": [
        "geoData = read_file('Admin2.shp')\n",
        "geoList = geoData.sort_values(by='ST_NM').ST_NM.unique()"
      ],
      "execution_count": 0,
      "outputs": []
    },
    {
      "cell_type": "code",
      "metadata": {
        "id": "1iZ12_iY9Wle",
        "colab_type": "code",
        "outputId": "a8faa793-215e-472e-f409-de61100b8d66",
        "colab": {
          "base_uri": "https://localhost:8080/",
          "height": 51
        }
      },
      "source": [
        "!ls"
      ],
      "execution_count": 81,
      "outputs": [
        {
          "output_type": "stream",
          "text": [
            "Admin2.cpg  Admin2.prj\tAdmin2.shp.xml\tsample_data\n",
            "Admin2.dbf  Admin2.shp\tAdmin2.shx\n"
          ],
          "name": "stdout"
        }
      ]
    },
    {
      "cell_type": "code",
      "metadata": {
        "extensions": {
          "jupyter_dashboards": {
            "version": 1,
            "views": {
              "grid_default": {},
              "report_default": {
                "hidden": false
              }
            }
          }
        },
        "id": "TIcY9FAD63K2",
        "colab_type": "code",
        "outputId": "cf542dfd-4791-4c4f-b99f-b7c450ae4ea4",
        "colab": {
          "base_uri": "https://localhost:8080/",
          "height": 34
        }
      },
      "source": [
        "len(listStates)"
      ],
      "execution_count": 82,
      "outputs": [
        {
          "output_type": "execute_result",
          "data": {
            "text/plain": [
              "38"
            ]
          },
          "metadata": {
            "tags": []
          },
          "execution_count": 82
        }
      ]
    },
    {
      "cell_type": "code",
      "metadata": {
        "extensions": {
          "jupyter_dashboards": {
            "version": 1,
            "views": {
              "grid_default": {},
              "report_default": {
                "hidden": true
              }
            }
          }
        },
        "id": "eiQCednp63K9",
        "colab_type": "code",
        "colab": {}
      },
      "source": [
        "dict ={}\n",
        "for i,_ in enumerate(listStates):\n",
        "    try:\n",
        "        dict[_] = geoList[i]\n",
        "    except IndexError:\n",
        "        dict[_] = \"\""
      ],
      "execution_count": 0,
      "outputs": []
    },
    {
      "cell_type": "code",
      "metadata": {
        "extensions": {
          "jupyter_dashboards": {
            "version": 1,
            "views": {
              "grid_default": {},
              "report_default": {
                "hidden": true
              }
            }
          }
        },
        "id": "zvsWDppB63K_",
        "colab_type": "code",
        "colab": {}
      },
      "source": [
        "dict = {'an': 'Andaman & Nicobar Island',\n",
        " 'ap': 'Andhra Pradesh',\n",
        " 'ar': 'Arunanchal Pradesh',\n",
        " 'as': 'Assam',\n",
        " 'br': 'Bihar',\n",
        " 'ch': 'Chandigarh',\n",
        " 'ct': 'Chhattisgarh',\n",
        " 'dd': 'Dadara & Nagar Havelli',\n",
        " 'dl': 'NCT of Delhi',\n",
        " 'dn': 'Daman & Diu',\n",
        " 'ga': 'Goa',\n",
        " 'gj': 'Gujarat',\n",
        " 'hp': 'Himachal Pradesh',\n",
        " 'hr': 'Haryana',\n",
        " 'jh': 'Jharkhand',\n",
        " 'jk': 'Jammu & Kashmir',\n",
        " 'ka': 'Karnataka',\n",
        " 'kl': 'Kerala',\n",
        " 'la': '',\n",
        " 'ld': 'Lakshadweep',\n",
        " 'mh': 'Maharashtra',\n",
        " 'ml': 'Meghalaya',\n",
        " 'mn': 'Manipur',\n",
        " 'mp': 'Madhya Pradesh',\n",
        " 'mz': 'Mizoram',\n",
        " 'nl': 'Nagaland',\n",
        " 'or': 'Odisha',\n",
        " 'pb': 'Puducherry',\n",
        " 'py': 'Punjab',\n",
        " 'rj': 'Rajasthan',\n",
        " 'sk': 'Sikkim',\n",
        " 'tg': 'Telangana',\n",
        " 'tn': 'Tamil Nadu',\n",
        " 'tr': 'Tripura',\n",
        " 'tt': '',\n",
        " 'up': 'Uttar Pradesh',\n",
        " 'ut': 'Uttarakhand',\n",
        " 'wb': 'West Bengal'}"
      ],
      "execution_count": 0,
      "outputs": []
    },
    {
      "cell_type": "code",
      "metadata": {
        "extensions": {
          "jupyter_dashboards": {
            "version": 1,
            "views": {
              "grid_default": {},
              "report_default": {
                "hidden": true
              }
            }
          }
        },
        "id": "6UmjjS3963LD",
        "colab_type": "code",
        "colab": {}
      },
      "source": [
        "fullData['ST_NM'] = fullData['State'].map(dict)"
      ],
      "execution_count": 0,
      "outputs": []
    },
    {
      "cell_type": "code",
      "metadata": {
        "extensions": {
          "jupyter_dashboards": {
            "version": 1,
            "views": {
              "grid_default": {},
              "report_default": {
                "hidden": true
              }
            }
          }
        },
        "id": "jmQf-5WI63LH",
        "colab_type": "code",
        "colab": {}
      },
      "source": [
        "geoFullData  = geoData.merge(fullData[['Decease%','ST_NM','Recover%','Active%']], on='ST_NM', how='outer')"
      ],
      "execution_count": 0,
      "outputs": []
    },
    {
      "cell_type": "code",
      "metadata": {
        "extensions": {
          "jupyter_dashboards": {
            "version": 1,
            "views": {
              "grid_default": {},
              "report_default": {
                "hidden": true
              }
            }
          }
        },
        "id": "VhyV0QP863LK",
        "colab_type": "code",
        "colab": {}
      },
      "source": [
        "geoFullData = geoFullData.dropna(subset=['geometry'])"
      ],
      "execution_count": 0,
      "outputs": []
    },
    {
      "cell_type": "code",
      "metadata": {
        "extensions": {
          "jupyter_dashboards": {
            "version": 1,
            "views": {
              "grid_default": {},
              "report_default": {
                "hidden": true
              }
            }
          }
        },
        "id": "6myL8U2m63LM",
        "colab_type": "code",
        "colab": {}
      },
      "source": [
        "geoFullData['coords'] = geoFullData['geometry'].apply(lambda x: x.representative_point().coords[:])\n",
        "geoFullData['coords'] = [coords[0] for coords in geoFullData['coords']]"
      ],
      "execution_count": 0,
      "outputs": []
    },
    {
      "cell_type": "code",
      "metadata": {
        "extensions": {
          "jupyter_dashboards": {
            "version": 1,
            "views": {
              "grid_default": {},
              "report_default": {
                "hidden": false
              }
            }
          }
        },
        "scrolled": false,
        "id": "5SjCF4B_63LO",
        "colab_type": "code",
        "outputId": "06fe9a3b-cf35-4485-ac2c-9a6de86c0353",
        "colab": {
          "base_uri": "https://localhost:8080/",
          "height": 610
        }
      },
      "source": [
        "geoFullData.plot(figsize=(20,10), column='Decease%', legend=True,cmap='YlOrRd');\n",
        "\n",
        "for idx, row in geoFullData.iterrows():\n",
        "    plt.annotate(s=row['Decease%'],xy=row['coords'], horizontalalignment='center')\n",
        "    \n",
        "plt.title('Deaths Per 100 People Infected');"
      ],
      "execution_count": 89,
      "outputs": [
        {
          "output_type": "display_data",
          "data": {
            "image/png": "[encoded data removed]",
            "text/plain": [
              "<Figure size 1440x720 with 2 Axes>"
            ]
          },
          "metadata": {
            "tags": [],
            "needs_background": "light"
          }
        }
      ]
    },
    {
      "cell_type": "code",
      "metadata": {
        "extensions": {
          "jupyter_dashboards": {
            "version": 1,
            "views": {
              "grid_default": {},
              "report_default": {
                "hidden": false
              }
            }
          }
        },
        "id": "wE5C7s1X63LR",
        "colab_type": "code",
        "outputId": "9839d6cb-7481-4773-af0d-e88793eaabdf",
        "colab": {
          "base_uri": "https://localhost:8080/",
          "height": 610
        }
      },
      "source": [
        "geoFullData.plot(figsize=(18,10), column='Recover%', legend=True,cmap='YlGn');\n",
        "for idx, row in geoFullData.iterrows():\n",
        "    plt.annotate(s=row['Recover%'],xy=row['coords'], horizontalalignment='center')\n",
        " \n",
        "plt.title('Recoveries Per 100 People Infected');"
      ],
      "execution_count": 90,
      "outputs": [
        {
          "output_type": "display_data",
          "data": {
            "image/png": "[encoded data removed]",
            "text/plain": [
              "<Figure size 1296x720 with 2 Axes>"
            ]
          },
          "metadata": {
            "tags": [],
            "needs_background": "light"
          }
        }
      ]
    },
    {
      "cell_type": "code",
      "metadata": {
        "extensions": {
          "jupyter_dashboards": {
            "version": 1,
            "views": {
              "grid_default": {},
              "report_default": {
                "hidden": true
              }
            }
          }
        },
        "id": "sNxfGu6g63LT",
        "colab_type": "code",
        "outputId": "bf453daf-da9d-4f9c-c8ab-33dfc5b17b8a",
        "colab": {
          "base_uri": "https://localhost:8080/",
          "height": 610
        }
      },
      "source": [
        "geoFullData.plot(figsize=(18,10), column='Active%', legend=True,cmap='RdYlGn_r');\n",
        "for idx, row in geoFullData.iterrows():\n",
        "    plt.annotate(s=row['Active%'],xy=row['coords'], horizontalalignment='center')\n",
        " \n",
        "plt.title('Active Cases Per 100 People Infected');"
      ],
      "execution_count": 91,
      "outputs": [
        {
          "output_type": "display_data",
          "data": {
            "image/png": "[encoded data removed]",
            "text/plain": [
              "<Figure size 1296x720 with 2 Axes>"
            ]
          },
          "metadata": {
            "tags": [],
            "needs_background": "light"
          }
        }
      ]
    },
    {
      "cell_type": "code",
      "metadata": {
        "id": "gkNX_DvwiAPM",
        "colab_type": "code",
        "colab": {}
      },
      "source": [
        "stateTestLatest = stateTestLatest[['positive','state','testpositivityrate','testspermillion','totaltested','updatedon']]"
      ],
      "execution_count": 0,
      "outputs": []
    },
    {
      "cell_type": "code",
      "metadata": {
        "id": "f-b6zWxdiiH0",
        "colab_type": "code",
        "colab": {}
      },
      "source": [
        "stateTestLatest.columns=['positive','ST_NM','testpositivityrate','testspermillion','totaltested','updatedon']"
      ],
      "execution_count": 0,
      "outputs": []
    },
    {
      "cell_type": "code",
      "metadata": {
        "id": "9ck5FoaTmsvY",
        "colab_type": "code",
        "colab": {
          "base_uri": "https://localhost:8080/",
          "height": 34
        },
        "outputId": "3a6dd435-3ee2-49ef-b654-153baaf8c680"
      },
      "source": [
        ""
      ],
      "execution_count": 125,
      "outputs": [
        {
          "output_type": "execute_result",
          "data": {
            "text/plain": [
              "Index(['ST_NM', 'geometry'], dtype='object')"
            ]
          },
          "metadata": {
            "tags": []
          },
          "execution_count": 125
        }
      ]
    },
    {
      "cell_type": "code",
      "metadata": {
        "id": "mEn8PZ_wmaVw",
        "colab_type": "code",
        "colab": {
          "base_uri": "https://localhost:8080/",
          "height": 102
        },
        "outputId": "5fa741a9-817b-4779-dc85-84d0ebd26d53"
      },
      "source": [
        "set(stateTestLatest['ST_NM']) - set(geoData['ST_NM'])"
      ],
      "execution_count": 126,
      "outputs": [
        {
          "output_type": "execute_result",
          "data": {
            "text/plain": [
              "{'Andaman and Nicobar Islands',\n",
              " 'Arunachal Pradesh',\n",
              " 'Delhi',\n",
              " 'Jammu and Kashmir',\n",
              " 'Ladakh'}"
            ]
          },
          "metadata": {
            "tags": []
          },
          "execution_count": 126
        }
      ]
    },
    {
      "cell_type": "code",
      "metadata": {
        "id": "v5hK3vIymacS",
        "colab_type": "code",
        "colab": {}
      },
      "source": [
        "state_dict_full ={'Andaman and Nicobar Islands',\n",
        " 'Arunachal Pradesh',\n",
        " 'Delhi',\n",
        " 'Jammu and Kashmir',\n",
        " 'Ladakh'}"
      ],
      "execution_count": 0,
      "outputs": []
    },
    {
      "cell_type": "code",
      "metadata": {
        "id": "LyZundhujMEz",
        "colab_type": "code",
        "colab": {}
      },
      "source": [
        "testGeo = stateTestLatest.merge(geoData, how='outer', on='ST_NM')"
      ],
      "execution_count": 0,
      "outputs": []
    },
    {
      "cell_type": "code",
      "metadata": {
        "id": "UplSkXgvlpH_",
        "colab_type": "code",
        "colab": {}
      },
      "source": [
        "fig = go.Figure()\n",
        "fig.add_trace(go.Bar())"
      ],
      "execution_count": 0,
      "outputs": []
    },
    {
      "cell_type": "code",
      "metadata": {
        "id": "gyXEvPiIkJjH",
        "colab_type": "code",
        "colab": {}
      },
      "source": [
        "for col in testGeo:\n",
        "  try:\n",
        "    testGeo[col] = testGeo.apply(lambda x:  int(x))\n",
        "  except:\n",
        "    pass"
      ],
      "execution_count": 0,
      "outputs": []
    },
    {
      "cell_type": "code",
      "metadata": {
        "id": "xuz-_TRSmW-g",
        "colab_type": "code",
        "colab": {}
      },
      "source": [
        ""
      ],
      "execution_count": 0,
      "outputs": []
    },
    {
      "cell_type": "code",
      "metadata": {
        "id": "pCIOKl-DkweW",
        "colab_type": "code",
        "colab": {
          "base_uri": "https://localhost:8080/",
          "height": 1000
        },
        "outputId": "5951b4eb-c510-40ac-9a93-12676381ec94"
      },
      "source": [
        "testGeo[['totaltested','updatedon','ST_NM','geometry']]"
      ],
      "execution_count": 122,
      "outputs": [
        {
          "output_type": "execute_result",
          "data": {
            "text/html": [
              "<div>\n",
              "<style scoped>\n",
              "    .dataframe tbody tr th:only-of-type {\n",
              "        vertical-align: middle;\n",
              "    }\n",
              "\n",
              "    .dataframe tbody tr th {\n",
              "        vertical-align: top;\n",
              "    }\n",
              "\n",
              "    .dataframe thead th {\n",
              "        text-align: right;\n",
              "    }\n",
              "</style>\n",
              "<table border=\"1\" class=\"dataframe\">\n",
              "  <thead>\n",
              "    <tr style=\"text-align: right;\">\n",
              "      <th></th>\n",
              "      <th>totaltested</th>\n",
              "      <th>updatedon</th>\n",
              "      <th>ST_NM</th>\n",
              "      <th>geometry</th>\n",
              "    </tr>\n",
              "  </thead>\n",
              "  <tbody>\n",
              "    <tr>\n",
              "      <th>0</th>\n",
              "      <td>2848</td>\n",
              "      <td>27/04/2020</td>\n",
              "      <td>Andaman and Nicobar Islands</td>\n",
              "      <td>None</td>\n",
              "    </tr>\n",
              "    <tr>\n",
              "      <th>1</th>\n",
              "      <td>88061</td>\n",
              "      <td>29/04/2020</td>\n",
              "      <td>Andhra Pradesh</td>\n",
              "      <td>MULTIPOLYGON (((81.10380 17.82269, 81.10610 17...</td>\n",
              "    </tr>\n",
              "    <tr>\n",
              "      <th>2</th>\n",
              "      <td></td>\n",
              "      <td>30/04/2020</td>\n",
              "      <td>Arunachal Pradesh</td>\n",
              "      <td>None</td>\n",
              "    </tr>\n",
              "    <tr>\n",
              "      <th>3</th>\n",
              "      <td>8117</td>\n",
              "      <td>27/04/2020</td>\n",
              "      <td>Assam</td>\n",
              "      <td>MULTIPOLYGON (((89.74323 26.30362, 89.74290 26...</td>\n",
              "    </tr>\n",
              "    <tr>\n",
              "      <th>4</th>\n",
              "      <td>21468</td>\n",
              "      <td>29/04/2020</td>\n",
              "      <td>Bihar</td>\n",
              "      <td>MULTIPOLYGON (((84.50720 24.26323, 84.50355 24...</td>\n",
              "    </tr>\n",
              "    <tr>\n",
              "      <th>5</th>\n",
              "      <td>1012</td>\n",
              "      <td>29/04/2020</td>\n",
              "      <td>Chandigarh</td>\n",
              "      <td>POLYGON ((76.84147 30.75996, 76.83599 30.73623...</td>\n",
              "    </tr>\n",
              "    <tr>\n",
              "      <th>6</th>\n",
              "      <td></td>\n",
              "      <td>29/04/2020</td>\n",
              "      <td>Chhattisgarh</td>\n",
              "      <td>POLYGON ((83.33532 24.09885, 83.35346 24.09627...</td>\n",
              "    </tr>\n",
              "    <tr>\n",
              "      <th>7</th>\n",
              "      <td>43370</td>\n",
              "      <td>28/04/2020</td>\n",
              "      <td>Delhi</td>\n",
              "      <td>None</td>\n",
              "    </tr>\n",
              "    <tr>\n",
              "      <th>8</th>\n",
              "      <td></td>\n",
              "      <td>30/04/2020</td>\n",
              "      <td>Goa</td>\n",
              "      <td>MULTIPOLYGON (((74.11918 14.75344, 74.11350 14...</td>\n",
              "    </tr>\n",
              "    <tr>\n",
              "      <th>9</th>\n",
              "      <td>56101</td>\n",
              "      <td>28/04/2020</td>\n",
              "      <td>Gujarat</td>\n",
              "      <td>MULTIPOLYGON (((71.70375 20.99958, 71.70375 20...</td>\n",
              "    </tr>\n",
              "    <tr>\n",
              "      <th>10</th>\n",
              "      <td>25527</td>\n",
              "      <td>29/04/2020</td>\n",
              "      <td>Haryana</td>\n",
              "      <td>POLYGON ((76.85065 30.87512, 76.86594 30.86691...</td>\n",
              "    </tr>\n",
              "    <tr>\n",
              "      <th>11</th>\n",
              "      <td>5391</td>\n",
              "      <td>28/04/2020</td>\n",
              "      <td>Himachal Pradesh</td>\n",
              "      <td>POLYGON ((76.79634 33.25490, 76.80351 33.25275...</td>\n",
              "    </tr>\n",
              "    <tr>\n",
              "      <th>12</th>\n",
              "      <td>16619</td>\n",
              "      <td>28/04/2020</td>\n",
              "      <td>Jammu and Kashmir</td>\n",
              "      <td>None</td>\n",
              "    </tr>\n",
              "    <tr>\n",
              "      <th>13</th>\n",
              "      <td>9408</td>\n",
              "      <td>28/04/2020</td>\n",
              "      <td>Jharkhand</td>\n",
              "      <td>POLYGON ((87.60582 25.31512, 87.61279 25.31184...</td>\n",
              "    </tr>\n",
              "    <tr>\n",
              "      <th>14</th>\n",
              "      <td>50512</td>\n",
              "      <td>28/04/2020</td>\n",
              "      <td>Karnataka</td>\n",
              "      <td>MULTIPOLYGON (((74.69694 13.32782, 74.69562 13...</td>\n",
              "    </tr>\n",
              "    <tr>\n",
              "      <th>15</th>\n",
              "      <td></td>\n",
              "      <td>30/04/2020</td>\n",
              "      <td>Kerala</td>\n",
              "      <td>POLYGON ((74.99575 12.79227, 75.00006 12.78777...</td>\n",
              "    </tr>\n",
              "    <tr>\n",
              "      <th>16</th>\n",
              "      <td></td>\n",
              "      <td>26/04/2020</td>\n",
              "      <td>Ladakh</td>\n",
              "      <td>None</td>\n",
              "    </tr>\n",
              "    <tr>\n",
              "      <th>17</th>\n",
              "      <td>31060</td>\n",
              "      <td>28/04/2020</td>\n",
              "      <td>Madhya Pradesh</td>\n",
              "      <td>MULTIPOLYGON (((74.17932 22.39059, 74.17776 22...</td>\n",
              "    </tr>\n",
              "    <tr>\n",
              "      <th>18</th>\n",
              "      <td>128726</td>\n",
              "      <td>29/04/2020</td>\n",
              "      <td>Maharashtra</td>\n",
              "      <td>MULTIPOLYGON (((73.46270 16.03710, 73.46178 16...</td>\n",
              "    </tr>\n",
              "    <tr>\n",
              "      <th>19</th>\n",
              "      <td>1382</td>\n",
              "      <td>28/04/2020</td>\n",
              "      <td>Meghalaya</td>\n",
              "      <td>POLYGON ((91.85632 26.10353, 91.86717 26.09906...</td>\n",
              "    </tr>\n",
              "    <tr>\n",
              "      <th>20</th>\n",
              "      <td>158</td>\n",
              "      <td>28/04/2020</td>\n",
              "      <td>Mizoram</td>\n",
              "      <td>POLYGON ((92.80022 24.41630, 92.80310 24.41603...</td>\n",
              "    </tr>\n",
              "    <tr>\n",
              "      <th>21</th>\n",
              "      <td>639</td>\n",
              "      <td>28/04/2020</td>\n",
              "      <td>Nagaland</td>\n",
              "      <td>POLYGON ((95.21458 26.93095, 95.21719 26.92818...</td>\n",
              "    </tr>\n",
              "    <tr>\n",
              "      <th>22</th>\n",
              "      <td></td>\n",
              "      <td>30/04/2020</td>\n",
              "      <td>Odisha</td>\n",
              "      <td>MULTIPOLYGON (((86.38937 19.96351, 86.38840 19...</td>\n",
              "    </tr>\n",
              "    <tr>\n",
              "      <th>23</th>\n",
              "      <td>2156</td>\n",
              "      <td>28/04/2020</td>\n",
              "      <td>Puducherry</td>\n",
              "      <td>MULTIPOLYGON (((79.76528 10.99681, 79.76963 10...</td>\n",
              "    </tr>\n",
              "    <tr>\n",
              "      <th>24</th>\n",
              "      <td>17021</td>\n",
              "      <td>28/04/2020</td>\n",
              "      <td>Punjab</td>\n",
              "      <td>POLYGON ((75.88469 32.48841, 75.90303 32.47169...</td>\n",
              "    </tr>\n",
              "    <tr>\n",
              "      <th>25</th>\n",
              "      <td>92506</td>\n",
              "      <td>28/04/2020</td>\n",
              "      <td>Rajasthan</td>\n",
              "      <td>POLYGON ((73.89849 29.97896, 73.90021 29.97140...</td>\n",
              "    </tr>\n",
              "    <tr>\n",
              "      <th>26</th>\n",
              "      <td>101874</td>\n",
              "      <td>28/04/2020</td>\n",
              "      <td>Tamil Nadu</td>\n",
              "      <td>MULTIPOLYGON (((78.19188 8.72730, 78.18996 8.7...</td>\n",
              "    </tr>\n",
              "    <tr>\n",
              "      <th>27</th>\n",
              "      <td>19063</td>\n",
              "      <td>28/04/2020</td>\n",
              "      <td>Telangana</td>\n",
              "      <td>POLYGON ((81.05614 17.79097, 81.05834 17.75464...</td>\n",
              "    </tr>\n",
              "    <tr>\n",
              "      <th>28</th>\n",
              "      <td>3215</td>\n",
              "      <td>22/04/2020</td>\n",
              "      <td>Tripura</td>\n",
              "      <td>POLYGON ((92.22108 24.50131, 92.22771 24.49862...</td>\n",
              "    </tr>\n",
              "    <tr>\n",
              "      <th>29</th>\n",
              "      <td>70307</td>\n",
              "      <td>28/04/2020</td>\n",
              "      <td>Uttar Pradesh</td>\n",
              "      <td>MULTIPOLYGON (((80.44802 24.99631, 80.44080 24...</td>\n",
              "    </tr>\n",
              "    <tr>\n",
              "      <th>30</th>\n",
              "      <td>5739</td>\n",
              "      <td>28/04/2020</td>\n",
              "      <td>Uttarakhand</td>\n",
              "      <td>POLYGON ((79.21047 31.34846, 79.21386 31.34680...</td>\n",
              "    </tr>\n",
              "    <tr>\n",
              "      <th>31</th>\n",
              "      <td>13223</td>\n",
              "      <td>28/04/2020</td>\n",
              "      <td>West Bengal</td>\n",
              "      <td>MULTIPOLYGON (((88.01861 21.57278, 88.01889 21...</td>\n",
              "    </tr>\n",
              "    <tr>\n",
              "      <th>32</th>\n",
              "      <td>NaN</td>\n",
              "      <td>NaN</td>\n",
              "      <td>Andaman &amp; Nicobar Island</td>\n",
              "      <td>MULTIPOLYGON (((93.71976 7.20707, 93.71909 7.2...</td>\n",
              "    </tr>\n",
              "    <tr>\n",
              "      <th>33</th>\n",
              "      <td>NaN</td>\n",
              "      <td>NaN</td>\n",
              "      <td>Arunanchal Pradesh</td>\n",
              "      <td>POLYGON ((96.16261 29.38078, 96.16860 29.37432...</td>\n",
              "    </tr>\n",
              "    <tr>\n",
              "      <th>34</th>\n",
              "      <td>NaN</td>\n",
              "      <td>NaN</td>\n",
              "      <td>Dadara &amp; Nagar Havelli</td>\n",
              "      <td>POLYGON ((73.20657 20.12216, 73.20797 20.10650...</td>\n",
              "    </tr>\n",
              "    <tr>\n",
              "      <th>35</th>\n",
              "      <td>NaN</td>\n",
              "      <td>NaN</td>\n",
              "      <td>Daman &amp; Diu</td>\n",
              "      <td>MULTIPOLYGON (((72.89335 20.44539, 72.89281 20...</td>\n",
              "    </tr>\n",
              "    <tr>\n",
              "      <th>36</th>\n",
              "      <td>NaN</td>\n",
              "      <td>NaN</td>\n",
              "      <td>Jammu &amp; Kashmir</td>\n",
              "      <td>POLYGON ((74.73451 37.02068, 74.73647 37.01937...</td>\n",
              "    </tr>\n",
              "    <tr>\n",
              "      <th>37</th>\n",
              "      <td>NaN</td>\n",
              "      <td>NaN</td>\n",
              "      <td>Lakshadweep</td>\n",
              "      <td>MULTIPOLYGON (((74.10131 11.20431, 74.09908 11...</td>\n",
              "    </tr>\n",
              "    <tr>\n",
              "      <th>38</th>\n",
              "      <td>NaN</td>\n",
              "      <td>NaN</td>\n",
              "      <td>Manipur</td>\n",
              "      <td>POLYGON ((94.57602 25.64221, 94.57487 25.63858...</td>\n",
              "    </tr>\n",
              "    <tr>\n",
              "      <th>39</th>\n",
              "      <td>NaN</td>\n",
              "      <td>NaN</td>\n",
              "      <td>NCT of Delhi</td>\n",
              "      <td>POLYGON ((77.09361 28.86940, 77.10973 28.86722...</td>\n",
              "    </tr>\n",
              "    <tr>\n",
              "      <th>40</th>\n",
              "      <td>NaN</td>\n",
              "      <td>NaN</td>\n",
              "      <td>Sikkim</td>\n",
              "      <td>POLYGON ((88.65381 28.09883, 88.66265 28.08956...</td>\n",
              "    </tr>\n",
              "  </tbody>\n",
              "</table>\n",
              "</div>"
            ],
            "text/plain": [
              "   totaltested  ...                                           geometry\n",
              "0         2848  ...                                               None\n",
              "1        88061  ...  MULTIPOLYGON (((81.10380 17.82269, 81.10610 17...\n",
              "2               ...                                               None\n",
              "3         8117  ...  MULTIPOLYGON (((89.74323 26.30362, 89.74290 26...\n",
              "4        21468  ...  MULTIPOLYGON (((84.50720 24.26323, 84.50355 24...\n",
              "5         1012  ...  POLYGON ((76.84147 30.75996, 76.83599 30.73623...\n",
              "6               ...  POLYGON ((83.33532 24.09885, 83.35346 24.09627...\n",
              "7        43370  ...                                               None\n",
              "8               ...  MULTIPOLYGON (((74.11918 14.75344, 74.11350 14...\n",
              "9        56101  ...  MULTIPOLYGON (((71.70375 20.99958, 71.70375 20...\n",
              "10       25527  ...  POLYGON ((76.85065 30.87512, 76.86594 30.86691...\n",
              "11        5391  ...  POLYGON ((76.79634 33.25490, 76.80351 33.25275...\n",
              "12       16619  ...                                               None\n",
              "13        9408  ...  POLYGON ((87.60582 25.31512, 87.61279 25.31184...\n",
              "14       50512  ...  MULTIPOLYGON (((74.69694 13.32782, 74.69562 13...\n",
              "15              ...  POLYGON ((74.99575 12.79227, 75.00006 12.78777...\n",
              "16              ...                                               None\n",
              "17       31060  ...  MULTIPOLYGON (((74.17932 22.39059, 74.17776 22...\n",
              "18      128726  ...  MULTIPOLYGON (((73.46270 16.03710, 73.46178 16...\n",
              "19        1382  ...  POLYGON ((91.85632 26.10353, 91.86717 26.09906...\n",
              "20         158  ...  POLYGON ((92.80022 24.41630, 92.80310 24.41603...\n",
              "21         639  ...  POLYGON ((95.21458 26.93095, 95.21719 26.92818...\n",
              "22              ...  MULTIPOLYGON (((86.38937 19.96351, 86.38840 19...\n",
              "23        2156  ...  MULTIPOLYGON (((79.76528 10.99681, 79.76963 10...\n",
              "24       17021  ...  POLYGON ((75.88469 32.48841, 75.90303 32.47169...\n",
              "25       92506  ...  POLYGON ((73.89849 29.97896, 73.90021 29.97140...\n",
              "26      101874  ...  MULTIPOLYGON (((78.19188 8.72730, 78.18996 8.7...\n",
              "27       19063  ...  POLYGON ((81.05614 17.79097, 81.05834 17.75464...\n",
              "28        3215  ...  POLYGON ((92.22108 24.50131, 92.22771 24.49862...\n",
              "29       70307  ...  MULTIPOLYGON (((80.44802 24.99631, 80.44080 24...\n",
              "30        5739  ...  POLYGON ((79.21047 31.34846, 79.21386 31.34680...\n",
              "31       13223  ...  MULTIPOLYGON (((88.01861 21.57278, 88.01889 21...\n",
              "32         NaN  ...  MULTIPOLYGON (((93.71976 7.20707, 93.71909 7.2...\n",
              "33         NaN  ...  POLYGON ((96.16261 29.38078, 96.16860 29.37432...\n",
              "34         NaN  ...  POLYGON ((73.20657 20.12216, 73.20797 20.10650...\n",
              "35         NaN  ...  MULTIPOLYGON (((72.89335 20.44539, 72.89281 20...\n",
              "36         NaN  ...  POLYGON ((74.73451 37.02068, 74.73647 37.01937...\n",
              "37         NaN  ...  MULTIPOLYGON (((74.10131 11.20431, 74.09908 11...\n",
              "38         NaN  ...  POLYGON ((94.57602 25.64221, 94.57487 25.63858...\n",
              "39         NaN  ...  POLYGON ((77.09361 28.86940, 77.10973 28.86722...\n",
              "40         NaN  ...  POLYGON ((88.65381 28.09883, 88.66265 28.08956...\n",
              "\n",
              "[41 rows x 4 columns]"
            ]
          },
          "metadata": {
            "tags": []
          },
          "execution_count": 122
        }
      ]
    },
    {
      "cell_type": "code",
      "metadata": {
        "id": "jb-eD8TNjntq",
        "colab_type": "code",
        "colab": {
          "base_uri": "https://localhost:8080/",
          "height": 374
        },
        "outputId": "d1b81103-afaa-416d-8216-389574440936"
      },
      "source": [
        "testGeo.plot(figsize=(18,10), column='totaltested', legend=True,cmap='RdYlGn');\n",
        "# for idx, row in testGeo.iterrows():\n",
        "#     plt.annotate(s=row['totaltested'].apply(int),xy=row['coords'], horizontalalignment='center')\n",
        " \n",
        "plt.title('Total Tested by State');"
      ],
      "execution_count": 114,
      "outputs": [
        {
          "output_type": "error",
          "ename": "TypeError",
          "evalue": "ignored",
          "traceback": [
            "\u001b[0;31m---------------------------------------------------------------------------\u001b[0m",
            "\u001b[0;31mTypeError\u001b[0m                                 Traceback (most recent call last)",
            "\u001b[0;32m<ipython-input-114-0354d865c1f4>\u001b[0m in \u001b[0;36m<module>\u001b[0;34m()\u001b[0m\n\u001b[0;32m----> 1\u001b[0;31m \u001b[0mtestGeo\u001b[0m\u001b[0;34m.\u001b[0m\u001b[0mplot\u001b[0m\u001b[0;34m(\u001b[0m\u001b[0mfigsize\u001b[0m\u001b[0;34m=\u001b[0m\u001b[0;34m(\u001b[0m\u001b[0;36m18\u001b[0m\u001b[0;34m,\u001b[0m\u001b[0;36m10\u001b[0m\u001b[0;34m)\u001b[0m\u001b[0;34m,\u001b[0m \u001b[0mcolumn\u001b[0m\u001b[0;34m=\u001b[0m\u001b[0;34m'totaltested'\u001b[0m\u001b[0;34m,\u001b[0m \u001b[0mlegend\u001b[0m\u001b[0;34m=\u001b[0m\u001b[0;32mTrue\u001b[0m\u001b[0;34m,\u001b[0m\u001b[0mcmap\u001b[0m\u001b[0;34m=\u001b[0m\u001b[0;34m'RdYlGn'\u001b[0m\u001b[0;34m)\u001b[0m\u001b[0;34m;\u001b[0m\u001b[0;34m\u001b[0m\u001b[0;34m\u001b[0m\u001b[0m\n\u001b[0m\u001b[1;32m      2\u001b[0m \u001b[0;31m# for idx, row in testGeo.iterrows():\u001b[0m\u001b[0;34m\u001b[0m\u001b[0;34m\u001b[0m\u001b[0;34m\u001b[0m\u001b[0m\n\u001b[1;32m      3\u001b[0m \u001b[0;31m#     plt.annotate(s=row['totaltested'].apply(int),xy=row['coords'], horizontalalignment='center')\u001b[0m\u001b[0;34m\u001b[0m\u001b[0;34m\u001b[0m\u001b[0;34m\u001b[0m\u001b[0m\n\u001b[1;32m      4\u001b[0m \u001b[0;34m\u001b[0m\u001b[0m\n\u001b[1;32m      5\u001b[0m \u001b[0mplt\u001b[0m\u001b[0;34m.\u001b[0m\u001b[0mtitle\u001b[0m\u001b[0;34m(\u001b[0m\u001b[0;34m'Total Tested by State'\u001b[0m\u001b[0;34m)\u001b[0m\u001b[0;34m;\u001b[0m\u001b[0;34m\u001b[0m\u001b[0;34m\u001b[0m\u001b[0m\n",
            "\u001b[0;32m/usr/local/lib/python3.6/dist-packages/pandas/plotting/_core.py\u001b[0m in \u001b[0;36m__call__\u001b[0;34m(self, *args, **kwargs)\u001b[0m\n\u001b[1;32m    845\u001b[0m                     \u001b[0mdata\u001b[0m\u001b[0;34m.\u001b[0m\u001b[0mcolumns\u001b[0m \u001b[0;34m=\u001b[0m \u001b[0mlabel_name\u001b[0m\u001b[0;34m\u001b[0m\u001b[0;34m\u001b[0m\u001b[0m\n\u001b[1;32m    846\u001b[0m \u001b[0;34m\u001b[0m\u001b[0m\n\u001b[0;32m--> 847\u001b[0;31m         \u001b[0;32mreturn\u001b[0m \u001b[0mplot_backend\u001b[0m\u001b[0;34m.\u001b[0m\u001b[0mplot\u001b[0m\u001b[0;34m(\u001b[0m\u001b[0mdata\u001b[0m\u001b[0;34m,\u001b[0m \u001b[0mkind\u001b[0m\u001b[0;34m=\u001b[0m\u001b[0mkind\u001b[0m\u001b[0;34m,\u001b[0m \u001b[0;34m**\u001b[0m\u001b[0mkwargs\u001b[0m\u001b[0;34m)\u001b[0m\u001b[0;34m\u001b[0m\u001b[0;34m\u001b[0m\u001b[0m\n\u001b[0m\u001b[1;32m    848\u001b[0m \u001b[0;34m\u001b[0m\u001b[0m\n\u001b[1;32m    849\u001b[0m     \u001b[0m__call__\u001b[0m\u001b[0;34m.\u001b[0m\u001b[0m__doc__\u001b[0m \u001b[0;34m=\u001b[0m \u001b[0m__doc__\u001b[0m\u001b[0;34m\u001b[0m\u001b[0;34m\u001b[0m\u001b[0m\n",
            "\u001b[0;32m/usr/local/lib/python3.6/dist-packages/pandas/plotting/_matplotlib/__init__.py\u001b[0m in \u001b[0;36mplot\u001b[0;34m(data, kind, **kwargs)\u001b[0m\n\u001b[1;32m     59\u001b[0m             \u001b[0mkwargs\u001b[0m\u001b[0;34m[\u001b[0m\u001b[0;34m\"ax\"\u001b[0m\u001b[0;34m]\u001b[0m \u001b[0;34m=\u001b[0m \u001b[0mgetattr\u001b[0m\u001b[0;34m(\u001b[0m\u001b[0max\u001b[0m\u001b[0;34m,\u001b[0m \u001b[0;34m\"left_ax\"\u001b[0m\u001b[0;34m,\u001b[0m \u001b[0max\u001b[0m\u001b[0;34m)\u001b[0m\u001b[0;34m\u001b[0m\u001b[0;34m\u001b[0m\u001b[0m\n\u001b[1;32m     60\u001b[0m     \u001b[0mplot_obj\u001b[0m \u001b[0;34m=\u001b[0m \u001b[0mPLOT_CLASSES\u001b[0m\u001b[0;34m[\u001b[0m\u001b[0mkind\u001b[0m\u001b[0;34m]\u001b[0m\u001b[0;34m(\u001b[0m\u001b[0mdata\u001b[0m\u001b[0;34m,\u001b[0m \u001b[0;34m**\u001b[0m\u001b[0mkwargs\u001b[0m\u001b[0;34m)\u001b[0m\u001b[0;34m\u001b[0m\u001b[0;34m\u001b[0m\u001b[0m\n\u001b[0;32m---> 61\u001b[0;31m     \u001b[0mplot_obj\u001b[0m\u001b[0;34m.\u001b[0m\u001b[0mgenerate\u001b[0m\u001b[0;34m(\u001b[0m\u001b[0;34m)\u001b[0m\u001b[0;34m\u001b[0m\u001b[0;34m\u001b[0m\u001b[0m\n\u001b[0m\u001b[1;32m     62\u001b[0m     \u001b[0mplot_obj\u001b[0m\u001b[0;34m.\u001b[0m\u001b[0mdraw\u001b[0m\u001b[0;34m(\u001b[0m\u001b[0;34m)\u001b[0m\u001b[0;34m\u001b[0m\u001b[0;34m\u001b[0m\u001b[0m\n\u001b[1;32m     63\u001b[0m     \u001b[0;32mreturn\u001b[0m \u001b[0mplot_obj\u001b[0m\u001b[0;34m.\u001b[0m\u001b[0mresult\u001b[0m\u001b[0;34m\u001b[0m\u001b[0;34m\u001b[0m\u001b[0m\n",
            "\u001b[0;32m/usr/local/lib/python3.6/dist-packages/pandas/plotting/_matplotlib/core.py\u001b[0m in \u001b[0;36mgenerate\u001b[0;34m(self)\u001b[0m\n\u001b[1;32m    259\u001b[0m     \u001b[0;32mdef\u001b[0m \u001b[0mgenerate\u001b[0m\u001b[0;34m(\u001b[0m\u001b[0mself\u001b[0m\u001b[0;34m)\u001b[0m\u001b[0;34m:\u001b[0m\u001b[0;34m\u001b[0m\u001b[0;34m\u001b[0m\u001b[0m\n\u001b[1;32m    260\u001b[0m         \u001b[0mself\u001b[0m\u001b[0;34m.\u001b[0m\u001b[0m_args_adjust\u001b[0m\u001b[0;34m(\u001b[0m\u001b[0;34m)\u001b[0m\u001b[0;34m\u001b[0m\u001b[0;34m\u001b[0m\u001b[0m\n\u001b[0;32m--> 261\u001b[0;31m         \u001b[0mself\u001b[0m\u001b[0;34m.\u001b[0m\u001b[0m_compute_plot_data\u001b[0m\u001b[0;34m(\u001b[0m\u001b[0;34m)\u001b[0m\u001b[0;34m\u001b[0m\u001b[0;34m\u001b[0m\u001b[0m\n\u001b[0m\u001b[1;32m    262\u001b[0m         \u001b[0mself\u001b[0m\u001b[0;34m.\u001b[0m\u001b[0m_setup_subplots\u001b[0m\u001b[0;34m(\u001b[0m\u001b[0;34m)\u001b[0m\u001b[0;34m\u001b[0m\u001b[0;34m\u001b[0m\u001b[0m\n\u001b[1;32m    263\u001b[0m         \u001b[0mself\u001b[0m\u001b[0;34m.\u001b[0m\u001b[0m_make_plot\u001b[0m\u001b[0;34m(\u001b[0m\u001b[0;34m)\u001b[0m\u001b[0;34m\u001b[0m\u001b[0;34m\u001b[0m\u001b[0m\n",
            "\u001b[0;32m/usr/local/lib/python3.6/dist-packages/pandas/plotting/_matplotlib/core.py\u001b[0m in \u001b[0;36m_compute_plot_data\u001b[0;34m(self)\u001b[0m\n\u001b[1;32m    408\u001b[0m         \u001b[0;31m# no non-numeric frames or series allowed\u001b[0m\u001b[0;34m\u001b[0m\u001b[0;34m\u001b[0m\u001b[0;34m\u001b[0m\u001b[0m\n\u001b[1;32m    409\u001b[0m         \u001b[0;32mif\u001b[0m \u001b[0mis_empty\u001b[0m\u001b[0;34m:\u001b[0m\u001b[0;34m\u001b[0m\u001b[0;34m\u001b[0m\u001b[0m\n\u001b[0;32m--> 410\u001b[0;31m             \u001b[0;32mraise\u001b[0m \u001b[0mTypeError\u001b[0m\u001b[0;34m(\u001b[0m\u001b[0;34m\"no numeric data to plot\"\u001b[0m\u001b[0;34m)\u001b[0m\u001b[0;34m\u001b[0m\u001b[0;34m\u001b[0m\u001b[0m\n\u001b[0m\u001b[1;32m    411\u001b[0m \u001b[0;34m\u001b[0m\u001b[0m\n\u001b[1;32m    412\u001b[0m         \u001b[0;31m# GH25587: cast ExtensionArray of pandas (IntegerArray, etc.) to\u001b[0m\u001b[0;34m\u001b[0m\u001b[0;34m\u001b[0m\u001b[0;34m\u001b[0m\u001b[0m\n",
            "\u001b[0;31mTypeError\u001b[0m: no numeric data to plot"
          ]
        }
      ]
    },
    {
      "cell_type": "code",
      "metadata": {
        "id": "n4smMM0J63LV",
        "colab_type": "code",
        "outputId": "cb7ff9a9-82b7-4c5e-a900-5efccafde51f",
        "colab": {
          "base_uri": "https://localhost:8080/",
          "height": 1000
        }
      },
      "source": [
        "geoFullData[['ST_NM', 'Decease%', 'Recover%', 'Active%']].sort_values(by='Active%', ascending=False)"
      ],
      "execution_count": 92,
      "outputs": [
        {
          "output_type": "execute_result",
          "data": {
            "text/html": [
              "<div>\n",
              "<style scoped>\n",
              "    .dataframe tbody tr th:only-of-type {\n",
              "        vertical-align: middle;\n",
              "    }\n",
              "\n",
              "    .dataframe tbody tr th {\n",
              "        vertical-align: top;\n",
              "    }\n",
              "\n",
              "    .dataframe thead th {\n",
              "        text-align: right;\n",
              "    }\n",
              "</style>\n",
              "<table border=\"1\" class=\"dataframe\">\n",
              "  <thead>\n",
              "    <tr style=\"text-align: right;\">\n",
              "      <th></th>\n",
              "      <th>ST_NM</th>\n",
              "      <th>Decease%</th>\n",
              "      <th>Recover%</th>\n",
              "      <th>Active%</th>\n",
              "    </tr>\n",
              "  </thead>\n",
              "  <tbody>\n",
              "    <tr>\n",
              "      <th>21</th>\n",
              "      <td>Mizoram</td>\n",
              "      <td>0.00</td>\n",
              "      <td>0.00</td>\n",
              "      <td>100.00</td>\n",
              "    </tr>\n",
              "    <tr>\n",
              "      <th>20</th>\n",
              "      <td>Meghalaya</td>\n",
              "      <td>8.33</td>\n",
              "      <td>0.00</td>\n",
              "      <td>91.67</td>\n",
              "    </tr>\n",
              "    <tr>\n",
              "      <th>9</th>\n",
              "      <td>Gujarat</td>\n",
              "      <td>4.80</td>\n",
              "      <td>11.50</td>\n",
              "      <td>83.70</td>\n",
              "    </tr>\n",
              "    <tr>\n",
              "      <th>3</th>\n",
              "      <td>Bihar</td>\n",
              "      <td>0.55</td>\n",
              "      <td>17.49</td>\n",
              "      <td>81.97</td>\n",
              "    </tr>\n",
              "    <tr>\n",
              "      <th>33</th>\n",
              "      <td>West Bengal</td>\n",
              "      <td>3.16</td>\n",
              "      <td>15.64</td>\n",
              "      <td>81.21</td>\n",
              "    </tr>\n",
              "    <tr>\n",
              "      <th>18</th>\n",
              "      <td>Maharashtra</td>\n",
              "      <td>4.28</td>\n",
              "      <td>14.90</td>\n",
              "      <td>80.82</td>\n",
              "    </tr>\n",
              "    <tr>\n",
              "      <th>17</th>\n",
              "      <td>Madhya Pradesh</td>\n",
              "      <td>5.07</td>\n",
              "      <td>15.63</td>\n",
              "      <td>79.30</td>\n",
              "    </tr>\n",
              "    <tr>\n",
              "      <th>13</th>\n",
              "      <td>Jharkhand</td>\n",
              "      <td>2.86</td>\n",
              "      <td>18.10</td>\n",
              "      <td>79.05</td>\n",
              "    </tr>\n",
              "    <tr>\n",
              "      <th>35</th>\n",
              "      <td>Andhra Pradesh</td>\n",
              "      <td>2.46</td>\n",
              "      <td>20.49</td>\n",
              "      <td>77.05</td>\n",
              "    </tr>\n",
              "    <tr>\n",
              "      <th>31</th>\n",
              "      <td>Uttar Pradesh</td>\n",
              "      <td>1.66</td>\n",
              "      <td>22.50</td>\n",
              "      <td>75.84</td>\n",
              "    </tr>\n",
              "    <tr>\n",
              "      <th>4</th>\n",
              "      <td>Chandigarh</td>\n",
              "      <td>0.00</td>\n",
              "      <td>30.36</td>\n",
              "      <td>69.64</td>\n",
              "    </tr>\n",
              "    <tr>\n",
              "      <th>12</th>\n",
              "      <td>Jammu &amp; Kashmir</td>\n",
              "      <td>1.42</td>\n",
              "      <td>31.15</td>\n",
              "      <td>67.43</td>\n",
              "    </tr>\n",
              "    <tr>\n",
              "      <th>34</th>\n",
              "      <td>Odisha</td>\n",
              "      <td>0.85</td>\n",
              "      <td>32.20</td>\n",
              "      <td>66.95</td>\n",
              "    </tr>\n",
              "    <tr>\n",
              "      <th>23</th>\n",
              "      <td>NCT of Delhi</td>\n",
              "      <td>1.63</td>\n",
              "      <td>32.53</td>\n",
              "      <td>65.84</td>\n",
              "    </tr>\n",
              "    <tr>\n",
              "      <th>26</th>\n",
              "      <td>Rajasthan</td>\n",
              "      <td>2.20</td>\n",
              "      <td>32.57</td>\n",
              "      <td>65.23</td>\n",
              "    </tr>\n",
              "    <tr>\n",
              "      <th>24</th>\n",
              "      <td>Puducherry</td>\n",
              "      <td>5.56</td>\n",
              "      <td>29.53</td>\n",
              "      <td>64.91</td>\n",
              "    </tr>\n",
              "    <tr>\n",
              "      <th>29</th>\n",
              "      <td>Telangana</td>\n",
              "      <td>2.48</td>\n",
              "      <td>37.07</td>\n",
              "      <td>60.46</td>\n",
              "    </tr>\n",
              "    <tr>\n",
              "      <th>14</th>\n",
              "      <td>Karnataka</td>\n",
              "      <td>3.82</td>\n",
              "      <td>39.58</td>\n",
              "      <td>56.60</td>\n",
              "    </tr>\n",
              "    <tr>\n",
              "      <th>0</th>\n",
              "      <td>Andaman &amp; Nicobar Island</td>\n",
              "      <td>0.00</td>\n",
              "      <td>45.45</td>\n",
              "      <td>54.55</td>\n",
              "    </tr>\n",
              "    <tr>\n",
              "      <th>28</th>\n",
              "      <td>Tamil Nadu</td>\n",
              "      <td>1.21</td>\n",
              "      <td>54.81</td>\n",
              "      <td>43.97</td>\n",
              "    </tr>\n",
              "    <tr>\n",
              "      <th>25</th>\n",
              "      <td>Punjab</td>\n",
              "      <td>0.00</td>\n",
              "      <td>62.50</td>\n",
              "      <td>37.50</td>\n",
              "    </tr>\n",
              "    <tr>\n",
              "      <th>32</th>\n",
              "      <td>Uttarakhand</td>\n",
              "      <td>0.00</td>\n",
              "      <td>62.96</td>\n",
              "      <td>37.04</td>\n",
              "    </tr>\n",
              "    <tr>\n",
              "      <th>11</th>\n",
              "      <td>Himachal Pradesh</td>\n",
              "      <td>5.00</td>\n",
              "      <td>65.00</td>\n",
              "      <td>30.00</td>\n",
              "    </tr>\n",
              "    <tr>\n",
              "      <th>10</th>\n",
              "      <td>Haryana</td>\n",
              "      <td>0.97</td>\n",
              "      <td>72.40</td>\n",
              "      <td>26.62</td>\n",
              "    </tr>\n",
              "    <tr>\n",
              "      <th>2</th>\n",
              "      <td>Assam</td>\n",
              "      <td>2.63</td>\n",
              "      <td>71.05</td>\n",
              "      <td>26.32</td>\n",
              "    </tr>\n",
              "    <tr>\n",
              "      <th>15</th>\n",
              "      <td>Kerala</td>\n",
              "      <td>0.82</td>\n",
              "      <td>73.87</td>\n",
              "      <td>25.31</td>\n",
              "    </tr>\n",
              "    <tr>\n",
              "      <th>5</th>\n",
              "      <td>Chhattisgarh</td>\n",
              "      <td>0.00</td>\n",
              "      <td>89.47</td>\n",
              "      <td>10.53</td>\n",
              "    </tr>\n",
              "    <tr>\n",
              "      <th>19</th>\n",
              "      <td>Manipur</td>\n",
              "      <td>0.00</td>\n",
              "      <td>100.00</td>\n",
              "      <td>0.00</td>\n",
              "    </tr>\n",
              "    <tr>\n",
              "      <th>1</th>\n",
              "      <td>Arunanchal Pradesh</td>\n",
              "      <td>0.00</td>\n",
              "      <td>100.00</td>\n",
              "      <td>0.00</td>\n",
              "    </tr>\n",
              "    <tr>\n",
              "      <th>8</th>\n",
              "      <td>Goa</td>\n",
              "      <td>0.00</td>\n",
              "      <td>100.00</td>\n",
              "      <td>0.00</td>\n",
              "    </tr>\n",
              "    <tr>\n",
              "      <th>30</th>\n",
              "      <td>Tripura</td>\n",
              "      <td>0.00</td>\n",
              "      <td>100.00</td>\n",
              "      <td>0.00</td>\n",
              "    </tr>\n",
              "    <tr>\n",
              "      <th>6</th>\n",
              "      <td>Dadara &amp; Nagar Havelli</td>\n",
              "      <td>NaN</td>\n",
              "      <td>NaN</td>\n",
              "      <td>NaN</td>\n",
              "    </tr>\n",
              "    <tr>\n",
              "      <th>7</th>\n",
              "      <td>Daman &amp; Diu</td>\n",
              "      <td>NaN</td>\n",
              "      <td>NaN</td>\n",
              "      <td>NaN</td>\n",
              "    </tr>\n",
              "    <tr>\n",
              "      <th>16</th>\n",
              "      <td>Lakshadweep</td>\n",
              "      <td>NaN</td>\n",
              "      <td>NaN</td>\n",
              "      <td>NaN</td>\n",
              "    </tr>\n",
              "    <tr>\n",
              "      <th>22</th>\n",
              "      <td>Nagaland</td>\n",
              "      <td>NaN</td>\n",
              "      <td>NaN</td>\n",
              "      <td>NaN</td>\n",
              "    </tr>\n",
              "    <tr>\n",
              "      <th>27</th>\n",
              "      <td>Sikkim</td>\n",
              "      <td>NaN</td>\n",
              "      <td>NaN</td>\n",
              "      <td>NaN</td>\n",
              "    </tr>\n",
              "  </tbody>\n",
              "</table>\n",
              "</div>"
            ],
            "text/plain": [
              "                       ST_NM  Decease%  Recover%  Active%\n",
              "21                   Mizoram      0.00      0.00   100.00\n",
              "20                 Meghalaya      8.33      0.00    91.67\n",
              "9                    Gujarat      4.80     11.50    83.70\n",
              "3                      Bihar      0.55     17.49    81.97\n",
              "33               West Bengal      3.16     15.64    81.21\n",
              "18               Maharashtra      4.28     14.90    80.82\n",
              "17            Madhya Pradesh      5.07     15.63    79.30\n",
              "13                 Jharkhand      2.86     18.10    79.05\n",
              "35            Andhra Pradesh      2.46     20.49    77.05\n",
              "31             Uttar Pradesh      1.66     22.50    75.84\n",
              "4                 Chandigarh      0.00     30.36    69.64\n",
              "12           Jammu & Kashmir      1.42     31.15    67.43\n",
              "34                    Odisha      0.85     32.20    66.95\n",
              "23              NCT of Delhi      1.63     32.53    65.84\n",
              "26                 Rajasthan      2.20     32.57    65.23\n",
              "24                Puducherry      5.56     29.53    64.91\n",
              "29                 Telangana      2.48     37.07    60.46\n",
              "14                 Karnataka      3.82     39.58    56.60\n",
              "0   Andaman & Nicobar Island      0.00     45.45    54.55\n",
              "28                Tamil Nadu      1.21     54.81    43.97\n",
              "25                    Punjab      0.00     62.50    37.50\n",
              "32               Uttarakhand      0.00     62.96    37.04\n",
              "11          Himachal Pradesh      5.00     65.00    30.00\n",
              "10                   Haryana      0.97     72.40    26.62\n",
              "2                      Assam      2.63     71.05    26.32\n",
              "15                    Kerala      0.82     73.87    25.31\n",
              "5               Chhattisgarh      0.00     89.47    10.53\n",
              "19                   Manipur      0.00    100.00     0.00\n",
              "1         Arunanchal Pradesh      0.00    100.00     0.00\n",
              "8                        Goa      0.00    100.00     0.00\n",
              "30                   Tripura      0.00    100.00     0.00\n",
              "6     Dadara & Nagar Havelli       NaN       NaN      NaN\n",
              "7                Daman & Diu       NaN       NaN      NaN\n",
              "16               Lakshadweep       NaN       NaN      NaN\n",
              "22                  Nagaland       NaN       NaN      NaN\n",
              "27                    Sikkim       NaN       NaN      NaN"
            ]
          },
          "metadata": {
            "tags": []
          },
          "execution_count": 92
        }
      ]
    },
    {
      "cell_type": "markdown",
      "metadata": {
        "id": "qT1TB1Qp63LY",
        "colab_type": "text"
      },
      "source": [
        "# Basic Time Series"
      ]
    },
    {
      "cell_type": "code",
      "metadata": {
        "id": "9R714oVz63LY",
        "colab_type": "code",
        "colab": {}
      },
      "source": [
        "from pylab import rcParams\n",
        "rcParams['figure.figsize'] = 18,8\n",
        "import statsmodels.api as sm\n",
        "import matplotlib\n",
        "plt.style.use('fivethirtyeight')\n",
        "matplotlib.rcParams['axes.labelsize'] = 14\n",
        "matplotlib.rcParams['xtick.labelsize'] = 12\n",
        "matplotlib.rcParams['ytick.labelsize'] = 12\n",
        "matplotlib.rcParams['text.color'] = 'k'"
      ],
      "execution_count": 0,
      "outputs": []
    },
    {
      "cell_type": "code",
      "metadata": {
        "id": "b8SkJRkv63La",
        "colab_type": "code",
        "colab": {}
      },
      "source": [
        "y = stateDfRecovered['ap'].apply(lambda x: int(x))\n",
        "y.index = pd.to_datetime(stateDfRecovered['date'])"
      ],
      "execution_count": 0,
      "outputs": []
    },
    {
      "cell_type": "code",
      "metadata": {
        "id": "aYQBnFc163Lc",
        "colab_type": "code",
        "outputId": "565c298e-9ebc-4da6-af48-4907a07491ca",
        "colab": {}
      },
      "source": [
        "y.plot()"
      ],
      "execution_count": 0,
      "outputs": [
        {
          "output_type": "execute_result",
          "data": {
            "text/plain": [
              "<matplotlib.axes._subplots.AxesSubplot at 0x1f04f6bbfd0>"
            ]
          },
          "metadata": {
            "tags": []
          },
          "execution_count": 65
        },
        {
          "output_type": "display_data",
          "data": {
            "image/png": "[encoded data removed]",
            "text/plain": [
              "<Figure size 1296x576 with 1 Axes>"
            ]
          },
          "metadata": {
            "tags": []
          }
        }
      ]
    },
    {
      "cell_type": "code",
      "metadata": {
        "id": "qfU28nYS63Lf",
        "colab_type": "code",
        "outputId": "7d42c8de-0a36-458d-9523-ecbd63cf7d92",
        "colab": {}
      },
      "source": [
        "\n",
        "#ARIMA\n",
        "decomposition = sm.tsa.seasonal_decompose(y, model='additive')\n",
        "fig = decomposition.plot()\n",
        "plt.show()"
      ],
      "execution_count": 0,
      "outputs": [
        {
          "output_type": "display_data",
          "data": {
            "image/png": "[encoded data removed]",
            "text/plain": [
              "<Figure size 1296x576 with 4 Axes>"
            ]
          },
          "metadata": {
            "tags": []
          }
        }
      ]
    },
    {
      "cell_type": "code",
      "metadata": {
        "id": "YS1jBbUr63Lg",
        "colab_type": "code",
        "outputId": "da9f7cb8-849b-4661-eb92-5b0c8045fbca",
        "colab": {}
      },
      "source": [
        "mod = sm.tsa.statespace.SARIMAX(y,\n",
        "                                order=(1, 1, 1),\n",
        "                                seasonal_order=(1, 1, 0, 12),\n",
        "                                enforce_stationarity=False,\n",
        "                                enforce_invertibility=False)\n",
        "results = mod.fit()\n",
        "print(results.summary().tables[1])"
      ],
      "execution_count": 0,
      "outputs": [
        {
          "output_type": "stream",
          "text": [
            "==============================================================================\n",
            "                 coef    std err          z      P>|z|      [0.025      0.975]\n",
            "------------------------------------------------------------------------------\n",
            "ar.L1         -0.3196      0.396     -0.807      0.420      -1.096       0.457\n",
            "ma.L1         -1.0000   6680.302     -0.000      1.000   -1.31e+04    1.31e+04\n",
            "ar.S.L12       2.9177      1.298      2.247      0.025       0.373       5.463\n",
            "sigma2         5.8800   3.93e+04      0.000      1.000    -7.7e+04     7.7e+04\n",
            "==============================================================================\n"
          ],
          "name": "stdout"
        },
        {
          "output_type": "stream",
          "text": [
            "C:\\Users\\phani\\AppData\\Local\\Continuum\\anaconda3\\lib\\site-packages\\statsmodels\\tsa\\base\\tsa_model.py:165: ValueWarning:\n",
            "\n",
            "No frequency information was provided, so inferred frequency D will be used.\n",
            "\n"
          ],
          "name": "stderr"
        }
      ]
    },
    {
      "cell_type": "code",
      "metadata": {
        "id": "COKojS5W63Li",
        "colab_type": "code",
        "outputId": "eea4d1db-ae43-4467-8f7e-cd68cc0f901c",
        "colab": {}
      },
      "source": [
        "results.plot_diagnostics(figsize=(16, 8))\n",
        "plt.show()"
      ],
      "execution_count": 0,
      "outputs": [
        {
          "output_type": "error",
          "ename": "ValueError",
          "evalue": "operands could not be broadcast together with shapes (9,) (7,) (9,) ",
          "traceback": [
            "\u001b[1;31m---------------------------------------------------------------------------\u001b[0m",
            "\u001b[1;31mValueError\u001b[0m                                Traceback (most recent call last)",
            "\u001b[1;32m<ipython-input-68-6cfeaa52b7c1>\u001b[0m in \u001b[0;36m<module>\u001b[1;34m\u001b[0m\n\u001b[1;32m----> 1\u001b[1;33m \u001b[0mresults\u001b[0m\u001b[1;33m.\u001b[0m\u001b[0mplot_diagnostics\u001b[0m\u001b[1;33m(\u001b[0m\u001b[0mfigsize\u001b[0m\u001b[1;33m=\u001b[0m\u001b[1;33m(\u001b[0m\u001b[1;36m16\u001b[0m\u001b[1;33m,\u001b[0m \u001b[1;36m8\u001b[0m\u001b[1;33m)\u001b[0m\u001b[1;33m)\u001b[0m\u001b[1;33m\u001b[0m\u001b[1;33m\u001b[0m\u001b[0m\n\u001b[0m\u001b[0;32m      2\u001b[0m \u001b[0mplt\u001b[0m\u001b[1;33m.\u001b[0m\u001b[0mshow\u001b[0m\u001b[1;33m(\u001b[0m\u001b[1;33m)\u001b[0m\u001b[1;33m\u001b[0m\u001b[1;33m\u001b[0m\u001b[0m\n",
            "\u001b[1;32m~\\AppData\\Local\\Continuum\\anaconda3\\lib\\site-packages\\statsmodels\\tsa\\statespace\\mlemodel.py\u001b[0m in \u001b[0;36mplot_diagnostics\u001b[1;34m(self, variable, lags, fig, figsize)\u001b[0m\n\u001b[0;32m   2663\u001b[0m         \u001b[0max\u001b[0m \u001b[1;33m=\u001b[0m \u001b[0mfig\u001b[0m\u001b[1;33m.\u001b[0m\u001b[0madd_subplot\u001b[0m\u001b[1;33m(\u001b[0m\u001b[1;36m224\u001b[0m\u001b[1;33m)\u001b[0m\u001b[1;33m\u001b[0m\u001b[1;33m\u001b[0m\u001b[0m\n\u001b[0;32m   2664\u001b[0m         \u001b[1;32mfrom\u001b[0m \u001b[0mstatsmodels\u001b[0m\u001b[1;33m.\u001b[0m\u001b[0mgraphics\u001b[0m\u001b[1;33m.\u001b[0m\u001b[0mtsaplots\u001b[0m \u001b[1;32mimport\u001b[0m \u001b[0mplot_acf\u001b[0m\u001b[1;33m\u001b[0m\u001b[1;33m\u001b[0m\u001b[0m\n\u001b[1;32m-> 2665\u001b[1;33m         \u001b[0mplot_acf\u001b[0m\u001b[1;33m(\u001b[0m\u001b[0mresid\u001b[0m\u001b[1;33m,\u001b[0m \u001b[0max\u001b[0m\u001b[1;33m=\u001b[0m\u001b[0max\u001b[0m\u001b[1;33m,\u001b[0m \u001b[0mlags\u001b[0m\u001b[1;33m=\u001b[0m\u001b[0mlags\u001b[0m\u001b[1;33m)\u001b[0m\u001b[1;33m\u001b[0m\u001b[1;33m\u001b[0m\u001b[0m\n\u001b[0m\u001b[0;32m   2666\u001b[0m         \u001b[0max\u001b[0m\u001b[1;33m.\u001b[0m\u001b[0mset_title\u001b[0m\u001b[1;33m(\u001b[0m\u001b[1;34m'Correlogram'\u001b[0m\u001b[1;33m)\u001b[0m\u001b[1;33m\u001b[0m\u001b[1;33m\u001b[0m\u001b[0m\n\u001b[0;32m   2667\u001b[0m \u001b[1;33m\u001b[0m\u001b[0m\n",
            "\u001b[1;32m~\\AppData\\Local\\Continuum\\anaconda3\\lib\\site-packages\\statsmodels\\graphics\\tsaplots.py\u001b[0m in \u001b[0;36mplot_acf\u001b[1;34m(x, ax, lags, alpha, use_vlines, unbiased, fft, title, zero, vlines_kwargs, **kwargs)\u001b[0m\n\u001b[0;32m    151\u001b[0m     \u001b[1;32melse\u001b[0m\u001b[1;33m:\u001b[0m\u001b[1;33m\u001b[0m\u001b[1;33m\u001b[0m\u001b[0m\n\u001b[0;32m    152\u001b[0m         acf_x, confint = acf(x, nlags=nlags, alpha=alpha, fft=fft,\n\u001b[1;32m--> 153\u001b[1;33m                              unbiased=unbiased)\n\u001b[0m\u001b[0;32m    154\u001b[0m \u001b[1;33m\u001b[0m\u001b[0m\n\u001b[0;32m    155\u001b[0m     _plot_corr(ax, title, acf_x, confint, lags, irregular, use_vlines,\n",
            "\u001b[1;32m~\\AppData\\Local\\Continuum\\anaconda3\\lib\\site-packages\\statsmodels\\tsa\\stattools.py\u001b[0m in \u001b[0;36macf\u001b[1;34m(x, unbiased, nlags, qstat, fft, alpha, missing)\u001b[0m\n\u001b[0;32m    551\u001b[0m         \u001b[0mvaracf\u001b[0m\u001b[1;33m[\u001b[0m\u001b[1;36m0\u001b[0m\u001b[1;33m]\u001b[0m \u001b[1;33m=\u001b[0m \u001b[1;36m0\u001b[0m\u001b[1;33m\u001b[0m\u001b[1;33m\u001b[0m\u001b[0m\n\u001b[0;32m    552\u001b[0m         \u001b[0mvaracf\u001b[0m\u001b[1;33m[\u001b[0m\u001b[1;36m1\u001b[0m\u001b[1;33m]\u001b[0m \u001b[1;33m=\u001b[0m \u001b[1;36m1.\u001b[0m \u001b[1;33m/\u001b[0m \u001b[0mnobs\u001b[0m\u001b[1;33m\u001b[0m\u001b[1;33m\u001b[0m\u001b[0m\n\u001b[1;32m--> 553\u001b[1;33m         \u001b[0mvaracf\u001b[0m\u001b[1;33m[\u001b[0m\u001b[1;36m2\u001b[0m\u001b[1;33m:\u001b[0m\u001b[1;33m]\u001b[0m \u001b[1;33m*=\u001b[0m \u001b[1;36m1\u001b[0m \u001b[1;33m+\u001b[0m \u001b[1;36m2\u001b[0m \u001b[1;33m*\u001b[0m \u001b[0mnp\u001b[0m\u001b[1;33m.\u001b[0m\u001b[0mcumsum\u001b[0m\u001b[1;33m(\u001b[0m\u001b[0macf\u001b[0m\u001b[1;33m[\u001b[0m\u001b[1;36m1\u001b[0m\u001b[1;33m:\u001b[0m\u001b[1;33m-\u001b[0m\u001b[1;36m1\u001b[0m\u001b[1;33m]\u001b[0m\u001b[1;33m**\u001b[0m\u001b[1;36m2\u001b[0m\u001b[1;33m)\u001b[0m\u001b[1;33m\u001b[0m\u001b[1;33m\u001b[0m\u001b[0m\n\u001b[0m\u001b[0;32m    554\u001b[0m         \u001b[0minterval\u001b[0m \u001b[1;33m=\u001b[0m \u001b[0mstats\u001b[0m\u001b[1;33m.\u001b[0m\u001b[0mnorm\u001b[0m\u001b[1;33m.\u001b[0m\u001b[0mppf\u001b[0m\u001b[1;33m(\u001b[0m\u001b[1;36m1\u001b[0m \u001b[1;33m-\u001b[0m \u001b[0malpha\u001b[0m \u001b[1;33m/\u001b[0m \u001b[1;36m2.\u001b[0m\u001b[1;33m)\u001b[0m \u001b[1;33m*\u001b[0m \u001b[0mnp\u001b[0m\u001b[1;33m.\u001b[0m\u001b[0msqrt\u001b[0m\u001b[1;33m(\u001b[0m\u001b[0mvaracf\u001b[0m\u001b[1;33m)\u001b[0m\u001b[1;33m\u001b[0m\u001b[1;33m\u001b[0m\u001b[0m\n\u001b[0;32m    555\u001b[0m         \u001b[0mconfint\u001b[0m \u001b[1;33m=\u001b[0m \u001b[0mnp\u001b[0m\u001b[1;33m.\u001b[0m\u001b[0marray\u001b[0m\u001b[1;33m(\u001b[0m\u001b[0mlzip\u001b[0m\u001b[1;33m(\u001b[0m\u001b[0macf\u001b[0m \u001b[1;33m-\u001b[0m \u001b[0minterval\u001b[0m\u001b[1;33m,\u001b[0m \u001b[0macf\u001b[0m \u001b[1;33m+\u001b[0m \u001b[0minterval\u001b[0m\u001b[1;33m)\u001b[0m\u001b[1;33m)\u001b[0m\u001b[1;33m\u001b[0m\u001b[1;33m\u001b[0m\u001b[0m\n",
            "\u001b[1;31mValueError\u001b[0m: operands could not be broadcast together with shapes (9,) (7,) (9,) "
          ]
        },
        {
          "output_type": "display_data",
          "data": {
            "image/png": "[encoded data removed]",
            "text/plain": [
              "<Figure size 1152x576 with 4 Axes>"
            ]
          },
          "metadata": {
            "tags": []
          }
        }
      ]
    },
    {
      "cell_type": "code",
      "metadata": {
        "id": "lhqKu03563Lk",
        "colab_type": "code",
        "outputId": "22cbde92-9d29-44df-e8e7-622350355e34",
        "colab": {}
      },
      "source": [
        "y_log = np.log(y)"
      ],
      "execution_count": 0,
      "outputs": [
        {
          "output_type": "stream",
          "text": [
            "C:\\Users\\phani\\AppData\\Local\\Continuum\\anaconda3\\lib\\site-packages\\pandas\\core\\series.py:679: RuntimeWarning:\n",
            "\n",
            "divide by zero encountered in log\n",
            "\n"
          ],
          "name": "stderr"
        }
      ]
    },
    {
      "cell_type": "code",
      "metadata": {
        "id": "vjwsvcVG63Lm",
        "colab_type": "code",
        "colab": {}
      },
      "source": [
        "y_roll = y.rolling(4).mean()"
      ],
      "execution_count": 0,
      "outputs": []
    },
    {
      "cell_type": "code",
      "metadata": {
        "id": "IO_zdppo63Lo",
        "colab_type": "code",
        "outputId": "4f403660-caad-41af-c88b-f3c4c3ae6bf5",
        "colab": {}
      },
      "source": [
        "y.plot()\n",
        "y_roll.plot()"
      ],
      "execution_count": 0,
      "outputs": [
        {
          "output_type": "execute_result",
          "data": {
            "text/plain": [
              "<matplotlib.axes._subplots.AxesSubplot at 0x1f04d5ddda0>"
            ]
          },
          "metadata": {
            "tags": []
          },
          "execution_count": 85
        },
        {
          "output_type": "display_data",
          "data": {
            "image/png": "[encoded data removed]",
            "text/plain": [
              "<Figure size 1296x576 with 1 Axes>"
            ]
          },
          "metadata": {
            "tags": []
          }
        }
      ]
    },
    {
      "cell_type": "code",
      "metadata": {
        "id": "tIc6l0VK63Lp",
        "colab_type": "code",
        "colab": {}
      },
      "source": [
        ""
      ],
      "execution_count": 0,
      "outputs": []
    }
  ]
}